{
 "cells": [
  {
   "cell_type": "markdown",
   "id": "e73335e4-a81d-457c-9eee-b224c6c31731",
   "metadata": {},
   "source": [
    "# Download JWST NIRSpec MOS data from MAST\n",
    "\n",
    "https://github.com/spacetelescope/dat_pyinthesky/blob/main/jdat_notebooks/NIRSpec_MAST_Query/NIRSpec_MAST_Query.ipynb\n",
    "\n",
    "https://astroquery.readthedocs.io/en/latest/mast/mast.html#observation-criteria-queries\n",
    "\n",
    "https://mast.stsci.edu/api/v0/_c_a_o_mfields.html\n",
    "\n",
    "### ERO program 2736: SMACS0723\n",
    "\n",
    "https://webbtelescope.org/contents/news-releases/2022/news-2022-035\n",
    "\n",
    "Observations:\n",
    "* two pointings: s007, s008  \n",
    "* G235M & G395M\n",
    "* 3 slitlet nods x 2 integrations x 20 groups NRSIRS2 = 8841 s exposure time = 2.5 hours\n"
   ]
  },
  {
   "cell_type": "code",
   "execution_count": 1,
   "id": "38c331cc-200f-459b-aff6-a52a66e4e6b9",
   "metadata": {},
   "outputs": [
    {
     "name": "stdout",
     "output_type": "stream",
     "text": [
      "astroquery version 0.4.6\n"
     ]
    }
   ],
   "source": [
    "import astroquery\n",
    "print('astroquery version', astroquery.__version__)\n",
    "from astroquery.mast import Observations, Mast\n",
    "\n",
    "from astropy.table import Table, vstack, unique\n",
    "import os\n",
    "import numpy as np"
   ]
  },
  {
   "cell_type": "markdown",
   "id": "8fddcf8a-6e4b-49ae-bb4f-42bdbc30df7e",
   "metadata": {},
   "source": [
    "https://jwst-pipeline.readthedocs.io/en/latest/jwst/data_products/file_naming.html"
   ]
  },
  {
   "cell_type": "code",
   "execution_count": 2,
   "id": "848b716e-d30f-49e1-9699-2df3ee1d2ba6",
   "metadata": {},
   "outputs": [],
   "source": [
    "def download_jwst_files(filenames, download_dir, mast_dir='mast:jwst/product'):\n",
    "    # Download data\n",
    "    # https://astroquery.readthedocs.io/en/latest/mast/mast_obsquery.html#downloading-data\n",
    "    #manifest = Observations.download_products(chosen_obsIDs, download_dir=DOWNLOAD_DIR)  # , flat=True\n",
    "\n",
    "    downloaded_files = []\n",
    "    os.makedirs(download_dir, exist_ok=True)\n",
    "    for filename in filenames:\n",
    "        mast_path  = os.path.join(mast_dir,     filename)\n",
    "        local_path = os.path.join(download_dir, filename)\n",
    "        Observations.download_file(mast_path,   local_path=local_path)\n",
    "        downloaded_files.append(local_path)\n",
    "\n",
    "    return downloaded_files"
   ]
  },
  {
   "cell_type": "raw",
   "id": "f6cc8a65-4892-404e-8c18-3a3ee4544d8b",
   "metadata": {},
   "source": [
    "JWST filenames:\n",
    "\n",
    "p = program ID\n",
    "o = observation\n",
    "v = visit\n",
    "g = group\n",
    "s: 1=prime; 2-5=parallel\n",
    "a = activity (base 36)\n",
    "e = exposure\n",
    "\n",
    "jwpppppooovvv_ggsaa_eeeee\n",
    "jw02736007001_03103_00001_nrs1_rate.fits\n",
    "\n",
    "jwppppp ooo vvv ggsaa eeeee\n",
    "jw02736 007 001 03103 00001_nrs1_rate.fits"
   ]
  },
  {
   "cell_type": "raw",
   "id": "b3c80551-785c-443c-b8b8-d15d52d8c418",
   "metadata": {},
   "source": [
    "extractions of individual objects:\n",
    "\n",
    "jwppppp  ooo  sssss \n",
    "jw01345-o064_s02904_nirspec_f100lp-g140m_x1d.fits\n",
    "jw01345-o064_s02904_nirspec_f100lp-g140m_s2d.fits"
   ]
  },
  {
   "cell_type": "markdown",
   "id": "48efde4f-5b30-48eb-9c4a-7af077d0055a",
   "metadata": {},
   "source": [
    "# Start here"
   ]
  },
  {
   "cell_type": "markdown",
   "id": "f8ca26b2-2848-4076-944f-2189c87f8e36",
   "metadata": {},
   "source": [
    "## MAST query files from this JWST program"
   ]
  },
  {
   "cell_type": "markdown",
   "id": "c166b5d5-43e2-496d-a780-a81d3f9da625",
   "metadata": {},
   "source": [
    "https://astroquery.readthedocs.io/en/latest/api/astroquery.mast.ObservationsClass.html"
   ]
  },
  {
   "cell_type": "code",
   "execution_count": 4,
   "id": "13965232-ead4-4b32-89d2-68acbdd2e3ec",
   "metadata": {},
   "outputs": [
    {
     "data": {
      "text/html": [
       "<div><i>Table length=34</i>\n",
       "<table id=\"table5163805840\" class=\"table-striped table-bordered table-condensed\">\n",
       "<thead><tr><th>Column Name</th><th>Column Label</th><th>Data Type</th><th>Units</th><th>Description</th><th>Examples/Valid Values</th></tr></thead>\n",
       "<thead><tr><th>str21</th><th>str25</th><th>str7</th><th>str10</th><th>str72</th><th>str116</th></tr></thead>\n",
       "<tr><td>intentType</td><td>Observation Type</td><td>string</td><td></td><td>Whether observation is for science or calibration.</td><td>Valid values: science, calibration</td></tr>\n",
       "<tr><td>obs_collection</td><td>Mission</td><td>string</td><td></td><td>Collection</td><td>E.g. SWIFT, PS1, HST, IUE</td></tr>\n",
       "<tr><td>provenance_name</td><td>Provenance Name</td><td>string</td><td></td><td>Provenance name, or source of data</td><td>E.g. TASOC, CALSTIS, PS1</td></tr>\n",
       "<tr><td>instrument_name</td><td>Instrument</td><td>string</td><td></td><td>Instrument Name</td><td>E.g. WFPC2/WFC, UVOT, STIS/CCD</td></tr>\n",
       "<tr><td>project</td><td>Project</td><td>string</td><td></td><td>Processing project</td><td>E.g. HST, HLA, EUVE, hlsp_legus</td></tr>\n",
       "<tr><td>filters</td><td>Filters</td><td>string</td><td></td><td>Instrument filters</td><td>F469N, NUV, FUV, LOW DISP, MIRROR</td></tr>\n",
       "<tr><td>wavelength_region</td><td>Waveband</td><td>string</td><td></td><td>Energy Band</td><td>EUV, XRAY, OPTICAL</td></tr>\n",
       "<tr><td>target_name</td><td>Target Name</td><td>string</td><td></td><td>Target Name</td><td>Ex. COMET-67P-CHURYUMOV-GER-UPDATE</td></tr>\n",
       "<tr><td>target_classification</td><td>Target Classification</td><td>string</td><td></td><td>Type of target</td><td>Ex. COMET;COMET BEING ORBITED BY THE ROSETTA SPACECRAFT;SOLAR SYSTEM</td></tr>\n",
       "<tr><td>obs_id</td><td>Observation ID</td><td>string</td><td></td><td>Observation identifier, given by mission</td><td>U24Z0101T, N4QF18030</td></tr>\n",
       "<tr><td>s_ra</td><td>RA</td><td>float</td><td>deg</td><td>Observation Right Ascension</td><td>May be displayed in the Portal as hh:mm:ss.sss, but should be searched as decimal</td></tr>\n",
       "<tr><td>s_dec</td><td>Dec</td><td>float</td><td>deg</td><td>Observation Declination</td><td>May be displayed in the Portal as hh:mm:ss.sss, but should be searched as decimal</td></tr>\n",
       "<tr><td>proposal_id</td><td>Proposal ID</td><td>string</td><td></td><td>Proposal ID</td><td>E.g. EGCJC, 11360, 9401</td></tr>\n",
       "<tr><td>proposal_pi</td><td>Principal Investigator</td><td>string</td><td></td><td>Principal investigator&apos;s last name</td><td>Chander, Chu, Malkin</td></tr>\n",
       "<tr><td>obs_title</td><td>Observation Title</td><td>string</td><td></td><td>Observation description from proposal</td><td>Age-dating Star Clusters in M101</td></tr>\n",
       "<tr><td>dataproduct_type</td><td>Product Type</td><td>string</td><td></td><td>Type of product</td><td>Valid values: IMAGE, SPECTRUM, SED, TIMESERIES, VISIBILITY, EVENTLIST, CUBE, CATALOG, ENGINEERING, NULL</td></tr>\n",
       "<tr><td>calib_level</td><td>Calibration Level</td><td>integer</td><td></td><td>Calibration level</td><td>0 = raw, 1 = uncalibrated, 2 = calibrated, 3 = science product, 4 = contributed science product</td></tr>\n",
       "<tr><td>t_min</td><td>Start Time</td><td>float</td><td>MJD</td><td>Observation start datetime</td><td>May be displayed in the Portal as YYY-MM-DD HH:MM, but should be searched as MJD</td></tr>\n",
       "<tr><td>t_max</td><td>End Time</td><td>float</td><td>MJD</td><td>Observation end datetime</td><td>May be displayed in the Portal as YYY-MM-DD HH:MM, but should be searched as MJD</td></tr>\n",
       "<tr><td>t_obs_release</td><td>Release Date</td><td>float</td><td>MJD</td><td>Dataset release date</td><td>May be displayed in the Portal as YYY-MM-DD HH:MM, but should be searched as MJD</td></tr>\n",
       "<tr><td>t_exptime</td><td>Exposure Length</td><td>float</td><td>sec</td><td>Exposure time</td><td></td></tr>\n",
       "<tr><td>em_min</td><td>Min. Wavelength</td><td>float</td><td>nm</td><td>Minimum Wavelength</td><td></td></tr>\n",
       "<tr><td>em_max</td><td>Max. Wavelength</td><td>float</td><td>nm</td><td>Maximum Wavelength</td><td></td></tr>\n",
       "<tr><td>objID</td><td>Object ID</td><td>integer</td><td></td><td>Plane ID of observation at given calibration level</td><td>Long integer, e.g. 2012969445</td></tr>\n",
       "<tr><td>s_region</td><td>s_region</td><td>string</td><td>ICRS Shape</td><td>STC/S Footprint</td><td>Will be ICRS circle or polygon. E.g. CIRCLE ICRS 17.71740689 -58.40043015 0.625</td></tr>\n",
       "<tr><td>jpegURL</td><td>jpegURL</td><td>string</td><td></td><td>Preview Image URL</td><td>https://archive.stsci.edu/hst/previews/N4QF/N4QF18090.jpg</td></tr>\n",
       "<tr><td>distance</td><td>Distance (&quot;)</td><td>float</td><td>arcsec</td><td>Angular separation between searched coordinates and center of obsevation</td><td></td></tr>\n",
       "<tr><td>obsid</td><td>Product Group ID</td><td>integer</td><td></td><td>Database identifier for obs_id</td><td>Long integer, e.g. 2007590987</td></tr>\n",
       "<tr><td>dataRights</td><td>Data Rights</td><td>string</td><td></td><td>Data Rights</td><td>valid values: public,exclusive_access,restricted</td></tr>\n",
       "<tr><td>mtFlag</td><td>Moving Target</td><td>boolean</td><td></td><td>Moving Target Flag</td><td>If True, observation contains a moving target, if False or absent observation may or may not contain a moving target</td></tr>\n",
       "<tr><td>srcDen</td><td>Number of Catalog Objects</td><td>float</td><td></td><td>Number of cataloged objects found in observation</td><td></td></tr>\n",
       "<tr><td>dataURL</td><td>Data URL</td><td>string</td><td></td><td>Data URL</td><td></td></tr>\n",
       "<tr><td>proposal_type</td><td>Proposal Type</td><td>string</td><td></td><td>Type of telescope proposal</td><td>Eg. 3PI, GO, GO/DD, HLA, GII, AIS</td></tr>\n",
       "<tr><td>sequence_number</td><td>Sequence Number</td><td>integer</td><td></td><td>Sequence number, e.g. Kepler quarter or TESS sector</td><td></td></tr>\n",
       "</table></div>"
      ],
      "text/plain": [
       "<Table length=34>\n",
       "     Column Name      ...\n",
       "        str21         ...\n",
       "--------------------- ...\n",
       "           intentType ...\n",
       "       obs_collection ...\n",
       "      provenance_name ...\n",
       "      instrument_name ...\n",
       "              project ...\n",
       "              filters ...\n",
       "    wavelength_region ...\n",
       "          target_name ...\n",
       "target_classification ...\n",
       "               obs_id ...\n",
       "                 s_ra ...\n",
       "                s_dec ...\n",
       "          proposal_id ...\n",
       "          proposal_pi ...\n",
       "            obs_title ...\n",
       "     dataproduct_type ...\n",
       "          calib_level ...\n",
       "                t_min ...\n",
       "                t_max ...\n",
       "        t_obs_release ...\n",
       "            t_exptime ...\n",
       "               em_min ...\n",
       "               em_max ...\n",
       "                objID ...\n",
       "             s_region ...\n",
       "              jpegURL ...\n",
       "             distance ...\n",
       "                obsid ...\n",
       "           dataRights ...\n",
       "               mtFlag ...\n",
       "               srcDen ...\n",
       "              dataURL ...\n",
       "        proposal_type ...\n",
       "      sequence_number ..."
      ]
     },
     "execution_count": 4,
     "metadata": {},
     "output_type": "execute_result"
    }
   ],
   "source": [
    "Observations.get_metadata('observations')  # list all criteria that may be used in query_criteria below"
   ]
  },
  {
   "cell_type": "code",
   "execution_count": 7,
   "id": "f657e9cc-b542-4261-b7af-ffbca1dadf7d",
   "metadata": {},
   "outputs": [],
   "source": [
    "obs_table = Observations.query_criteria(obs_collection = 'JWST', \n",
    "                                        proposal_id = 2736,  # program number 2736: ERO SMACS0723\n",
    "                                        instrument_name = 'NIRSPEC/MSA',\n",
    "                                        filters = 'g395m',\n",
    "                                        dataproduct_type = 'spectrum',\n",
    "                                       )\n",
    "\n",
    "products_list = Observations.get_product_list(obs_table)  # all output products including images, catalogs, etc."
   ]
  },
  {
   "cell_type": "code",
   "execution_count": 8,
   "id": "abaf5201-52ee-4d80-8638-ab19c5a54bd4",
   "metadata": {},
   "outputs": [
    {
     "data": {
      "text/html": [
       "<div><i>Table length=209791</i>\n",
       "<table id=\"table5206730704\" class=\"table-striped table-bordered table-condensed\">\n",
       "<thead><tr><th>obsID</th><th>obs_collection</th><th>dataproduct_type</th><th>obs_id</th><th>description</th><th>type</th><th>dataURI</th><th>productType</th><th>productGroupDescription</th><th>productSubGroupDescription</th><th>productDocumentationURL</th><th>project</th><th>prvversion</th><th>proposal_id</th><th>productFilename</th><th>size</th><th>parent_obsid</th><th>dataRights</th><th>calib_level</th></tr></thead>\n",
       "<thead><tr><th>str9</th><th>str4</th><th>str8</th><th>str40</th><th>str71</th><th>str1</th><th>str70</th><th>str9</th><th>str28</th><th>str8</th><th>str1</th><th>str7</th><th>str6</th><th>str4</th><th>str52</th><th>int64</th><th>str9</th><th>str6</th><th>int64</th></tr></thead>\n",
       "<tr><td>100975615</td><td>JWST</td><td>spectrum</td><td>jw02736-o007_s00001_nirspec_f290lp-g395m</td><td>source/target (L3) : association generator</td><td>D</td><td>mast:JWST/product/jw02736-o007_20231116t144653_spec3_00001_asn.json</td><td>INFO</td><td>Minimum Recommended Products</td><td>ASN</td><td>--</td><td>CALJWST</td><td>1.11.4</td><td>2736</td><td>jw02736-o007_20231116t144653_spec3_00001_asn.json</td><td>5501</td><td>100975615</td><td>PUBLIC</td><td>3</td></tr>\n",
       "<tr><td>100975615</td><td>JWST</td><td>spectrum</td><td>jw02736-o007_s00001_nirspec_f290lp-g395m</td><td>source/target (L3) : association pool</td><td>D</td><td>mast:JWST/product/jw02736_20231116t144653_pool.csv</td><td>INFO</td><td>Minimum Recommended Products</td><td>POOL</td><td>--</td><td>CALJWST</td><td>1.11.4</td><td>2736</td><td>jw02736_20231116t144653_pool.csv</td><td>177115</td><td>100975615</td><td>PUBLIC</td><td>3</td></tr>\n",
       "<tr><td>100975615</td><td>JWST</td><td>spectrum</td><td>jw02736-o007_s00001_nirspec_f290lp-g395m</td><td>Preview-Full</td><td>D</td><td>mast:JWST/product/jw02736-o007_s00001_nirspec_f290lp-g395m_cal.jpg</td><td>PREVIEW</td><td>--</td><td>--</td><td>--</td><td>CALJWST</td><td>1.11.4</td><td>2736</td><td>jw02736-o007_s00001_nirspec_f290lp-g395m_cal.jpg</td><td>1038</td><td>100975615</td><td>PUBLIC</td><td>3</td></tr>\n",
       "<tr><td>100975615</td><td>JWST</td><td>spectrum</td><td>jw02736-o007_s00001_nirspec_f290lp-g395m</td><td>Preview-Full</td><td>D</td><td>mast:JWST/product/jw02736-o007_s00001_nirspec_f290lp-g395m_crf.jpg</td><td>PREVIEW</td><td>--</td><td>--</td><td>--</td><td>CALJWST</td><td>1.11.4</td><td>2736</td><td>jw02736-o007_s00001_nirspec_f290lp-g395m_crf.jpg</td><td>1038</td><td>100975615</td><td>PUBLIC</td><td>3</td></tr>\n",
       "<tr><td>100975615</td><td>JWST</td><td>spectrum</td><td>jw02736-o007_s00001_nirspec_f290lp-g395m</td><td>Preview-Full</td><td>D</td><td>mast:JWST/product/jw02736-o007_s00001_nirspec_f290lp-g395m_s2d.jpg</td><td>PREVIEW</td><td>--</td><td>--</td><td>--</td><td>CALJWST</td><td>1.11.4</td><td>2736</td><td>jw02736-o007_s00001_nirspec_f290lp-g395m_s2d.jpg</td><td>4632</td><td>100975615</td><td>PUBLIC</td><td>3</td></tr>\n",
       "<tr><td>100975615</td><td>JWST</td><td>spectrum</td><td>jw02736-o007_s00001_nirspec_f290lp-g395m</td><td>exposure (L2b): 2D calibrated exposure average over integrations</td><td>D</td><td>mast:JWST/product/jw02736-o007_s00001_nirspec_f290lp-g395m_cal.fits</td><td>SCIENCE</td><td>Minimum Recommended Products</td><td>CAL</td><td>--</td><td>CALJWST</td><td>1.11.4</td><td>2736</td><td>jw02736-o007_s00001_nirspec_f290lp-g395m_cal.fits</td><td>979200</td><td>100975615</td><td>PUBLIC</td><td>3</td></tr>\n",
       "<tr><td>100975615</td><td>JWST</td><td>spectrum</td><td>jw02736-o007_s00001_nirspec_f290lp-g395m</td><td>exposure/target (L2b/L3): 2D Calibrated data averaged over integrations</td><td>D</td><td>mast:JWST/product/jw02736-o007_s00001_nirspec_f290lp-g395m_crf.fits</td><td>SCIENCE</td><td>Minimum Recommended Products</td><td>CRF</td><td>--</td><td>CALJWST</td><td>1.11.4</td><td>2736</td><td>jw02736-o007_s00001_nirspec_f290lp-g395m_crf.fits</td><td>1051200</td><td>100975615</td><td>PUBLIC</td><td>3</td></tr>\n",
       "<tr><td>100975615</td><td>JWST</td><td>spectrum</td><td>jw02736-o007_s00001_nirspec_f290lp-g395m</td><td>exposure/target (L2b/L3): 2D image of spectrum avg integrations</td><td>D</td><td>mast:JWST/product/jw02736-o007_s00001_nirspec_f290lp-g395m_s2d.fits</td><td>SCIENCE</td><td>Minimum Recommended Products</td><td>S2D</td><td>--</td><td>CALJWST</td><td>1.11.4</td><td>2736</td><td>jw02736-o007_s00001_nirspec_f290lp-g395m_s2d.fits</td><td>521280</td><td>100975615</td><td>PUBLIC</td><td>3</td></tr>\n",
       "<tr><td>100975615</td><td>JWST</td><td>spectrum</td><td>jw02736-o007_s00001_nirspec_f290lp-g395m</td><td>exposure/target (L2b/L3): 1D extracted spectrum</td><td>D</td><td>mast:JWST/product/jw02736-o007_s00001_nirspec_f290lp-g395m_x1d.fits</td><td>SCIENCE</td><td>Minimum Recommended Products</td><td>X1D</td><td>--</td><td>CALJWST</td><td>1.11.4</td><td>2736</td><td>jw02736-o007_s00001_nirspec_f290lp-g395m_x1d.fits</td><td>250560</td><td>100975615</td><td>PUBLIC</td><td>3</td></tr>\n",
       "<tr><td>100975637</td><td>JWST</td><td>spectrum</td><td>jw02736-o007_s00002_nirspec_f290lp-g395m</td><td>source/target (L3) : association generator</td><td>D</td><td>mast:JWST/product/jw02736-o007_20231116t144653_spec3_00001_asn.json</td><td>INFO</td><td>Minimum Recommended Products</td><td>ASN</td><td>--</td><td>CALJWST</td><td>1.11.4</td><td>2736</td><td>jw02736-o007_20231116t144653_spec3_00001_asn.json</td><td>5501</td><td>100975637</td><td>PUBLIC</td><td>3</td></tr>\n",
       "<tr><td>100975637</td><td>JWST</td><td>spectrum</td><td>jw02736-o007_s00002_nirspec_f290lp-g395m</td><td>source/target (L3) : association pool</td><td>D</td><td>mast:JWST/product/jw02736_20231116t144653_pool.csv</td><td>INFO</td><td>Minimum Recommended Products</td><td>POOL</td><td>--</td><td>CALJWST</td><td>1.11.4</td><td>2736</td><td>jw02736_20231116t144653_pool.csv</td><td>177115</td><td>100975637</td><td>PUBLIC</td><td>3</td></tr>\n",
       "<tr><td>100975637</td><td>JWST</td><td>spectrum</td><td>jw02736-o007_s00002_nirspec_f290lp-g395m</td><td>Preview-Full</td><td>D</td><td>mast:JWST/product/jw02736-o007_s00002_nirspec_f290lp-g395m_cal.jpg</td><td>PREVIEW</td><td>--</td><td>--</td><td>--</td><td>CALJWST</td><td>1.11.4</td><td>2736</td><td>jw02736-o007_s00002_nirspec_f290lp-g395m_cal.jpg</td><td>4610</td><td>100975637</td><td>PUBLIC</td><td>3</td></tr>\n",
       "<tr><td>100975637</td><td>JWST</td><td>spectrum</td><td>jw02736-o007_s00002_nirspec_f290lp-g395m</td><td>Preview-Full</td><td>D</td><td>mast:JWST/product/jw02736-o007_s00002_nirspec_f290lp-g395m_crf.jpg</td><td>PREVIEW</td><td>--</td><td>--</td><td>--</td><td>CALJWST</td><td>1.11.4</td><td>2736</td><td>jw02736-o007_s00002_nirspec_f290lp-g395m_crf.jpg</td><td>4610</td><td>100975637</td><td>PUBLIC</td><td>3</td></tr>\n",
       "<tr><td>100975637</td><td>JWST</td><td>spectrum</td><td>jw02736-o007_s00002_nirspec_f290lp-g395m</td><td>Preview-Full</td><td>D</td><td>mast:JWST/product/jw02736-o007_s00002_nirspec_f290lp-g395m_s2d.jpg</td><td>PREVIEW</td><td>--</td><td>--</td><td>--</td><td>CALJWST</td><td>1.11.4</td><td>2736</td><td>jw02736-o007_s00002_nirspec_f290lp-g395m_s2d.jpg</td><td>13542</td><td>100975637</td><td>PUBLIC</td><td>3</td></tr>\n",
       "<tr><td>100975637</td><td>JWST</td><td>spectrum</td><td>jw02736-o007_s00002_nirspec_f290lp-g395m</td><td>exposure (L2b): 2D calibrated exposure average over integrations</td><td>D</td><td>mast:JWST/product/jw02736-o007_s00002_nirspec_f290lp-g395m_cal.fits</td><td>SCIENCE</td><td>Minimum Recommended Products</td><td>CAL</td><td>--</td><td>CALJWST</td><td>1.11.4</td><td>2736</td><td>jw02736-o007_s00002_nirspec_f290lp-g395m_cal.fits</td><td>4057920</td><td>100975637</td><td>PUBLIC</td><td>3</td></tr>\n",
       "<tr><td>100975637</td><td>JWST</td><td>spectrum</td><td>jw02736-o007_s00002_nirspec_f290lp-g395m</td><td>exposure/target (L2b/L3): 2D Calibrated data averaged over integrations</td><td>D</td><td>mast:JWST/product/jw02736-o007_s00002_nirspec_f290lp-g395m_crf.fits</td><td>SCIENCE</td><td>Minimum Recommended Products</td><td>CRF</td><td>--</td><td>CALJWST</td><td>1.11.4</td><td>2736</td><td>jw02736-o007_s00002_nirspec_f290lp-g395m_crf.fits</td><td>4394880</td><td>100975637</td><td>PUBLIC</td><td>3</td></tr>\n",
       "<tr><td>...</td><td>...</td><td>...</td><td>...</td><td>...</td><td>...</td><td>...</td><td>...</td><td>...</td><td>...</td><td>...</td><td>...</td><td>...</td><td>...</td><td>...</td><td>...</td><td>...</td><td>...</td><td>...</td></tr>\n",
       "<tr><td>87599749</td><td>JWST</td><td>spectrum</td><td>jw02736008001_03103_00003_nrs2</td><td>exposure/target (L2b/L3): 1D extracted spectrum</td><td>S</td><td>mast:JWST/product/jw02736008001_03103_00003_nrs2_x1d.fits</td><td>SCIENCE</td><td>--</td><td>X1D</td><td>--</td><td>CALJWST</td><td>1.5.3</td><td>2736</td><td>jw02736008001_03103_00003_nrs2_x1d.fits</td><td>9959040</td><td>103494997</td><td>PUBLIC</td><td>2</td></tr>\n",
       "<tr><td>87599749</td><td>JWST</td><td>spectrum</td><td>jw02736008001_03103_00003_nrs2</td><td>exposure/target (L2b/L3): 1D extracted spectrum</td><td>S</td><td>mast:JWST/product/jw02736008001_03103_00003_nrs2_x1d.fits</td><td>SCIENCE</td><td>--</td><td>X1D</td><td>--</td><td>CALJWST</td><td>1.5.3</td><td>2736</td><td>jw02736008001_03103_00003_nrs2_x1d.fits</td><td>9959040</td><td>103495036</td><td>PUBLIC</td><td>2</td></tr>\n",
       "<tr><td>87599749</td><td>JWST</td><td>spectrum</td><td>jw02736008001_03103_00003_nrs2</td><td>exposure/target (L2b/L3): 1D extracted spectrum</td><td>S</td><td>mast:JWST/product/jw02736008001_03103_00003_nrs2_x1d.fits</td><td>SCIENCE</td><td>--</td><td>X1D</td><td>--</td><td>CALJWST</td><td>1.5.3</td><td>2736</td><td>jw02736008001_03103_00003_nrs2_x1d.fits</td><td>9959040</td><td>103495045</td><td>PUBLIC</td><td>2</td></tr>\n",
       "<tr><td>87599749</td><td>JWST</td><td>spectrum</td><td>jw02736008001_03103_00003_nrs2</td><td>exposure/target (L2b/L3): 1D extracted spectrum</td><td>S</td><td>mast:JWST/product/jw02736008001_03103_00003_nrs2_x1d.fits</td><td>SCIENCE</td><td>--</td><td>X1D</td><td>--</td><td>CALJWST</td><td>1.5.3</td><td>2736</td><td>jw02736008001_03103_00003_nrs2_x1d.fits</td><td>9959040</td><td>103495168</td><td>PUBLIC</td><td>2</td></tr>\n",
       "<tr><td>87599749</td><td>JWST</td><td>spectrum</td><td>jw02736008001_03103_00003_nrs2</td><td>exposure/target (L2b/L3): 1D extracted spectrum</td><td>S</td><td>mast:JWST/product/jw02736008001_03103_00003_nrs2_x1d.fits</td><td>SCIENCE</td><td>--</td><td>X1D</td><td>--</td><td>CALJWST</td><td>1.5.3</td><td>2736</td><td>jw02736008001_03103_00003_nrs2_x1d.fits</td><td>9959040</td><td>103495180</td><td>PUBLIC</td><td>2</td></tr>\n",
       "<tr><td>87599749</td><td>JWST</td><td>spectrum</td><td>jw02736008001_03103_00003_nrs2</td><td>exposure/target (L2b/L3): 1D extracted spectrum</td><td>S</td><td>mast:JWST/product/jw02736008001_03103_00003_nrs2_x1d.fits</td><td>SCIENCE</td><td>--</td><td>X1D</td><td>--</td><td>CALJWST</td><td>1.5.3</td><td>2736</td><td>jw02736008001_03103_00003_nrs2_x1d.fits</td><td>9959040</td><td>103495183</td><td>PUBLIC</td><td>2</td></tr>\n",
       "<tr><td>87599749</td><td>JWST</td><td>spectrum</td><td>jw02736008001_03103_00003_nrs2</td><td>exposure/target (L2b/L3): 1D extracted spectrum</td><td>S</td><td>mast:JWST/product/jw02736008001_03103_00003_nrs2_x1d.fits</td><td>SCIENCE</td><td>--</td><td>X1D</td><td>--</td><td>CALJWST</td><td>1.5.3</td><td>2736</td><td>jw02736008001_03103_00003_nrs2_x1d.fits</td><td>9959040</td><td>103495192</td><td>PUBLIC</td><td>2</td></tr>\n",
       "<tr><td>87599749</td><td>JWST</td><td>spectrum</td><td>jw02736008001_03103_00003_nrs2</td><td>exposure/target (L2b/L3): 1D extracted spectrum</td><td>S</td><td>mast:JWST/product/jw02736008001_03103_00003_nrs2_x1d.fits</td><td>SCIENCE</td><td>--</td><td>X1D</td><td>--</td><td>CALJWST</td><td>1.5.3</td><td>2736</td><td>jw02736008001_03103_00003_nrs2_x1d.fits</td><td>9959040</td><td>103495196</td><td>PUBLIC</td><td>2</td></tr>\n",
       "<tr><td>87599749</td><td>JWST</td><td>spectrum</td><td>jw02736008001_03103_00003_nrs2</td><td>exposure/target (L2b/L3): 1D extracted spectrum</td><td>S</td><td>mast:JWST/product/jw02736008001_03103_00003_nrs2_x1d.fits</td><td>SCIENCE</td><td>--</td><td>X1D</td><td>--</td><td>CALJWST</td><td>1.5.3</td><td>2736</td><td>jw02736008001_03103_00003_nrs2_x1d.fits</td><td>9959040</td><td>103495206</td><td>PUBLIC</td><td>2</td></tr>\n",
       "<tr><td>87599749</td><td>JWST</td><td>spectrum</td><td>jw02736008001_03103_00003_nrs2</td><td>exposure/target (L2b/L3): 1D extracted spectrum</td><td>S</td><td>mast:JWST/product/jw02736008001_03103_00003_nrs2_x1d.fits</td><td>SCIENCE</td><td>--</td><td>X1D</td><td>--</td><td>CALJWST</td><td>1.5.3</td><td>2736</td><td>jw02736008001_03103_00003_nrs2_x1d.fits</td><td>9959040</td><td>103495225</td><td>PUBLIC</td><td>2</td></tr>\n",
       "<tr><td>87599749</td><td>JWST</td><td>spectrum</td><td>jw02736008001_03103_00003_nrs2</td><td>exposure/target (L2b/L3): 1D extracted spectrum</td><td>S</td><td>mast:JWST/product/jw02736008001_03103_00003_nrs2_x1d.fits</td><td>SCIENCE</td><td>--</td><td>X1D</td><td>--</td><td>CALJWST</td><td>1.5.3</td><td>2736</td><td>jw02736008001_03103_00003_nrs2_x1d.fits</td><td>9959040</td><td>103495235</td><td>PUBLIC</td><td>2</td></tr>\n",
       "<tr><td>87599749</td><td>JWST</td><td>spectrum</td><td>jw02736008001_03103_00003_nrs2</td><td>exposure/target (L2b/L3): 1D extracted spectrum</td><td>S</td><td>mast:JWST/product/jw02736008001_03103_00003_nrs2_x1d.fits</td><td>SCIENCE</td><td>--</td><td>X1D</td><td>--</td><td>CALJWST</td><td>1.5.3</td><td>2736</td><td>jw02736008001_03103_00003_nrs2_x1d.fits</td><td>9959040</td><td>103495245</td><td>PUBLIC</td><td>2</td></tr>\n",
       "<tr><td>87599749</td><td>JWST</td><td>spectrum</td><td>jw02736008001_03103_00003_nrs2</td><td>exposure/target (L2b/L3): 1D extracted spectrum</td><td>S</td><td>mast:JWST/product/jw02736008001_03103_00003_nrs2_x1d.fits</td><td>SCIENCE</td><td>--</td><td>X1D</td><td>--</td><td>CALJWST</td><td>1.5.3</td><td>2736</td><td>jw02736008001_03103_00003_nrs2_x1d.fits</td><td>9959040</td><td>103495296</td><td>PUBLIC</td><td>2</td></tr>\n",
       "<tr><td>87599749</td><td>JWST</td><td>spectrum</td><td>jw02736008001_03103_00003_nrs2</td><td>exposure/target (L2b/L3): 1D extracted spectrum</td><td>S</td><td>mast:JWST/product/jw02736008001_03103_00003_nrs2_x1d.fits</td><td>SCIENCE</td><td>--</td><td>X1D</td><td>--</td><td>CALJWST</td><td>1.5.3</td><td>2736</td><td>jw02736008001_03103_00003_nrs2_x1d.fits</td><td>9959040</td><td>103495381</td><td>PUBLIC</td><td>2</td></tr>\n",
       "<tr><td>87599749</td><td>JWST</td><td>spectrum</td><td>jw02736008001_03103_00003_nrs2</td><td>exposure/target (L2b/L3): 1D extracted spectrum</td><td>S</td><td>mast:JWST/product/jw02736008001_03103_00003_nrs2_x1d.fits</td><td>SCIENCE</td><td>--</td><td>X1D</td><td>--</td><td>CALJWST</td><td>1.5.3</td><td>2736</td><td>jw02736008001_03103_00003_nrs2_x1d.fits</td><td>9959040</td><td>103497620</td><td>PUBLIC</td><td>2</td></tr>\n",
       "<tr><td>87599749</td><td>JWST</td><td>spectrum</td><td>jw02736008001_03103_00003_nrs2</td><td>exposure/target (L2b/L3): 1D extracted spectrum</td><td>S</td><td>mast:JWST/product/jw02736008001_03103_00003_nrs2_x1d.fits</td><td>SCIENCE</td><td>--</td><td>X1D</td><td>--</td><td>CALJWST</td><td>1.5.3</td><td>2736</td><td>jw02736008001_03103_00003_nrs2_x1d.fits</td><td>9959040</td><td>103499141</td><td>PUBLIC</td><td>2</td></tr>\n",
       "<tr><td>87599749</td><td>JWST</td><td>spectrum</td><td>jw02736008001_03103_00003_nrs2</td><td>exposure/target (L2b/L3): 1D extracted spectrum</td><td>S</td><td>mast:JWST/product/jw02736008001_03103_00003_nrs2_x1d.fits</td><td>SCIENCE</td><td>--</td><td>X1D</td><td>--</td><td>CALJWST</td><td>1.5.3</td><td>2736</td><td>jw02736008001_03103_00003_nrs2_x1d.fits</td><td>9959040</td><td>103501520</td><td>PUBLIC</td><td>2</td></tr>\n",
       "</table></div>"
      ],
      "text/plain": [
       "<Table length=209791>\n",
       "  obsID   obs_collection dataproduct_type ... parent_obsid dataRights calib_level\n",
       "   str9        str4            str8       ...     str9        str6       int64   \n",
       "--------- -------------- ---------------- ... ------------ ---------- -----------\n",
       "100975615           JWST         spectrum ...    100975615     PUBLIC           3\n",
       "100975615           JWST         spectrum ...    100975615     PUBLIC           3\n",
       "100975615           JWST         spectrum ...    100975615     PUBLIC           3\n",
       "100975615           JWST         spectrum ...    100975615     PUBLIC           3\n",
       "100975615           JWST         spectrum ...    100975615     PUBLIC           3\n",
       "100975615           JWST         spectrum ...    100975615     PUBLIC           3\n",
       "100975615           JWST         spectrum ...    100975615     PUBLIC           3\n",
       "100975615           JWST         spectrum ...    100975615     PUBLIC           3\n",
       "100975615           JWST         spectrum ...    100975615     PUBLIC           3\n",
       "100975637           JWST         spectrum ...    100975637     PUBLIC           3\n",
       "100975637           JWST         spectrum ...    100975637     PUBLIC           3\n",
       "100975637           JWST         spectrum ...    100975637     PUBLIC           3\n",
       "100975637           JWST         spectrum ...    100975637     PUBLIC           3\n",
       "100975637           JWST         spectrum ...    100975637     PUBLIC           3\n",
       "100975637           JWST         spectrum ...    100975637     PUBLIC           3\n",
       "100975637           JWST         spectrum ...    100975637     PUBLIC           3\n",
       "      ...            ...              ... ...          ...        ...         ...\n",
       " 87599749           JWST         spectrum ...    103494997     PUBLIC           2\n",
       " 87599749           JWST         spectrum ...    103495036     PUBLIC           2\n",
       " 87599749           JWST         spectrum ...    103495045     PUBLIC           2\n",
       " 87599749           JWST         spectrum ...    103495168     PUBLIC           2\n",
       " 87599749           JWST         spectrum ...    103495180     PUBLIC           2\n",
       " 87599749           JWST         spectrum ...    103495183     PUBLIC           2\n",
       " 87599749           JWST         spectrum ...    103495192     PUBLIC           2\n",
       " 87599749           JWST         spectrum ...    103495196     PUBLIC           2\n",
       " 87599749           JWST         spectrum ...    103495206     PUBLIC           2\n",
       " 87599749           JWST         spectrum ...    103495225     PUBLIC           2\n",
       " 87599749           JWST         spectrum ...    103495235     PUBLIC           2\n",
       " 87599749           JWST         spectrum ...    103495245     PUBLIC           2\n",
       " 87599749           JWST         spectrum ...    103495296     PUBLIC           2\n",
       " 87599749           JWST         spectrum ...    103495381     PUBLIC           2\n",
       " 87599749           JWST         spectrum ...    103497620     PUBLIC           2\n",
       " 87599749           JWST         spectrum ...    103499141     PUBLIC           2\n",
       " 87599749           JWST         spectrum ...    103501520     PUBLIC           2"
      ]
     },
     "execution_count": 8,
     "metadata": {},
     "output_type": "execute_result"
    }
   ],
   "source": [
    "products_list"
   ]
  },
  {
   "cell_type": "code",
   "execution_count": 16,
   "id": "c46297c6-fc4d-4590-b764-0511abefbfe8",
   "metadata": {
    "scrolled": true
   },
   "outputs": [],
   "source": [
    "all_filenames = products_list['obs_id']\n",
    "#all_filenames"
   ]
  },
  {
   "cell_type": "code",
   "execution_count": 9,
   "id": "5b477f2f-02db-4601-89ea-90c0b0ba1eb3",
   "metadata": {},
   "outputs": [],
   "source": [
    "data_products = Observations.filter_products(products_list, \n",
    "                                            productType = 'SCIENCE', \n",
    "                                            productSubGroupDescription = 'S2D',  # UNCAL, RATE, RATEINTS, CAL, I2D, X1D, S2D\n",
    "                                            type = 'S', # 'S': all objects;  'D': individual object\n",
    "                                            )  "
   ]
  },
  {
   "cell_type": "code",
   "execution_count": 10,
   "id": "18233b47-f8d0-4e69-bf70-e936f39ce1e6",
   "metadata": {},
   "outputs": [
    {
     "data": {
      "text/html": [
       "<div><i>Table length=1164</i>\n",
       "<table id=\"table5171065744\" class=\"table-striped table-bordered table-condensed\">\n",
       "<thead><tr><th>obsID</th><th>obs_collection</th><th>dataproduct_type</th><th>obs_id</th><th>description</th><th>type</th><th>dataURI</th><th>productType</th><th>productGroupDescription</th><th>productSubGroupDescription</th><th>productDocumentationURL</th><th>project</th><th>prvversion</th><th>proposal_id</th><th>productFilename</th><th>size</th><th>parent_obsid</th><th>dataRights</th><th>calib_level</th></tr></thead>\n",
       "<thead><tr><th>str9</th><th>str4</th><th>str8</th><th>str40</th><th>str71</th><th>str1</th><th>str70</th><th>str9</th><th>str28</th><th>str8</th><th>str1</th><th>str7</th><th>str6</th><th>str4</th><th>str52</th><th>int64</th><th>str9</th><th>str6</th><th>int64</th></tr></thead>\n",
       "<tr><td>87600652</td><td>JWST</td><td>spectrum</td><td>jw02736007001_03103_00001_nrs1</td><td>exposure/target (L2b/L3): 2D image of spectrum avg integrations</td><td>S</td><td>mast:JWST/product/jw02736007001_03103_00001_nrs1_s2d.fits</td><td>SCIENCE</td><td>--</td><td>S2D</td><td>--</td><td>CALJWST</td><td>1.5.3</td><td>2736</td><td>jw02736007001_03103_00001_nrs1_s2d.fits</td><td>24598080</td><td>87602347</td><td>PUBLIC</td><td>2</td></tr>\n",
       "<tr><td>87600652</td><td>JWST</td><td>spectrum</td><td>jw02736007001_03103_00001_nrs1</td><td>exposure/target (L2b/L3): 2D image of spectrum avg integrations</td><td>S</td><td>mast:JWST/product/jw02736007001_03103_00001_nrs1_s2d.fits</td><td>SCIENCE</td><td>--</td><td>S2D</td><td>--</td><td>CALJWST</td><td>1.5.3</td><td>2736</td><td>jw02736007001_03103_00001_nrs1_s2d.fits</td><td>24598080</td><td>87602348</td><td>PUBLIC</td><td>2</td></tr>\n",
       "<tr><td>87600652</td><td>JWST</td><td>spectrum</td><td>jw02736007001_03103_00001_nrs1</td><td>exposure/target (L2b/L3): 2D image of spectrum avg integrations</td><td>S</td><td>mast:JWST/product/jw02736007001_03103_00001_nrs1_s2d.fits</td><td>SCIENCE</td><td>--</td><td>S2D</td><td>--</td><td>CALJWST</td><td>1.5.3</td><td>2736</td><td>jw02736007001_03103_00001_nrs1_s2d.fits</td><td>24598080</td><td>87602351</td><td>PUBLIC</td><td>2</td></tr>\n",
       "<tr><td>87600652</td><td>JWST</td><td>spectrum</td><td>jw02736007001_03103_00001_nrs1</td><td>exposure/target (L2b/L3): 2D image of spectrum avg integrations</td><td>S</td><td>mast:JWST/product/jw02736007001_03103_00001_nrs1_s2d.fits</td><td>SCIENCE</td><td>--</td><td>S2D</td><td>--</td><td>CALJWST</td><td>1.5.3</td><td>2736</td><td>jw02736007001_03103_00001_nrs1_s2d.fits</td><td>24598080</td><td>87602355</td><td>PUBLIC</td><td>2</td></tr>\n",
       "<tr><td>87600652</td><td>JWST</td><td>spectrum</td><td>jw02736007001_03103_00001_nrs1</td><td>exposure/target (L2b/L3): 2D image of spectrum avg integrations</td><td>S</td><td>mast:JWST/product/jw02736007001_03103_00001_nrs1_s2d.fits</td><td>SCIENCE</td><td>--</td><td>S2D</td><td>--</td><td>CALJWST</td><td>1.5.3</td><td>2736</td><td>jw02736007001_03103_00001_nrs1_s2d.fits</td><td>24598080</td><td>87602357</td><td>PUBLIC</td><td>2</td></tr>\n",
       "<tr><td>87600652</td><td>JWST</td><td>spectrum</td><td>jw02736007001_03103_00001_nrs1</td><td>exposure/target (L2b/L3): 2D image of spectrum avg integrations</td><td>S</td><td>mast:JWST/product/jw02736007001_03103_00001_nrs1_s2d.fits</td><td>SCIENCE</td><td>--</td><td>S2D</td><td>--</td><td>CALJWST</td><td>1.5.3</td><td>2736</td><td>jw02736007001_03103_00001_nrs1_s2d.fits</td><td>24598080</td><td>87602358</td><td>PUBLIC</td><td>2</td></tr>\n",
       "<tr><td>87600652</td><td>JWST</td><td>spectrum</td><td>jw02736007001_03103_00001_nrs1</td><td>exposure/target (L2b/L3): 2D image of spectrum avg integrations</td><td>S</td><td>mast:JWST/product/jw02736007001_03103_00001_nrs1_s2d.fits</td><td>SCIENCE</td><td>--</td><td>S2D</td><td>--</td><td>CALJWST</td><td>1.5.3</td><td>2736</td><td>jw02736007001_03103_00001_nrs1_s2d.fits</td><td>24598080</td><td>87602363</td><td>PUBLIC</td><td>2</td></tr>\n",
       "<tr><td>87600652</td><td>JWST</td><td>spectrum</td><td>jw02736007001_03103_00001_nrs1</td><td>exposure/target (L2b/L3): 2D image of spectrum avg integrations</td><td>S</td><td>mast:JWST/product/jw02736007001_03103_00001_nrs1_s2d.fits</td><td>SCIENCE</td><td>--</td><td>S2D</td><td>--</td><td>CALJWST</td><td>1.5.3</td><td>2736</td><td>jw02736007001_03103_00001_nrs1_s2d.fits</td><td>24598080</td><td>87602364</td><td>PUBLIC</td><td>2</td></tr>\n",
       "<tr><td>87600652</td><td>JWST</td><td>spectrum</td><td>jw02736007001_03103_00001_nrs1</td><td>exposure/target (L2b/L3): 2D image of spectrum avg integrations</td><td>S</td><td>mast:JWST/product/jw02736007001_03103_00001_nrs1_s2d.fits</td><td>SCIENCE</td><td>--</td><td>S2D</td><td>--</td><td>CALJWST</td><td>1.5.3</td><td>2736</td><td>jw02736007001_03103_00001_nrs1_s2d.fits</td><td>24598080</td><td>87602373</td><td>PUBLIC</td><td>2</td></tr>\n",
       "<tr><td>87600652</td><td>JWST</td><td>spectrum</td><td>jw02736007001_03103_00001_nrs1</td><td>exposure/target (L2b/L3): 2D image of spectrum avg integrations</td><td>S</td><td>mast:JWST/product/jw02736007001_03103_00001_nrs1_s2d.fits</td><td>SCIENCE</td><td>--</td><td>S2D</td><td>--</td><td>CALJWST</td><td>1.5.3</td><td>2736</td><td>jw02736007001_03103_00001_nrs1_s2d.fits</td><td>24598080</td><td>87602375</td><td>PUBLIC</td><td>2</td></tr>\n",
       "<tr><td>87600652</td><td>JWST</td><td>spectrum</td><td>jw02736007001_03103_00001_nrs1</td><td>exposure/target (L2b/L3): 2D image of spectrum avg integrations</td><td>S</td><td>mast:JWST/product/jw02736007001_03103_00001_nrs1_s2d.fits</td><td>SCIENCE</td><td>--</td><td>S2D</td><td>--</td><td>CALJWST</td><td>1.5.3</td><td>2736</td><td>jw02736007001_03103_00001_nrs1_s2d.fits</td><td>24598080</td><td>87602376</td><td>PUBLIC</td><td>2</td></tr>\n",
       "<tr><td>87600652</td><td>JWST</td><td>spectrum</td><td>jw02736007001_03103_00001_nrs1</td><td>exposure/target (L2b/L3): 2D image of spectrum avg integrations</td><td>S</td><td>mast:JWST/product/jw02736007001_03103_00001_nrs1_s2d.fits</td><td>SCIENCE</td><td>--</td><td>S2D</td><td>--</td><td>CALJWST</td><td>1.5.3</td><td>2736</td><td>jw02736007001_03103_00001_nrs1_s2d.fits</td><td>24598080</td><td>87602382</td><td>PUBLIC</td><td>2</td></tr>\n",
       "<tr><td>87600652</td><td>JWST</td><td>spectrum</td><td>jw02736007001_03103_00001_nrs1</td><td>exposure/target (L2b/L3): 2D image of spectrum avg integrations</td><td>S</td><td>mast:JWST/product/jw02736007001_03103_00001_nrs1_s2d.fits</td><td>SCIENCE</td><td>--</td><td>S2D</td><td>--</td><td>CALJWST</td><td>1.5.3</td><td>2736</td><td>jw02736007001_03103_00001_nrs1_s2d.fits</td><td>24598080</td><td>87602386</td><td>PUBLIC</td><td>2</td></tr>\n",
       "<tr><td>87600652</td><td>JWST</td><td>spectrum</td><td>jw02736007001_03103_00001_nrs1</td><td>exposure/target (L2b/L3): 2D image of spectrum avg integrations</td><td>S</td><td>mast:JWST/product/jw02736007001_03103_00001_nrs1_s2d.fits</td><td>SCIENCE</td><td>--</td><td>S2D</td><td>--</td><td>CALJWST</td><td>1.5.3</td><td>2736</td><td>jw02736007001_03103_00001_nrs1_s2d.fits</td><td>24598080</td><td>87602390</td><td>PUBLIC</td><td>2</td></tr>\n",
       "<tr><td>87600652</td><td>JWST</td><td>spectrum</td><td>jw02736007001_03103_00001_nrs1</td><td>exposure/target (L2b/L3): 2D image of spectrum avg integrations</td><td>S</td><td>mast:JWST/product/jw02736007001_03103_00001_nrs1_s2d.fits</td><td>SCIENCE</td><td>--</td><td>S2D</td><td>--</td><td>CALJWST</td><td>1.5.3</td><td>2736</td><td>jw02736007001_03103_00001_nrs1_s2d.fits</td><td>24598080</td><td>87602396</td><td>PUBLIC</td><td>2</td></tr>\n",
       "<tr><td>87600652</td><td>JWST</td><td>spectrum</td><td>jw02736007001_03103_00001_nrs1</td><td>exposure/target (L2b/L3): 2D image of spectrum avg integrations</td><td>S</td><td>mast:JWST/product/jw02736007001_03103_00001_nrs1_s2d.fits</td><td>SCIENCE</td><td>--</td><td>S2D</td><td>--</td><td>CALJWST</td><td>1.5.3</td><td>2736</td><td>jw02736007001_03103_00001_nrs1_s2d.fits</td><td>24598080</td><td>87602400</td><td>PUBLIC</td><td>2</td></tr>\n",
       "<tr><td>...</td><td>...</td><td>...</td><td>...</td><td>...</td><td>...</td><td>...</td><td>...</td><td>...</td><td>...</td><td>...</td><td>...</td><td>...</td><td>...</td><td>...</td><td>...</td><td>...</td><td>...</td><td>...</td></tr>\n",
       "<tr><td>87599749</td><td>JWST</td><td>spectrum</td><td>jw02736008001_03103_00003_nrs2</td><td>exposure/target (L2b/L3): 2D image of spectrum avg integrations</td><td>S</td><td>mast:JWST/product/jw02736008001_03103_00003_nrs2_s2d.fits</td><td>SCIENCE</td><td>--</td><td>S2D</td><td>--</td><td>CALJWST</td><td>1.5.3</td><td>2736</td><td>jw02736008001_03103_00003_nrs2_s2d.fits</td><td>34413120</td><td>103494997</td><td>PUBLIC</td><td>2</td></tr>\n",
       "<tr><td>87599749</td><td>JWST</td><td>spectrum</td><td>jw02736008001_03103_00003_nrs2</td><td>exposure/target (L2b/L3): 2D image of spectrum avg integrations</td><td>S</td><td>mast:JWST/product/jw02736008001_03103_00003_nrs2_s2d.fits</td><td>SCIENCE</td><td>--</td><td>S2D</td><td>--</td><td>CALJWST</td><td>1.5.3</td><td>2736</td><td>jw02736008001_03103_00003_nrs2_s2d.fits</td><td>34413120</td><td>103495036</td><td>PUBLIC</td><td>2</td></tr>\n",
       "<tr><td>87599749</td><td>JWST</td><td>spectrum</td><td>jw02736008001_03103_00003_nrs2</td><td>exposure/target (L2b/L3): 2D image of spectrum avg integrations</td><td>S</td><td>mast:JWST/product/jw02736008001_03103_00003_nrs2_s2d.fits</td><td>SCIENCE</td><td>--</td><td>S2D</td><td>--</td><td>CALJWST</td><td>1.5.3</td><td>2736</td><td>jw02736008001_03103_00003_nrs2_s2d.fits</td><td>34413120</td><td>103495045</td><td>PUBLIC</td><td>2</td></tr>\n",
       "<tr><td>87599749</td><td>JWST</td><td>spectrum</td><td>jw02736008001_03103_00003_nrs2</td><td>exposure/target (L2b/L3): 2D image of spectrum avg integrations</td><td>S</td><td>mast:JWST/product/jw02736008001_03103_00003_nrs2_s2d.fits</td><td>SCIENCE</td><td>--</td><td>S2D</td><td>--</td><td>CALJWST</td><td>1.5.3</td><td>2736</td><td>jw02736008001_03103_00003_nrs2_s2d.fits</td><td>34413120</td><td>103495168</td><td>PUBLIC</td><td>2</td></tr>\n",
       "<tr><td>87599749</td><td>JWST</td><td>spectrum</td><td>jw02736008001_03103_00003_nrs2</td><td>exposure/target (L2b/L3): 2D image of spectrum avg integrations</td><td>S</td><td>mast:JWST/product/jw02736008001_03103_00003_nrs2_s2d.fits</td><td>SCIENCE</td><td>--</td><td>S2D</td><td>--</td><td>CALJWST</td><td>1.5.3</td><td>2736</td><td>jw02736008001_03103_00003_nrs2_s2d.fits</td><td>34413120</td><td>103495180</td><td>PUBLIC</td><td>2</td></tr>\n",
       "<tr><td>87599749</td><td>JWST</td><td>spectrum</td><td>jw02736008001_03103_00003_nrs2</td><td>exposure/target (L2b/L3): 2D image of spectrum avg integrations</td><td>S</td><td>mast:JWST/product/jw02736008001_03103_00003_nrs2_s2d.fits</td><td>SCIENCE</td><td>--</td><td>S2D</td><td>--</td><td>CALJWST</td><td>1.5.3</td><td>2736</td><td>jw02736008001_03103_00003_nrs2_s2d.fits</td><td>34413120</td><td>103495183</td><td>PUBLIC</td><td>2</td></tr>\n",
       "<tr><td>87599749</td><td>JWST</td><td>spectrum</td><td>jw02736008001_03103_00003_nrs2</td><td>exposure/target (L2b/L3): 2D image of spectrum avg integrations</td><td>S</td><td>mast:JWST/product/jw02736008001_03103_00003_nrs2_s2d.fits</td><td>SCIENCE</td><td>--</td><td>S2D</td><td>--</td><td>CALJWST</td><td>1.5.3</td><td>2736</td><td>jw02736008001_03103_00003_nrs2_s2d.fits</td><td>34413120</td><td>103495192</td><td>PUBLIC</td><td>2</td></tr>\n",
       "<tr><td>87599749</td><td>JWST</td><td>spectrum</td><td>jw02736008001_03103_00003_nrs2</td><td>exposure/target (L2b/L3): 2D image of spectrum avg integrations</td><td>S</td><td>mast:JWST/product/jw02736008001_03103_00003_nrs2_s2d.fits</td><td>SCIENCE</td><td>--</td><td>S2D</td><td>--</td><td>CALJWST</td><td>1.5.3</td><td>2736</td><td>jw02736008001_03103_00003_nrs2_s2d.fits</td><td>34413120</td><td>103495196</td><td>PUBLIC</td><td>2</td></tr>\n",
       "<tr><td>87599749</td><td>JWST</td><td>spectrum</td><td>jw02736008001_03103_00003_nrs2</td><td>exposure/target (L2b/L3): 2D image of spectrum avg integrations</td><td>S</td><td>mast:JWST/product/jw02736008001_03103_00003_nrs2_s2d.fits</td><td>SCIENCE</td><td>--</td><td>S2D</td><td>--</td><td>CALJWST</td><td>1.5.3</td><td>2736</td><td>jw02736008001_03103_00003_nrs2_s2d.fits</td><td>34413120</td><td>103495206</td><td>PUBLIC</td><td>2</td></tr>\n",
       "<tr><td>87599749</td><td>JWST</td><td>spectrum</td><td>jw02736008001_03103_00003_nrs2</td><td>exposure/target (L2b/L3): 2D image of spectrum avg integrations</td><td>S</td><td>mast:JWST/product/jw02736008001_03103_00003_nrs2_s2d.fits</td><td>SCIENCE</td><td>--</td><td>S2D</td><td>--</td><td>CALJWST</td><td>1.5.3</td><td>2736</td><td>jw02736008001_03103_00003_nrs2_s2d.fits</td><td>34413120</td><td>103495225</td><td>PUBLIC</td><td>2</td></tr>\n",
       "<tr><td>87599749</td><td>JWST</td><td>spectrum</td><td>jw02736008001_03103_00003_nrs2</td><td>exposure/target (L2b/L3): 2D image of spectrum avg integrations</td><td>S</td><td>mast:JWST/product/jw02736008001_03103_00003_nrs2_s2d.fits</td><td>SCIENCE</td><td>--</td><td>S2D</td><td>--</td><td>CALJWST</td><td>1.5.3</td><td>2736</td><td>jw02736008001_03103_00003_nrs2_s2d.fits</td><td>34413120</td><td>103495235</td><td>PUBLIC</td><td>2</td></tr>\n",
       "<tr><td>87599749</td><td>JWST</td><td>spectrum</td><td>jw02736008001_03103_00003_nrs2</td><td>exposure/target (L2b/L3): 2D image of spectrum avg integrations</td><td>S</td><td>mast:JWST/product/jw02736008001_03103_00003_nrs2_s2d.fits</td><td>SCIENCE</td><td>--</td><td>S2D</td><td>--</td><td>CALJWST</td><td>1.5.3</td><td>2736</td><td>jw02736008001_03103_00003_nrs2_s2d.fits</td><td>34413120</td><td>103495245</td><td>PUBLIC</td><td>2</td></tr>\n",
       "<tr><td>87599749</td><td>JWST</td><td>spectrum</td><td>jw02736008001_03103_00003_nrs2</td><td>exposure/target (L2b/L3): 2D image of spectrum avg integrations</td><td>S</td><td>mast:JWST/product/jw02736008001_03103_00003_nrs2_s2d.fits</td><td>SCIENCE</td><td>--</td><td>S2D</td><td>--</td><td>CALJWST</td><td>1.5.3</td><td>2736</td><td>jw02736008001_03103_00003_nrs2_s2d.fits</td><td>34413120</td><td>103495296</td><td>PUBLIC</td><td>2</td></tr>\n",
       "<tr><td>87599749</td><td>JWST</td><td>spectrum</td><td>jw02736008001_03103_00003_nrs2</td><td>exposure/target (L2b/L3): 2D image of spectrum avg integrations</td><td>S</td><td>mast:JWST/product/jw02736008001_03103_00003_nrs2_s2d.fits</td><td>SCIENCE</td><td>--</td><td>S2D</td><td>--</td><td>CALJWST</td><td>1.5.3</td><td>2736</td><td>jw02736008001_03103_00003_nrs2_s2d.fits</td><td>34413120</td><td>103495381</td><td>PUBLIC</td><td>2</td></tr>\n",
       "<tr><td>87599749</td><td>JWST</td><td>spectrum</td><td>jw02736008001_03103_00003_nrs2</td><td>exposure/target (L2b/L3): 2D image of spectrum avg integrations</td><td>S</td><td>mast:JWST/product/jw02736008001_03103_00003_nrs2_s2d.fits</td><td>SCIENCE</td><td>--</td><td>S2D</td><td>--</td><td>CALJWST</td><td>1.5.3</td><td>2736</td><td>jw02736008001_03103_00003_nrs2_s2d.fits</td><td>34413120</td><td>103497620</td><td>PUBLIC</td><td>2</td></tr>\n",
       "<tr><td>87599749</td><td>JWST</td><td>spectrum</td><td>jw02736008001_03103_00003_nrs2</td><td>exposure/target (L2b/L3): 2D image of spectrum avg integrations</td><td>S</td><td>mast:JWST/product/jw02736008001_03103_00003_nrs2_s2d.fits</td><td>SCIENCE</td><td>--</td><td>S2D</td><td>--</td><td>CALJWST</td><td>1.5.3</td><td>2736</td><td>jw02736008001_03103_00003_nrs2_s2d.fits</td><td>34413120</td><td>103499141</td><td>PUBLIC</td><td>2</td></tr>\n",
       "<tr><td>87599749</td><td>JWST</td><td>spectrum</td><td>jw02736008001_03103_00003_nrs2</td><td>exposure/target (L2b/L3): 2D image of spectrum avg integrations</td><td>S</td><td>mast:JWST/product/jw02736008001_03103_00003_nrs2_s2d.fits</td><td>SCIENCE</td><td>--</td><td>S2D</td><td>--</td><td>CALJWST</td><td>1.5.3</td><td>2736</td><td>jw02736008001_03103_00003_nrs2_s2d.fits</td><td>34413120</td><td>103501520</td><td>PUBLIC</td><td>2</td></tr>\n",
       "</table></div>"
      ],
      "text/plain": [
       "<Table length=1164>\n",
       " obsID   obs_collection dataproduct_type ... parent_obsid dataRights calib_level\n",
       "  str9        str4            str8       ...     str9        str6       int64   \n",
       "-------- -------------- ---------------- ... ------------ ---------- -----------\n",
       "87600652           JWST         spectrum ...     87602347     PUBLIC           2\n",
       "87600652           JWST         spectrum ...     87602348     PUBLIC           2\n",
       "87600652           JWST         spectrum ...     87602351     PUBLIC           2\n",
       "87600652           JWST         spectrum ...     87602355     PUBLIC           2\n",
       "87600652           JWST         spectrum ...     87602357     PUBLIC           2\n",
       "87600652           JWST         spectrum ...     87602358     PUBLIC           2\n",
       "87600652           JWST         spectrum ...     87602363     PUBLIC           2\n",
       "87600652           JWST         spectrum ...     87602364     PUBLIC           2\n",
       "87600652           JWST         spectrum ...     87602373     PUBLIC           2\n",
       "87600652           JWST         spectrum ...     87602375     PUBLIC           2\n",
       "87600652           JWST         spectrum ...     87602376     PUBLIC           2\n",
       "87600652           JWST         spectrum ...     87602382     PUBLIC           2\n",
       "87600652           JWST         spectrum ...     87602386     PUBLIC           2\n",
       "87600652           JWST         spectrum ...     87602390     PUBLIC           2\n",
       "87600652           JWST         spectrum ...     87602396     PUBLIC           2\n",
       "87600652           JWST         spectrum ...     87602400     PUBLIC           2\n",
       "     ...            ...              ... ...          ...        ...         ...\n",
       "87599749           JWST         spectrum ...    103494997     PUBLIC           2\n",
       "87599749           JWST         spectrum ...    103495036     PUBLIC           2\n",
       "87599749           JWST         spectrum ...    103495045     PUBLIC           2\n",
       "87599749           JWST         spectrum ...    103495168     PUBLIC           2\n",
       "87599749           JWST         spectrum ...    103495180     PUBLIC           2\n",
       "87599749           JWST         spectrum ...    103495183     PUBLIC           2\n",
       "87599749           JWST         spectrum ...    103495192     PUBLIC           2\n",
       "87599749           JWST         spectrum ...    103495196     PUBLIC           2\n",
       "87599749           JWST         spectrum ...    103495206     PUBLIC           2\n",
       "87599749           JWST         spectrum ...    103495225     PUBLIC           2\n",
       "87599749           JWST         spectrum ...    103495235     PUBLIC           2\n",
       "87599749           JWST         spectrum ...    103495245     PUBLIC           2\n",
       "87599749           JWST         spectrum ...    103495296     PUBLIC           2\n",
       "87599749           JWST         spectrum ...    103495381     PUBLIC           2\n",
       "87599749           JWST         spectrum ...    103497620     PUBLIC           2\n",
       "87599749           JWST         spectrum ...    103499141     PUBLIC           2\n",
       "87599749           JWST         spectrum ...    103501520     PUBLIC           2"
      ]
     },
     "execution_count": 10,
     "metadata": {},
     "output_type": "execute_result"
    }
   ],
   "source": [
    "data_products"
   ]
  },
  {
   "cell_type": "code",
   "execution_count": 11,
   "id": "44a13201-ec66-4f3e-b8ce-09e6e05cfc3d",
   "metadata": {},
   "outputs": [
    {
     "data": {
      "text/html": [
       "&lt;MaskedColumn name=&apos;productFilename&apos; dtype=&apos;str52&apos; length=12&gt;\n",
       "<table>\n",
       "<tr><td>jw02736007001_03103_00001_nrs1_s2d.fits</td></tr>\n",
       "<tr><td>jw02736007001_03103_00001_nrs2_s2d.fits</td></tr>\n",
       "<tr><td>jw02736007001_03103_00002_nrs1_s2d.fits</td></tr>\n",
       "<tr><td>jw02736007001_03103_00002_nrs2_s2d.fits</td></tr>\n",
       "<tr><td>jw02736007001_03103_00003_nrs1_s2d.fits</td></tr>\n",
       "<tr><td>jw02736007001_03103_00003_nrs2_s2d.fits</td></tr>\n",
       "<tr><td>jw02736008001_03103_00001_nrs1_s2d.fits</td></tr>\n",
       "<tr><td>jw02736008001_03103_00001_nrs2_s2d.fits</td></tr>\n",
       "<tr><td>jw02736008001_03103_00002_nrs1_s2d.fits</td></tr>\n",
       "<tr><td>jw02736008001_03103_00002_nrs2_s2d.fits</td></tr>\n",
       "<tr><td>jw02736008001_03103_00003_nrs1_s2d.fits</td></tr>\n",
       "<tr><td>jw02736008001_03103_00003_nrs2_s2d.fits</td></tr>\n",
       "</table>"
      ],
      "text/plain": [
       "<MaskedColumn name='productFilename' dtype='str52' length=12>\n",
       "jw02736007001_03103_00001_nrs1_s2d.fits\n",
       "jw02736007001_03103_00001_nrs2_s2d.fits\n",
       "jw02736007001_03103_00002_nrs1_s2d.fits\n",
       "jw02736007001_03103_00002_nrs2_s2d.fits\n",
       "jw02736007001_03103_00003_nrs1_s2d.fits\n",
       "jw02736007001_03103_00003_nrs2_s2d.fits\n",
       "jw02736008001_03103_00001_nrs1_s2d.fits\n",
       "jw02736008001_03103_00001_nrs2_s2d.fits\n",
       "jw02736008001_03103_00002_nrs1_s2d.fits\n",
       "jw02736008001_03103_00002_nrs2_s2d.fits\n",
       "jw02736008001_03103_00003_nrs1_s2d.fits\n",
       "jw02736008001_03103_00003_nrs2_s2d.fits"
      ]
     },
     "execution_count": 11,
     "metadata": {},
     "output_type": "execute_result"
    }
   ],
   "source": [
    "# Unique filenames\n",
    "chosen_files = unique(data_products, keys='productFilename')\n",
    "chosen_filenames = chosen_files['productFilename']\n",
    "chosen_filenames"
   ]
  },
  {
   "cell_type": "code",
   "execution_count": 12,
   "id": "69dbf640-141d-43bc-81d0-34cac7e33cfb",
   "metadata": {},
   "outputs": [],
   "source": [
    "download_dir = '../data/s2d'"
   ]
  },
  {
   "cell_type": "code",
   "execution_count": 13,
   "id": "962d4dd1-6ef2-4fbc-a072-694aa94b18f8",
   "metadata": {},
   "outputs": [
    {
     "name": "stdout",
     "output_type": "stream",
     "text": [
      "Downloading URL https://mast.stsci.edu/api/v0.1/Download/file?uri=mast:jwst/product/jw02736007001_03103_00001_nrs1_s2d.fits to ../data/s2d/jw02736007001_03103_00001_nrs1_s2d.fits ... [Done]\n",
      "Downloading URL https://mast.stsci.edu/api/v0.1/Download/file?uri=mast:jwst/product/jw02736007001_03103_00001_nrs2_s2d.fits to ../data/s2d/jw02736007001_03103_00001_nrs2_s2d.fits ... [Done]\n",
      "Downloading URL https://mast.stsci.edu/api/v0.1/Download/file?uri=mast:jwst/product/jw02736007001_03103_00002_nrs1_s2d.fits to ../data/s2d/jw02736007001_03103_00002_nrs1_s2d.fits ... [Done]\n",
      "Downloading URL https://mast.stsci.edu/api/v0.1/Download/file?uri=mast:jwst/product/jw02736007001_03103_00002_nrs2_s2d.fits to ../data/s2d/jw02736007001_03103_00002_nrs2_s2d.fits ... [Done]\n",
      "Downloading URL https://mast.stsci.edu/api/v0.1/Download/file?uri=mast:jwst/product/jw02736007001_03103_00003_nrs1_s2d.fits to ../data/s2d/jw02736007001_03103_00003_nrs1_s2d.fits ... [Done]\n",
      "Downloading URL https://mast.stsci.edu/api/v0.1/Download/file?uri=mast:jwst/product/jw02736007001_03103_00003_nrs2_s2d.fits to ../data/s2d/jw02736007001_03103_00003_nrs2_s2d.fits ... [Done]\n",
      "Downloading URL https://mast.stsci.edu/api/v0.1/Download/file?uri=mast:jwst/product/jw02736008001_03103_00001_nrs1_s2d.fits to ../data/s2d/jw02736008001_03103_00001_nrs1_s2d.fits ... [Done]\n",
      "Downloading URL https://mast.stsci.edu/api/v0.1/Download/file?uri=mast:jwst/product/jw02736008001_03103_00001_nrs2_s2d.fits to ../data/s2d/jw02736008001_03103_00001_nrs2_s2d.fits ... [Done]\n",
      "Downloading URL https://mast.stsci.edu/api/v0.1/Download/file?uri=mast:jwst/product/jw02736008001_03103_00002_nrs1_s2d.fits to ../data/s2d/jw02736008001_03103_00002_nrs1_s2d.fits ... [Done]\n",
      "Downloading URL https://mast.stsci.edu/api/v0.1/Download/file?uri=mast:jwst/product/jw02736008001_03103_00002_nrs2_s2d.fits to ../data/s2d/jw02736008001_03103_00002_nrs2_s2d.fits ... [Done]\n",
      "Downloading URL https://mast.stsci.edu/api/v0.1/Download/file?uri=mast:jwst/product/jw02736008001_03103_00003_nrs1_s2d.fits to ../data/s2d/jw02736008001_03103_00003_nrs1_s2d.fits ... [Done]\n",
      "Downloading URL https://mast.stsci.edu/api/v0.1/Download/file?uri=mast:jwst/product/jw02736008001_03103_00003_nrs2_s2d.fits to ../data/s2d/jw02736008001_03103_00003_nrs2_s2d.fits ... [Done]\n"
     ]
    }
   ],
   "source": [
    "download_files = download_jwst_files(chosen_filenames, download_dir)"
   ]
  },
  {
   "cell_type": "code",
   "execution_count": 52,
   "id": "831a9956-5326-4a82-8896-a664f96153f0",
   "metadata": {},
   "outputs": [
    {
     "ename": "TypeError",
     "evalue": "'bool' object is not iterable",
     "output_type": "error",
     "traceback": [
      "\u001b[0;31m---------------------------------------------------------------------------\u001b[0m",
      "\u001b[0;31mTypeError\u001b[0m                                 Traceback (most recent call last)",
      "Cell \u001b[0;32mIn[52], line 1\u001b[0m\n\u001b[0;32m----> 1\u001b[0m manifest \u001b[38;5;241m=\u001b[39m \u001b[43mObservations\u001b[49m\u001b[38;5;241;43m.\u001b[39;49m\u001b[43mdownload_products\u001b[49m\u001b[43m(\u001b[49m\u001b[43mdata_products\u001b[49m\u001b[43m,\u001b[49m\u001b[43m \u001b[49m\u001b[43mdownload_dir\u001b[49m\u001b[38;5;241;43m=\u001b[39;49m\u001b[43mdownload_dir\u001b[49m\u001b[43m,\u001b[49m\u001b[43m \u001b[49m\u001b[43mflat\u001b[49m\u001b[38;5;241;43m=\u001b[39;49m\u001b[38;5;28;43;01mTrue\u001b[39;49;00m\u001b[43m,\u001b[49m\u001b[43m \u001b[49m\u001b[43mmrp_only\u001b[49m\u001b[38;5;241;43m=\u001b[39;49m\u001b[38;5;28;43;01mFalse\u001b[39;49;00m\u001b[43m)\u001b[49m\n\u001b[1;32m      2\u001b[0m \u001b[38;5;66;03m#manifest = Observations.download_products(data_products, productType=\"SCIENCE\", download_dir=download_dir, flat=True)\u001b[39;00m\n",
      "File \u001b[0;32m~/miniconda3/envs/jwst-1.12.5_python3.11/lib/python3.11/site-packages/astroquery/mast/observations.py:718\u001b[0m, in \u001b[0;36mObservationsClass.download_products\u001b[0;34m(self, products, download_dir, cache, curl_flag, mrp_only, cloud_only, **filters)\u001b[0m\n\u001b[1;32m    715\u001b[0m     products \u001b[38;5;241m=\u001b[39m vstack(product_lists)\n\u001b[1;32m    717\u001b[0m \u001b[38;5;66;03m# apply filters\u001b[39;00m\n\u001b[0;32m--> 718\u001b[0m products \u001b[38;5;241m=\u001b[39m \u001b[38;5;28;43mself\u001b[39;49m\u001b[38;5;241;43m.\u001b[39;49m\u001b[43mfilter_products\u001b[49m\u001b[43m(\u001b[49m\u001b[43mproducts\u001b[49m\u001b[43m,\u001b[49m\u001b[43m \u001b[49m\u001b[43mmrp_only\u001b[49m\u001b[38;5;241;43m=\u001b[39;49m\u001b[43mmrp_only\u001b[49m\u001b[43m,\u001b[49m\u001b[43m \u001b[49m\u001b[38;5;241;43m*\u001b[39;49m\u001b[38;5;241;43m*\u001b[39;49m\u001b[43mfilters\u001b[49m\u001b[43m)\u001b[49m\n\u001b[1;32m    720\u001b[0m \u001b[38;5;28;01mif\u001b[39;00m \u001b[38;5;129;01mnot\u001b[39;00m \u001b[38;5;28mlen\u001b[39m(products):\n\u001b[1;32m    721\u001b[0m     warnings\u001b[38;5;241m.\u001b[39mwarn(\u001b[38;5;124m\"\u001b[39m\u001b[38;5;124mNo products to download.\u001b[39m\u001b[38;5;124m\"\u001b[39m, NoResultsWarning)\n",
      "File \u001b[0;32m~/miniconda3/envs/jwst-1.12.5_python3.11/lib/python3.11/site-packages/astroquery/mast/observations.py:501\u001b[0m, in \u001b[0;36mObservationsClass.filter_products\u001b[0;34m(self, products, mrp_only, extension, **filters)\u001b[0m\n\u001b[1;32m    498\u001b[0m     vals \u001b[38;5;241m=\u001b[39m [vals]\n\u001b[1;32m    500\u001b[0m mask \u001b[38;5;241m=\u001b[39m np\u001b[38;5;241m.\u001b[39mfull(\u001b[38;5;28mlen\u001b[39m(products), \u001b[38;5;28;01mFalse\u001b[39;00m, dtype\u001b[38;5;241m=\u001b[39m\u001b[38;5;28mbool\u001b[39m)\n\u001b[0;32m--> 501\u001b[0m \u001b[43m\u001b[49m\u001b[38;5;28;43;01mfor\u001b[39;49;00m\u001b[43m \u001b[49m\u001b[43melt\u001b[49m\u001b[43m \u001b[49m\u001b[38;5;129;43;01min\u001b[39;49;00m\u001b[43m \u001b[49m\u001b[43mvals\u001b[49m\u001b[43m:\u001b[49m\n\u001b[1;32m    502\u001b[0m \u001b[43m    \u001b[49m\u001b[43mmask\u001b[49m\u001b[43m \u001b[49m\u001b[38;5;241;43m|\u001b[39;49m\u001b[38;5;241;43m=\u001b[39;49m\u001b[43m \u001b[49m\u001b[43m(\u001b[49m\u001b[43mproducts\u001b[49m\u001b[43m[\u001b[49m\u001b[43mcolname\u001b[49m\u001b[43m]\u001b[49m\u001b[43m \u001b[49m\u001b[38;5;241;43m==\u001b[39;49m\u001b[43m \u001b[49m\u001b[43melt\u001b[49m\u001b[43m)\u001b[49m\n\u001b[1;32m    504\u001b[0m filter_mask \u001b[38;5;241m&\u001b[39m\u001b[38;5;241m=\u001b[39m mask\n",
      "\u001b[0;31mTypeError\u001b[0m: 'bool' object is not iterable"
     ]
    }
   ],
   "source": [
    "#manifest = Observations.download_products(data_products, productType=\"SCIENCE\", download_dir=download_dir, flat=True)\n",
    "manifest = Observations.download_products(data_products, download_dir=download_dir, flat=True, mrp_only=False)"
   ]
  },
  {
   "cell_type": "markdown",
   "id": "d115b75d-3f10-40de-bdbe-302b33728b94",
   "metadata": {},
   "source": [
    "## Download data: spectrum extraction for a single object"
   ]
  },
  {
   "cell_type": "code",
   "execution_count": 50,
   "id": "d91598e1-0679-425a-afc0-73e43b57965d",
   "metadata": {},
   "outputs": [],
   "source": [
    "def allin(elements, list_or_string):\n",
    "    if type(elements) == str:\n",
    "        elements = elements.split()\n",
    "    for element in elements:\n",
    "        if element not in list_or_string:\n",
    "            return False\n",
    "    return True\n",
    "\n",
    "def anyin(elements, list_or_string):\n",
    "    if type(elements) == str:\n",
    "        elements = elements.split()\n",
    "    for element in elements:\n",
    "        if element in list_or_string:\n",
    "            return True\n",
    "    return False\n",
    "\n",
    "def select_files(all_files, search_strings=[]):\n",
    "    chosen_files = [file for file in all_files if allin(search_strings, file)]\n",
    "    #if len(chosen_files) == 1:\n",
    "    #    chosen_files = chosen_files[0]\n",
    "    return chosen_files    "
   ]
  },
  {
   "cell_type": "code",
   "execution_count": 25,
   "id": "2aea0c61-0bd5-4921-9a7a-7d9caa7e7ae2",
   "metadata": {},
   "outputs": [
    {
     "data": {
      "text/html": [
       "&lt;MaskedColumn name=&apos;productFilename&apos; dtype=&apos;str52&apos; length=1566&gt;\n",
       "<table>\n",
       "<tr><td>jw02736-o007_20231116t144653_image2_00001_asn.json</td></tr>\n",
       "<tr><td>jw02736-o007_20231116t144653_image2_00002_asn.json</td></tr>\n",
       "<tr><td>jw02736-o007_20231116t144653_image2_00003_asn.json</td></tr>\n",
       "<tr><td>jw02736-o007_20231116t144653_image2_00004_asn.json</td></tr>\n",
       "<tr><td>jw02736-o007_20231116t144653_image2_00005_asn.json</td></tr>\n",
       "<tr><td>jw02736-o007_20231116t144653_image2_00006_asn.json</td></tr>\n",
       "<tr><td>jw02736-o007_20231116t144653_image2_00007_asn.json</td></tr>\n",
       "<tr><td>jw02736-o007_20231116t144653_image2_00008_asn.json</td></tr>\n",
       "<tr><td>jw02736-o007_20231116t144653_spec2_00001_asn.json</td></tr>\n",
       "<tr><td>jw02736-o007_20231116t144653_spec2_00002_asn.json</td></tr>\n",
       "<tr><td>jw02736-o007_20231116t144653_spec2_00003_asn.json</td></tr>\n",
       "<tr><td>jw02736-o007_20231116t144653_spec2_00004_asn.json</td></tr>\n",
       "<tr><td>jw02736-o007_20231116t144653_spec2_00005_asn.json</td></tr>\n",
       "<tr><td>jw02736-o007_20231116t144653_spec2_00006_asn.json</td></tr>\n",
       "<tr><td>jw02736-o007_20231116t144653_spec3_00001_asn.json</td></tr>\n",
       "<tr><td>jw02736-o007_s00001_nirspec_f290lp-g395m_cal.fits</td></tr>\n",
       "<tr><td>jw02736-o007_s00001_nirspec_f290lp-g395m_cal.jpg</td></tr>\n",
       "<tr><td>jw02736-o007_s00001_nirspec_f290lp-g395m_crf.fits</td></tr>\n",
       "<tr><td>jw02736-o007_s00001_nirspec_f290lp-g395m_crf.jpg</td></tr>\n",
       "<tr><td>...</td></tr>\n",
       "<tr><td>jw02736008001_gs-track_2022181151030_stream.fits</td></tr>\n",
       "<tr><td>jw02736008001_gs-track_2022181151030_uncal.fits</td></tr>\n",
       "<tr><td>jw02736008001_gs-track_2022181162253_cal.fits</td></tr>\n",
       "<tr><td>jw02736008001_gs-track_2022181162253_stream.fits</td></tr>\n",
       "<tr><td>jw02736008001_gs-track_2022181162253_uncal.fits</td></tr>\n",
       "<tr><td>jw02736008001_gs-track_2022181171356_cal.fits</td></tr>\n",
       "<tr><td>jw02736008001_gs-track_2022181171356_stream.fits</td></tr>\n",
       "<tr><td>jw02736008001_gs-track_2022181171356_uncal.fits</td></tr>\n",
       "<tr><td>jw02736008001_gs-track_2022181180527_cal.fits</td></tr>\n",
       "<tr><td>jw02736008001_gs-track_2022181180527_stream.fits</td></tr>\n",
       "<tr><td>jw02736008001_gs-track_2022181180527_uncal.fits</td></tr>\n",
       "<tr><td>jw02736008001_gs-track_2022181185830_cal.fits</td></tr>\n",
       "<tr><td>jw02736008001_gs-track_2022181185830_stream.fits</td></tr>\n",
       "<tr><td>jw02736008001_gs-track_2022181185830_uncal.fits</td></tr>\n",
       "<tr><td>jw02736008001_gs-track_2022181194933_cal.fits</td></tr>\n",
       "<tr><td>jw02736008001_gs-track_2022181194933_stream.fits</td></tr>\n",
       "<tr><td>jw02736008001_gs-track_2022181194933_uncal.fits</td></tr>\n",
       "<tr><td>jw02736_20231116t144653_pool.csv</td></tr>\n",
       "</table>"
      ],
      "text/plain": [
       "<MaskedColumn name='productFilename' dtype='str52' length=1566>\n",
       "jw02736-o007_20231116t144653_image2_00001_asn.json\n",
       "jw02736-o007_20231116t144653_image2_00002_asn.json\n",
       "jw02736-o007_20231116t144653_image2_00003_asn.json\n",
       "jw02736-o007_20231116t144653_image2_00004_asn.json\n",
       "jw02736-o007_20231116t144653_image2_00005_asn.json\n",
       "jw02736-o007_20231116t144653_image2_00006_asn.json\n",
       "jw02736-o007_20231116t144653_image2_00007_asn.json\n",
       "jw02736-o007_20231116t144653_image2_00008_asn.json\n",
       " jw02736-o007_20231116t144653_spec2_00001_asn.json\n",
       " jw02736-o007_20231116t144653_spec2_00002_asn.json\n",
       " jw02736-o007_20231116t144653_spec2_00003_asn.json\n",
       " jw02736-o007_20231116t144653_spec2_00004_asn.json\n",
       " jw02736-o007_20231116t144653_spec2_00005_asn.json\n",
       " jw02736-o007_20231116t144653_spec2_00006_asn.json\n",
       " jw02736-o007_20231116t144653_spec3_00001_asn.json\n",
       " jw02736-o007_s00001_nirspec_f290lp-g395m_cal.fits\n",
       "  jw02736-o007_s00001_nirspec_f290lp-g395m_cal.jpg\n",
       " jw02736-o007_s00001_nirspec_f290lp-g395m_crf.fits\n",
       "  jw02736-o007_s00001_nirspec_f290lp-g395m_crf.jpg\n",
       "                                               ...\n",
       "  jw02736008001_gs-track_2022181151030_stream.fits\n",
       "   jw02736008001_gs-track_2022181151030_uncal.fits\n",
       "     jw02736008001_gs-track_2022181162253_cal.fits\n",
       "  jw02736008001_gs-track_2022181162253_stream.fits\n",
       "   jw02736008001_gs-track_2022181162253_uncal.fits\n",
       "     jw02736008001_gs-track_2022181171356_cal.fits\n",
       "  jw02736008001_gs-track_2022181171356_stream.fits\n",
       "   jw02736008001_gs-track_2022181171356_uncal.fits\n",
       "     jw02736008001_gs-track_2022181180527_cal.fits\n",
       "  jw02736008001_gs-track_2022181180527_stream.fits\n",
       "   jw02736008001_gs-track_2022181180527_uncal.fits\n",
       "     jw02736008001_gs-track_2022181185830_cal.fits\n",
       "  jw02736008001_gs-track_2022181185830_stream.fits\n",
       "   jw02736008001_gs-track_2022181185830_uncal.fits\n",
       "     jw02736008001_gs-track_2022181194933_cal.fits\n",
       "  jw02736008001_gs-track_2022181194933_stream.fits\n",
       "   jw02736008001_gs-track_2022181194933_uncal.fits\n",
       "                  jw02736_20231116t144653_pool.csv"
      ]
     },
     "execution_count": 25,
     "metadata": {},
     "output_type": "execute_result"
    }
   ],
   "source": [
    "all_files = unique(products_list, keys='productFilename')\n",
    "all_filenames = all_files['productFilename']\n",
    "all_filenames"
   ]
  },
  {
   "cell_type": "code",
   "execution_count": 26,
   "id": "b096ff35-539d-4c56-b601-d2a3b16092c3",
   "metadata": {},
   "outputs": [
    {
     "data": {
      "text/plain": [
       "['jw02736-o007_s06355_nirspec_f290lp-g395m_cal.fits',\n",
       " 'jw02736-o007_s06355_nirspec_f290lp-g395m_cal.jpg',\n",
       " 'jw02736-o007_s06355_nirspec_f290lp-g395m_crf.fits',\n",
       " 'jw02736-o007_s06355_nirspec_f290lp-g395m_crf.jpg',\n",
       " 'jw02736-o007_s06355_nirspec_f290lp-g395m_s2d.fits',\n",
       " 'jw02736-o007_s06355_nirspec_f290lp-g395m_s2d.jpg',\n",
       " 'jw02736-o007_s06355_nirspec_f290lp-g395m_x1d.fits']"
      ]
     },
     "execution_count": 26,
     "metadata": {},
     "output_type": "execute_result"
    }
   ],
   "source": [
    "source_id = 6355  # z = 7.655 excellent spectrum w/ bright lines; better than 10612 z = 7.663 in press release\n",
    "source_str = 's%05d' % source_id\n",
    "\n",
    "chosen_files = select_files(all_filenames, search_strings=['o007', source_str, 'g395m']) #, 'x1d', 'fits'])\n",
    "chosen_files"
   ]
  },
  {
   "cell_type": "code",
   "execution_count": 28,
   "id": "2b10228a-69c0-4dd0-b51e-fcb677fe057c",
   "metadata": {},
   "outputs": [
    {
     "name": "stdout",
     "output_type": "stream",
     "text": [
      "Downloading URL https://mast.stsci.edu/api/v0.1/Download/file?uri=mast:jwst/product/jw02736-o007_s06355_nirspec_f290lp-g395m_cal.fits to ../data/s06355/jw02736-o007_s06355_nirspec_f290lp-g395m_cal.fits ... [Done]\n",
      "Downloading URL https://mast.stsci.edu/api/v0.1/Download/file?uri=mast:jwst/product/jw02736-o007_s06355_nirspec_f290lp-g395m_cal.jpg to ../data/s06355/jw02736-o007_s06355_nirspec_f290lp-g395m_cal.jpg ... [Done]\n",
      "Downloading URL https://mast.stsci.edu/api/v0.1/Download/file?uri=mast:jwst/product/jw02736-o007_s06355_nirspec_f290lp-g395m_crf.fits to ../data/s06355/jw02736-o007_s06355_nirspec_f290lp-g395m_crf.fits ... [Done]\n",
      "Downloading URL https://mast.stsci.edu/api/v0.1/Download/file?uri=mast:jwst/product/jw02736-o007_s06355_nirspec_f290lp-g395m_crf.jpg to ../data/s06355/jw02736-o007_s06355_nirspec_f290lp-g395m_crf.jpg ... [Done]\n",
      "Downloading URL https://mast.stsci.edu/api/v0.1/Download/file?uri=mast:jwst/product/jw02736-o007_s06355_nirspec_f290lp-g395m_s2d.fits to ../data/s06355/jw02736-o007_s06355_nirspec_f290lp-g395m_s2d.fits ... [Done]\n",
      "Downloading URL https://mast.stsci.edu/api/v0.1/Download/file?uri=mast:jwst/product/jw02736-o007_s06355_nirspec_f290lp-g395m_s2d.jpg to ../data/s06355/jw02736-o007_s06355_nirspec_f290lp-g395m_s2d.jpg ... [Done]\n",
      "Downloading URL https://mast.stsci.edu/api/v0.1/Download/file?uri=mast:jwst/product/jw02736-o007_s06355_nirspec_f290lp-g395m_x1d.fits to ../data/s06355/jw02736-o007_s06355_nirspec_f290lp-g395m_x1d.fits ... [Done]\n"
     ]
    }
   ],
   "source": [
    "#download_dir = 'data'  # Define and create directory to save downloads\n",
    "download_dir = '../data'  # Define and create directory to save downloads\n",
    "download_dir = os.path.join(download_dir, source_str)\n",
    "download_files = download_jwst_files(chosen_files, download_dir)"
   ]
  },
  {
   "cell_type": "markdown",
   "id": "5b1591ce-6065-48b2-9389-118cd4b2bc1e",
   "metadata": {},
   "source": [
    "# NIRCam images"
   ]
  },
  {
   "cell_type": "code",
   "execution_count": 42,
   "id": "64673b35-7da3-4c57-895d-4de0cb7cb207",
   "metadata": {},
   "outputs": [],
   "source": [
    "nircam_obs_table = Observations.query_criteria(obs_collection= 'JWST', \n",
    "                                            proposal_id = 2736,  # program number 2736: ERO SMACS0723\n",
    "                                            instrument_name = 'NIRCAM/IMAGE',\n",
    "                                            dataproduct_type = 'IMAGE',\n",
    "                                            filters = 'f200w', \n",
    "                                            productType = 'SCIENCE', \n",
    "                                            productSubGroupDescription = 'i2d',  # UNCAL, RATE, RATEINTS, CAL, I2D, X1D, S2D\n",
    "                                            type = 'D', # 'S': all objects;  'D': individual object\n",
    "                                            calib_level = 3,\n",
    "                                              )\n",
    "\n",
    "nircam_products_list = Observations.get_product_list(nircam_obs_table)  # all output products including images, catalogs, etc."
   ]
  },
  {
   "cell_type": "code",
   "execution_count": 43,
   "id": "94b37531-9401-478f-b3f0-5fd4aca15c6e",
   "metadata": {},
   "outputs": [
    {
     "data": {
      "text/html": [
       "<div><i>Table masked=True length=13974</i>\n",
       "<table id=\"table5081042448\" class=\"table-striped table-bordered table-condensed\">\n",
       "<thead><tr><th>obsID</th><th>obs_collection</th><th>dataproduct_type</th><th>obs_id</th><th>description</th><th>type</th><th>dataURI</th><th>productType</th><th>productGroupDescription</th><th>productSubGroupDescription</th><th>productDocumentationURL</th><th>project</th><th>prvversion</th><th>proposal_id</th><th>productFilename</th><th>size</th><th>parent_obsid</th><th>dataRights</th><th>calib_level</th></tr></thead>\n",
       "<thead><tr><th>str8</th><th>str4</th><th>str5</th><th>str36</th><th>str64</th><th>str1</th><th>str68</th><th>str9</th><th>str28</th><th>str11</th><th>str1</th><th>str7</th><th>str6</th><th>str4</th><th>str50</th><th>int64</th><th>str8</th><th>str6</th><th>int64</th></tr></thead>\n",
       "<tr><td>87602476</td><td>JWST</td><td>image</td><td>jw02736-o001_t001_nircam_clear-f200w</td><td>target   (L3) : segmentation map</td><td>D</td><td>mast:JWST/product/jw02736-o001_t001_nircam_clear-f200w_segm.fits</td><td>AUXILIARY</td><td>Minimum Recommended Products</td><td>SEGM</td><td>--</td><td>CALJWST</td><td>1.11.4</td><td>2736</td><td>jw02736-o001_t001_nircam_clear-f200w_segm.fits</td><td>195808320</td><td>87602476</td><td>PUBLIC</td><td>3</td></tr>\n",
       "<tr><td>87602476</td><td>JWST</td><td>image</td><td>jw02736-o001_t001_nircam_clear-f200w</td><td>source/target (L3) : association generator</td><td>D</td><td>mast:JWST/product/jw02736-o001_20231116t144653_image3_00002_asn.json</td><td>INFO</td><td>Minimum Recommended Products</td><td>ASN</td><td>--</td><td>CALJWST</td><td>1.11.4</td><td>2736</td><td>jw02736-o001_20231116t144653_image3_00002_asn.json</td><td>20413</td><td>87602476</td><td>PUBLIC</td><td>3</td></tr>\n",
       "<tr><td>87602476</td><td>JWST</td><td>image</td><td>jw02736-o001_t001_nircam_clear-f200w</td><td>source/target (L3) : association pool</td><td>D</td><td>mast:JWST/product/jw02736_20231116t144653_pool.csv</td><td>INFO</td><td>Minimum Recommended Products</td><td>POOL</td><td>--</td><td>CALJWST</td><td>1.11.4</td><td>2736</td><td>jw02736_20231116t144653_pool.csv</td><td>177115</td><td>87602476</td><td>PUBLIC</td><td>3</td></tr>\n",
       "<tr><td>87602476</td><td>JWST</td><td>image</td><td>jw02736-o001_t001_nircam_clear-f200w</td><td>Preview-Full</td><td>D</td><td>mast:JWST/product/jw02736-o001_t001_nircam_clear-f200w_i2d.jpg</td><td>PREVIEW</td><td>--</td><td>--</td><td>--</td><td>CALJWST</td><td>1.11.4</td><td>2736</td><td>jw02736-o001_t001_nircam_clear-f200w_i2d.jpg</td><td>4960664</td><td>87602476</td><td>PUBLIC</td><td>3</td></tr>\n",
       "<tr><td>87602476</td><td>JWST</td><td>image</td><td>jw02736-o001_t001_nircam_clear-f200w</td><td>target   (L3) : source catalog</td><td>D</td><td>mast:JWST/product/jw02736-o001_t001_nircam_clear-f200w_cat.ecsv</td><td>SCIENCE</td><td>Minimum Recommended Products</td><td>CAT</td><td>--</td><td>CALJWST</td><td>1.11.4</td><td>2736</td><td>jw02736-o001_t001_nircam_clear-f200w_cat.ecsv</td><td>3563250</td><td>87602476</td><td>PUBLIC</td><td>3</td></tr>\n",
       "<tr><td>87602476</td><td>JWST</td><td>image</td><td>jw02736-o001_t001_nircam_clear-f200w</td><td>exposure/target (L2b/L3): rectified 2D image</td><td>D</td><td>mast:JWST/product/jw02736-o001_t001_nircam_clear-f200w_i2d.fits</td><td>SCIENCE</td><td>Minimum Recommended Products</td><td>I2D</td><td>--</td><td>CALJWST</td><td>1.11.4</td><td>2736</td><td>jw02736-o001_t001_nircam_clear-f200w_i2d.fits</td><td>1762260480</td><td>87602476</td><td>PUBLIC</td><td>3</td></tr>\n",
       "<tr><td>87600962</td><td>JWST</td><td>image</td><td>jw02736001001_02105_00001_nrca1</td><td>FGS1 guide star acquisition</td><td>S</td><td>mast:JWST/product/jw02736001001_gs-acq1_2022158002931_stream.fits</td><td>AUXILIARY</td><td>--</td><td>GS-ACQ1</td><td>--</td><td>CALJWST</td><td>--</td><td>2736</td><td>jw02736001001_gs-acq1_2022158002931_stream.fits</td><td>406080</td><td>87602476</td><td>PUBLIC</td><td>1</td></tr>\n",
       "<tr><td>87600962</td><td>JWST</td><td>image</td><td>jw02736001001_02105_00001_nrca1</td><td>FGS1 guide star acquisition</td><td>S</td><td>mast:JWST/product/jw02736001001_gs-acq1_2022158002931_uncal.fits</td><td>AUXILIARY</td><td>--</td><td>GS-ACQ1</td><td>--</td><td>CALJWST</td><td>--</td><td>2736</td><td>jw02736001001_gs-acq1_2022158002931_uncal.fits</td><td>420480</td><td>87602476</td><td>PUBLIC</td><td>1</td></tr>\n",
       "<tr><td>87600962</td><td>JWST</td><td>image</td><td>jw02736001001_02105_00001_nrca1</td><td>FGS1 guide star acquisition</td><td>S</td><td>mast:JWST/product/jw02736001001_gs-acq1_2022158003016_stream.fits</td><td>AUXILIARY</td><td>--</td><td>GS-ACQ1</td><td>--</td><td>CALJWST</td><td>--</td><td>2736</td><td>jw02736001001_gs-acq1_2022158003016_stream.fits</td><td>406080</td><td>87602476</td><td>PUBLIC</td><td>1</td></tr>\n",
       "<tr><td>87600962</td><td>JWST</td><td>image</td><td>jw02736001001_02105_00001_nrca1</td><td>FGS1 guide star acquisition</td><td>S</td><td>mast:JWST/product/jw02736001001_gs-acq1_2022158003016_uncal.fits</td><td>AUXILIARY</td><td>--</td><td>GS-ACQ1</td><td>--</td><td>CALJWST</td><td>--</td><td>2736</td><td>jw02736001001_gs-acq1_2022158003016_uncal.fits</td><td>420480</td><td>87602476</td><td>PUBLIC</td><td>1</td></tr>\n",
       "<tr><td>87600962</td><td>JWST</td><td>image</td><td>jw02736001001_02105_00001_nrca1</td><td>FGS1 guide star acquisition</td><td>S</td><td>mast:JWST/product/jw02736001001_gs-acq1_2022158002931_cal.fits</td><td>AUXILIARY</td><td>--</td><td>GS-ACQ1</td><td>--</td><td>CALJWST</td><td>1.11.4</td><td>2736</td><td>jw02736001001_gs-acq1_2022158002931_cal.fits</td><td>1284480</td><td>87602476</td><td>PUBLIC</td><td>2</td></tr>\n",
       "<tr><td>87600962</td><td>JWST</td><td>image</td><td>jw02736001001_02105_00001_nrca1</td><td>FGS1 guide star acquisition</td><td>S</td><td>mast:JWST/product/jw02736001001_gs-acq1_2022158003016_cal.fits</td><td>AUXILIARY</td><td>--</td><td>GS-ACQ1</td><td>--</td><td>CALJWST</td><td>1.11.4</td><td>2736</td><td>jw02736001001_gs-acq1_2022158003016_cal.fits</td><td>1284480</td><td>87602476</td><td>PUBLIC</td><td>2</td></tr>\n",
       "<tr><td>87600962</td><td>JWST</td><td>image</td><td>jw02736001001_02105_00001_nrca1</td><td>FGS2 guide star acquisition</td><td>S</td><td>mast:JWST/product/jw02736001001_gs-acq2_2022158002933_stream.fits</td><td>AUXILIARY</td><td>--</td><td>GS-ACQ2</td><td>--</td><td>CALJWST</td><td>--</td><td>2736</td><td>jw02736001001_gs-acq2_2022158002933_stream.fits</td><td>34560</td><td>87602476</td><td>PUBLIC</td><td>1</td></tr>\n",
       "<tr><td>87600962</td><td>JWST</td><td>image</td><td>jw02736001001_02105_00001_nrca1</td><td>FGS2 guide star acquisition</td><td>S</td><td>mast:JWST/product/jw02736001001_gs-acq2_2022158002933_uncal.fits</td><td>AUXILIARY</td><td>--</td><td>GS-ACQ2</td><td>--</td><td>CALJWST</td><td>--</td><td>2736</td><td>jw02736001001_gs-acq2_2022158002933_uncal.fits</td><td>48960</td><td>87602476</td><td>PUBLIC</td><td>1</td></tr>\n",
       "<tr><td>87600962</td><td>JWST</td><td>image</td><td>jw02736001001_02105_00001_nrca1</td><td>FGS2 guide star acquisition</td><td>S</td><td>mast:JWST/product/jw02736001001_gs-acq2_2022158003018_stream.fits</td><td>AUXILIARY</td><td>--</td><td>GS-ACQ2</td><td>--</td><td>CALJWST</td><td>--</td><td>2736</td><td>jw02736001001_gs-acq2_2022158003018_stream.fits</td><td>34560</td><td>87602476</td><td>PUBLIC</td><td>1</td></tr>\n",
       "<tr><td>87600962</td><td>JWST</td><td>image</td><td>jw02736001001_02105_00001_nrca1</td><td>FGS2 guide star acquisition</td><td>S</td><td>mast:JWST/product/jw02736001001_gs-acq2_2022158003018_uncal.fits</td><td>AUXILIARY</td><td>--</td><td>GS-ACQ2</td><td>--</td><td>CALJWST</td><td>--</td><td>2736</td><td>jw02736001001_gs-acq2_2022158003018_uncal.fits</td><td>48960</td><td>87602476</td><td>PUBLIC</td><td>1</td></tr>\n",
       "<tr><td>...</td><td>...</td><td>...</td><td>...</td><td>...</td><td>...</td><td>...</td><td>...</td><td>...</td><td>...</td><td>...</td><td>...</td><td>...</td><td>...</td><td>...</td><td>...</td><td>...</td><td>...</td><td>...</td></tr>\n",
       "<tr><td>87601042</td><td>JWST</td><td>image</td><td>jw02736001001_02105_00009_nrcb4</td><td>FGS guide star tracking</td><td>S</td><td>mast:JWST/product/jw02736001001_gs-track_2022158070619_cal.fits</td><td>AUXILIARY</td><td>--</td><td>GS-TRACK</td><td>--</td><td>CALJWST</td><td>1.11.4</td><td>2736</td><td>jw02736001001_gs-track_2022158070619_cal.fits</td><td>2494080</td><td>87602476</td><td>PUBLIC</td><td>2</td></tr>\n",
       "<tr><td>87601042</td><td>JWST</td><td>image</td><td>jw02736001001_02105_00009_nrcb4</td><td>FGS guide star tracking</td><td>S</td><td>mast:JWST/product/jw02736001001_gs-track_2022158072142_cal.fits</td><td>AUXILIARY</td><td>--</td><td>GS-TRACK</td><td>--</td><td>CALJWST</td><td>1.11.4</td><td>2736</td><td>jw02736001001_gs-track_2022158072142_cal.fits</td><td>2494080</td><td>87602476</td><td>PUBLIC</td><td>2</td></tr>\n",
       "<tr><td>87601042</td><td>JWST</td><td>image</td><td>jw02736001001_02105_00009_nrcb4</td><td>exposure (L2a): charge trap product for persistence</td><td>S</td><td>mast:JWST/product/jw02736001001_02105_00009_nrcb4_trapsfilled.fits</td><td>AUXILIARY</td><td>--</td><td>TRAPSFILLED</td><td>--</td><td>CALJWST</td><td>1.11.4</td><td>2736</td><td>jw02736001001_02105_00009_nrcb4_trapsfilled.fits</td><td>50365440</td><td>87602476</td><td>PUBLIC</td><td>2</td></tr>\n",
       "<tr><td>87601042</td><td>JWST</td><td>image</td><td>jw02736001001_02105_00009_nrcb4</td><td>source/target (L3) : association generator</td><td>S</td><td>mast:JWST/product/jw02736-o001_20231116t144653_image2_00002_asn.json</td><td>INFO</td><td>--</td><td>ASN</td><td>--</td><td>CALJWST</td><td>1.11.4</td><td>2736</td><td>jw02736-o001_20231116t144653_image2_00002_asn.json</td><td>1804</td><td>87602476</td><td>PUBLIC</td><td>2</td></tr>\n",
       "<tr><td>87601042</td><td>JWST</td><td>image</td><td>jw02736001001_02105_00009_nrcb4</td><td>source/target (L3) : association pool</td><td>S</td><td>mast:JWST/product/jw02736_20231116t144653_pool.csv</td><td>INFO</td><td>--</td><td>POOL</td><td>--</td><td>CALJWST</td><td>1.11.4</td><td>2736</td><td>jw02736_20231116t144653_pool.csv</td><td>177115</td><td>87602476</td><td>PUBLIC</td><td>2</td></tr>\n",
       "<tr><td>87601042</td><td>JWST</td><td>image</td><td>jw02736001001_02105_00009_nrcb4</td><td>Preview-Full</td><td>S</td><td>mast:JWST/product/jw02736001001_02105_00009_nrcb4_uncal.jpg</td><td>PREVIEW</td><td>--</td><td>--</td><td>--</td><td>CALJWST</td><td>--</td><td>2736</td><td>jw02736001001_02105_00009_nrcb4_uncal.jpg</td><td>680740</td><td>87602476</td><td>PUBLIC</td><td>1</td></tr>\n",
       "<tr><td>87601042</td><td>JWST</td><td>image</td><td>jw02736001001_02105_00009_nrcb4</td><td>Preview-Full</td><td>S</td><td>mast:JWST/product/jw02736001001_02105_00009_nrcb4_cal.jpg</td><td>PREVIEW</td><td>--</td><td>--</td><td>--</td><td>CALJWST</td><td>1.11.4</td><td>2736</td><td>jw02736001001_02105_00009_nrcb4_cal.jpg</td><td>555929</td><td>87602476</td><td>PUBLIC</td><td>2</td></tr>\n",
       "<tr><td>87601042</td><td>JWST</td><td>image</td><td>jw02736001001_02105_00009_nrcb4</td><td>Preview-Full</td><td>S</td><td>mast:JWST/product/jw02736001001_02105_00009_nrcb4_o001_crf.jpg</td><td>PREVIEW</td><td>--</td><td>--</td><td>--</td><td>CALJWST</td><td>1.11.4</td><td>2736</td><td>jw02736001001_02105_00009_nrcb4_o001_crf.jpg</td><td>555929</td><td>87602476</td><td>PUBLIC</td><td>2</td></tr>\n",
       "<tr><td>87601042</td><td>JWST</td><td>image</td><td>jw02736001001_02105_00009_nrcb4</td><td>Preview-Full</td><td>S</td><td>mast:JWST/product/jw02736001001_02105_00009_nrcb4_rate.jpg</td><td>PREVIEW</td><td>--</td><td>--</td><td>--</td><td>CALJWST</td><td>1.11.4</td><td>2736</td><td>jw02736001001_02105_00009_nrcb4_rate.jpg</td><td>553219</td><td>87602476</td><td>PUBLIC</td><td>2</td></tr>\n",
       "<tr><td>87601042</td><td>JWST</td><td>image</td><td>jw02736001001_02105_00009_nrcb4</td><td>Preview-Full</td><td>S</td><td>mast:JWST/product/jw02736001001_02105_00009_nrcb4_rateints.jpg</td><td>PREVIEW</td><td>--</td><td>--</td><td>--</td><td>CALJWST</td><td>1.11.4</td><td>2736</td><td>jw02736001001_02105_00009_nrcb4_rateints.jpg</td><td>553273</td><td>87602476</td><td>PUBLIC</td><td>2</td></tr>\n",
       "<tr><td>87601042</td><td>JWST</td><td>image</td><td>jw02736001001_02105_00009_nrcb4</td><td>Preview-Full</td><td>S</td><td>mast:JWST/product/jw02736001001_02105_00009_nrcb4_trapsfilled.jpg</td><td>PREVIEW</td><td>--</td><td>--</td><td>--</td><td>CALJWST</td><td>1.11.4</td><td>2736</td><td>jw02736001001_02105_00009_nrcb4_trapsfilled.jpg</td><td>49533</td><td>87602476</td><td>PUBLIC</td><td>2</td></tr>\n",
       "<tr><td>87601042</td><td>JWST</td><td>image</td><td>jw02736001001_02105_00009_nrcb4</td><td>exposure (L2c): 2D Calibrated data averaged over integrations</td><td>S</td><td>mast:JWST/product/jw02736001001_02105_00009_nrcb4_o001_crf.fits</td><td>SCIENCE</td><td>--</td><td>ANNNN_CRF</td><td>--</td><td>CALJWST</td><td>1.11.4</td><td>2736</td><td>jw02736001001_02105_00009_nrcb4_o001_crf.fits</td><td>117550080</td><td>87602476</td><td>PUBLIC</td><td>2</td></tr>\n",
       "<tr><td>87601042</td><td>JWST</td><td>image</td><td>jw02736001001_02105_00009_nrcb4</td><td>exposure (L2b): 2D calibrated exposure average over integrations</td><td>S</td><td>mast:JWST/product/jw02736001001_02105_00009_nrcb4_cal.fits</td><td>SCIENCE</td><td>--</td><td>CAL</td><td>--</td><td>CALJWST</td><td>1.11.4</td><td>2736</td><td>jw02736001001_02105_00009_nrcb4_cal.fits</td><td>117538560</td><td>87602476</td><td>PUBLIC</td><td>2</td></tr>\n",
       "<tr><td>87601042</td><td>JWST</td><td>image</td><td>jw02736001001_02105_00009_nrcb4</td><td>exposure/target (L2b/L3): rectified 2D image</td><td>S</td><td>mast:JWST/product/jw02736001001_02105_00009_nrcb4_i2d.fits</td><td>SCIENCE</td><td>--</td><td>I2D</td><td>--</td><td>CALJWST</td><td>1.11.4</td><td>2736</td><td>jw02736001001_02105_00009_nrcb4_i2d.fits</td><td>119018880</td><td>87602476</td><td>PUBLIC</td><td>2</td></tr>\n",
       "<tr><td>87601042</td><td>JWST</td><td>image</td><td>jw02736001001_02105_00009_nrcb4</td><td>exposure (L2a): 2D count rate averaged over integrations</td><td>S</td><td>mast:JWST/product/jw02736001001_02105_00009_nrcb4_rate.fits</td><td>SCIENCE</td><td>--</td><td>RATE</td><td>--</td><td>CALJWST</td><td>1.11.4</td><td>2736</td><td>jw02736001001_02105_00009_nrcb4_rate.fits</td><td>83949120</td><td>87602476</td><td>PUBLIC</td><td>2</td></tr>\n",
       "<tr><td>87601042</td><td>JWST</td><td>image</td><td>jw02736001001_02105_00009_nrcb4</td><td>exposure (L2a): 3D countrate per integration</td><td>S</td><td>mast:JWST/product/jw02736001001_02105_00009_nrcb4_rateints.fits</td><td>SCIENCE</td><td>--</td><td>RATEINTS</td><td>--</td><td>CALJWST</td><td>1.11.4</td><td>2736</td><td>jw02736001001_02105_00009_nrcb4_rateints.fits</td><td>83954880</td><td>87602476</td><td>PUBLIC</td><td>2</td></tr>\n",
       "<tr><td>87601042</td><td>JWST</td><td>image</td><td>jw02736001001_02105_00009_nrcb4</td><td>exposure (L1b): Uncalibrated 4D exposure data</td><td>S</td><td>mast:JWST/product/jw02736001001_02105_00009_nrcb4_uncal.fits</td><td>SCIENCE</td><td>--</td><td>UNCAL</td><td>--</td><td>CALJWST</td><td>--</td><td>2736</td><td>jw02736001001_02105_00009_nrcb4_uncal.fits</td><td>75553920</td><td>87602476</td><td>PUBLIC</td><td>1</td></tr>\n",
       "</table></div>"
      ],
      "text/plain": [
       "<Table masked=True length=13974>\n",
       " obsID   obs_collection dataproduct_type ... parent_obsid dataRights calib_level\n",
       "  str8        str4            str5       ...     str8        str6       int64   \n",
       "-------- -------------- ---------------- ... ------------ ---------- -----------\n",
       "87602476           JWST            image ...     87602476     PUBLIC           3\n",
       "87602476           JWST            image ...     87602476     PUBLIC           3\n",
       "87602476           JWST            image ...     87602476     PUBLIC           3\n",
       "87602476           JWST            image ...     87602476     PUBLIC           3\n",
       "87602476           JWST            image ...     87602476     PUBLIC           3\n",
       "87602476           JWST            image ...     87602476     PUBLIC           3\n",
       "87600962           JWST            image ...     87602476     PUBLIC           1\n",
       "87600962           JWST            image ...     87602476     PUBLIC           1\n",
       "87600962           JWST            image ...     87602476     PUBLIC           1\n",
       "87600962           JWST            image ...     87602476     PUBLIC           1\n",
       "87600962           JWST            image ...     87602476     PUBLIC           2\n",
       "87600962           JWST            image ...     87602476     PUBLIC           2\n",
       "87600962           JWST            image ...     87602476     PUBLIC           1\n",
       "87600962           JWST            image ...     87602476     PUBLIC           1\n",
       "87600962           JWST            image ...     87602476     PUBLIC           1\n",
       "87600962           JWST            image ...     87602476     PUBLIC           1\n",
       "     ...            ...              ... ...          ...        ...         ...\n",
       "87601042           JWST            image ...     87602476     PUBLIC           2\n",
       "87601042           JWST            image ...     87602476     PUBLIC           2\n",
       "87601042           JWST            image ...     87602476     PUBLIC           2\n",
       "87601042           JWST            image ...     87602476     PUBLIC           2\n",
       "87601042           JWST            image ...     87602476     PUBLIC           2\n",
       "87601042           JWST            image ...     87602476     PUBLIC           1\n",
       "87601042           JWST            image ...     87602476     PUBLIC           2\n",
       "87601042           JWST            image ...     87602476     PUBLIC           2\n",
       "87601042           JWST            image ...     87602476     PUBLIC           2\n",
       "87601042           JWST            image ...     87602476     PUBLIC           2\n",
       "87601042           JWST            image ...     87602476     PUBLIC           2\n",
       "87601042           JWST            image ...     87602476     PUBLIC           2\n",
       "87601042           JWST            image ...     87602476     PUBLIC           2\n",
       "87601042           JWST            image ...     87602476     PUBLIC           2\n",
       "87601042           JWST            image ...     87602476     PUBLIC           2\n",
       "87601042           JWST            image ...     87602476     PUBLIC           2\n",
       "87601042           JWST            image ...     87602476     PUBLIC           1"
      ]
     },
     "execution_count": 43,
     "metadata": {},
     "output_type": "execute_result"
    }
   ],
   "source": [
    "nircam_products_list"
   ]
  },
  {
   "cell_type": "code",
   "execution_count": 51,
   "id": "1505557b-aa28-4a38-a8ac-5116a39eca89",
   "metadata": {},
   "outputs": [
    {
     "data": {
      "text/plain": [
       "['jw02736-o001_t001_nircam_clear-f200w_i2d.fits']"
      ]
     },
     "execution_count": 51,
     "metadata": {},
     "output_type": "execute_result"
    }
   ],
   "source": [
    "all_files = unique(nircam_products_list, keys='productFilename')\n",
    "all_filenames = all_files['productFilename']\n",
    "chosen_files = select_files(all_filenames, search_strings=['f200w_i2d', 'fits']) #, 'x1d', 'fits'])\n",
    "chosen_files"
   ]
  },
  {
   "cell_type": "code",
   "execution_count": 53,
   "id": "f446b52c-f7eb-4f16-9074-3d697f181c62",
   "metadata": {},
   "outputs": [],
   "source": [
    "download_dir = '../data'  # Define and create directory to save downloads"
   ]
  },
  {
   "cell_type": "code",
   "execution_count": 49,
   "id": "acacc2c9-14af-4a7e-9ae9-741b185c0c36",
   "metadata": {},
   "outputs": [
    {
     "name": "stdout",
     "output_type": "stream",
     "text": [
      "Downloading URL https://mast.stsci.edu/api/v0.1/Download/file?uri=mast:jwst/product/jw02736-o001_t001_nircam_clear-f200w_i2d.fits to ../data/s06355/jw02736-o001_t001_nircam_clear-f200w_i2d.fits ... [Done]\n"
     ]
    }
   ],
   "source": [
    "download_files = download_jwst_files(chosen_files, download_dir)"
   ]
  }
 ],
 "metadata": {
  "kernelspec": {
   "display_name": "Python 3 (ipykernel)",
   "language": "python",
   "name": "python3"
  },
  "language_info": {
   "codemirror_mode": {
    "name": "ipython",
    "version": 3
   },
   "file_extension": ".py",
   "mimetype": "text/x-python",
   "name": "python",
   "nbconvert_exporter": "python",
   "pygments_lexer": "ipython3",
   "version": "3.11.6"
  }
 },
 "nbformat": 4,
 "nbformat_minor": 5
}
