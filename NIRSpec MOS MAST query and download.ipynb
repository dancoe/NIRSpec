{
 "cells": [
  {
   "cell_type": "markdown",
   "id": "e73335e4-a81d-457c-9eee-b224c6c31731",
   "metadata": {},
   "source": [
    "# Download JWST NIRSpec MOS data from MAST\n",
    "\n",
    "https://github.com/spacetelescope/dat_pyinthesky/blob/main/jdat_notebooks/NIRSpec_MAST_Query/NIRSpec_MAST_Query.ipynb\n",
    "\n",
    "https://astroquery.readthedocs.io/en/latest/mast/mast.html#observation-criteria-queries\n",
    "\n",
    "https://mast.stsci.edu/api/v0/_c_a_o_mfields.html\n",
    "\n",
    "### ERO program 2736: SMACS0723\n",
    "\n",
    "https://webbtelescope.org/contents/news-releases/2022/news-2022-035\n",
    "\n",
    "Observations:\n",
    "* two pointings: s007, s008  \n",
    "* G235M & G395M\n",
    "* 3 slitlet nods x 2 integrations x 20 groups NRSIRS2 = 8841 s exposure time = 2.5 hours\n"
   ]
  },
  {
   "cell_type": "code",
   "execution_count": 1,
   "id": "38c331cc-200f-459b-aff6-a52a66e4e6b9",
   "metadata": {},
   "outputs": [
    {
     "name": "stdout",
     "output_type": "stream",
     "text": [
      "astroquery version 0.4.6\n"
     ]
    }
   ],
   "source": [
    "import astroquery\n",
    "print('astroquery version', astroquery.__version__)\n",
    "from astroquery.mast import Observations, Mast\n",
    "\n",
    "from astropy.table import Table, vstack, unique\n",
    "import os\n",
    "import numpy as np"
   ]
  },
  {
   "cell_type": "code",
   "execution_count": 2,
   "id": "848b716e-d30f-49e1-9699-2df3ee1d2ba6",
   "metadata": {},
   "outputs": [],
   "source": [
    "def download_jwst_files(filenames, download_dir, mast_dir='mast:jwst/product'):\n",
    "    # Download data\n",
    "    # https://astroquery.readthedocs.io/en/latest/mast/mast_obsquery.html#downloading-data\n",
    "    #manifest = Observations.download_products(chosen_obsIDs, download_dir=DOWNLOAD_DIR)  # , flat=True\n",
    "\n",
    "    downloaded_files = []\n",
    "    os.makedirs(download_dir, exist_ok=True)\n",
    "    for filename in filenames:\n",
    "        mast_path  = os.path.join(mast_dir,     filename)\n",
    "        local_path = os.path.join(download_dir, filename)\n",
    "        Observations.download_file(mast_path,   local_path=local_path)\n",
    "        downloaded_files.append(local_path)\n",
    "\n",
    "    return downloaded_files"
   ]
  },
  {
   "cell_type": "code",
   "execution_count": 3,
   "id": "d91598e1-0679-425a-afc0-73e43b57965d",
   "metadata": {},
   "outputs": [],
   "source": [
    "def allin(elements, list_or_string):\n",
    "    if type(elements) == str:\n",
    "        elements = elements.split()\n",
    "    for element in elements:\n",
    "        if element not in list_or_string:\n",
    "            return False\n",
    "    return True\n",
    "\n",
    "def anyin(elements, list_or_string):\n",
    "    if type(elements) == str:\n",
    "        elements = elements.split()\n",
    "    for element in elements:\n",
    "        if element in list_or_string:\n",
    "            return True\n",
    "    return False\n",
    "\n",
    "def select_files(all_files, search_strings=[]):\n",
    "    chosen_files = [file for file in all_files if allin(search_strings, file)]\n",
    "    #if len(chosen_files) == 1:\n",
    "    #    chosen_files = chosen_files[0]\n",
    "    return chosen_files    "
   ]
  },
  {
   "cell_type": "markdown",
   "id": "ba0e386a-ed24-45f9-abb9-a81110aaa321",
   "metadata": {},
   "source": [
    "https://jwst-pipeline.readthedocs.io/en/latest/jwst/data_products/file_naming.html"
   ]
  },
  {
   "cell_type": "raw",
   "id": "f6cc8a65-4892-404e-8c18-3a3ee4544d8b",
   "metadata": {},
   "source": [
    "JWST filenames:\n",
    "\n",
    "p = program ID\n",
    "o = observation\n",
    "v = visit\n",
    "g = group\n",
    "s: 1=prime; 2-5=parallel\n",
    "a = activity (base 36)\n",
    "e = exposure\n",
    "\n",
    "jwpppppooovvv_ggsaa_eeeee\n",
    "jw02736007001_03103_00001_nrs1_rate.fits\n",
    "\n",
    "jwppppp ooo vvv ggsaa eeeee\n",
    "jw02736 007 001 03103 00001_nrs1_rate.fits"
   ]
  },
  {
   "cell_type": "raw",
   "id": "b3c80551-785c-443c-b8b8-d15d52d8c418",
   "metadata": {},
   "source": [
    "extractions of individual objects:\n",
    "\n",
    "jwppppp  ooo  sssss \n",
    "jw01345-o064_s02904_nirspec_f100lp-g140m_x1d.fits\n",
    "jw01345-o064_s02904_nirspec_f100lp-g140m_s2d.fits"
   ]
  },
  {
   "cell_type": "markdown",
   "id": "48efde4f-5b30-48eb-9c4a-7af077d0055a",
   "metadata": {},
   "source": [
    "# Start here"
   ]
  },
  {
   "cell_type": "markdown",
   "id": "f8ca26b2-2848-4076-944f-2189c87f8e36",
   "metadata": {},
   "source": [
    "## MAST query files from this JWST program"
   ]
  },
  {
   "cell_type": "markdown",
   "id": "c166b5d5-43e2-496d-a780-a81d3f9da625",
   "metadata": {},
   "source": [
    "https://astroquery.readthedocs.io/en/latest/api/astroquery.mast.ObservationsClass.html"
   ]
  },
  {
   "cell_type": "code",
   "execution_count": 4,
   "id": "13965232-ead4-4b32-89d2-68acbdd2e3ec",
   "metadata": {},
   "outputs": [],
   "source": [
    "#Observations.get_metadata('observations')  # list all criteria that may be used in query_criteria below"
   ]
  },
  {
   "cell_type": "code",
   "execution_count": 5,
   "id": "f657e9cc-b542-4261-b7af-ffbca1dadf7d",
   "metadata": {},
   "outputs": [],
   "source": [
    "obs_table = Observations.query_criteria(obs_collection = 'JWST', \n",
    "                                        proposal_id = 2736,  # program number 2736: ERO SMACS0723\n",
    "                                        instrument_name = 'NIRSPEC/MSA',\n",
    "                                        filters = 'g395m',\n",
    "                                        dataproduct_type = 'spectrum',\n",
    "                                       )\n",
    "\n",
    "products_list = Observations.get_product_list(obs_table)  # all output products including images, catalogs, etc."
   ]
  },
  {
   "cell_type": "code",
   "execution_count": 6,
   "id": "abaf5201-52ee-4d80-8638-ab19c5a54bd4",
   "metadata": {},
   "outputs": [
    {
     "data": {
      "text/html": [
       "<div><i>Table length=3</i>\n",
       "<table id=\"table5076941904\" class=\"table-striped table-bordered table-condensed\">\n",
       "<thead><tr><th>obsID</th><th>obs_collection</th><th>dataproduct_type</th><th>obs_id</th><th>description</th><th>type</th><th>dataURI</th><th>productType</th><th>productGroupDescription</th><th>productSubGroupDescription</th><th>productDocumentationURL</th><th>project</th><th>prvversion</th><th>proposal_id</th><th>productFilename</th><th>size</th><th>parent_obsid</th><th>dataRights</th><th>calib_level</th></tr></thead>\n",
       "<thead><tr><th>str9</th><th>str4</th><th>str8</th><th>str40</th><th>str71</th><th>str1</th><th>str70</th><th>str9</th><th>str28</th><th>str8</th><th>str1</th><th>str7</th><th>str6</th><th>str4</th><th>str52</th><th>int64</th><th>str9</th><th>str6</th><th>int64</th></tr></thead>\n",
       "<tr><td>100975615</td><td>JWST</td><td>spectrum</td><td>jw02736-o007_s00001_nirspec_f290lp-g395m</td><td>source/target (L3) : association generator</td><td>D</td><td>mast:JWST/product/jw02736-o007_20231116t144653_spec3_00001_asn.json</td><td>INFO</td><td>Minimum Recommended Products</td><td>ASN</td><td>--</td><td>CALJWST</td><td>1.11.4</td><td>2736</td><td>jw02736-o007_20231116t144653_spec3_00001_asn.json</td><td>5501</td><td>100975615</td><td>PUBLIC</td><td>3</td></tr>\n",
       "<tr><td>100975615</td><td>JWST</td><td>spectrum</td><td>jw02736-o007_s00001_nirspec_f290lp-g395m</td><td>source/target (L3) : association pool</td><td>D</td><td>mast:JWST/product/jw02736_20231116t144653_pool.csv</td><td>INFO</td><td>Minimum Recommended Products</td><td>POOL</td><td>--</td><td>CALJWST</td><td>1.11.4</td><td>2736</td><td>jw02736_20231116t144653_pool.csv</td><td>177115</td><td>100975615</td><td>PUBLIC</td><td>3</td></tr>\n",
       "<tr><td>100975615</td><td>JWST</td><td>spectrum</td><td>jw02736-o007_s00001_nirspec_f290lp-g395m</td><td>Preview-Full</td><td>D</td><td>mast:JWST/product/jw02736-o007_s00001_nirspec_f290lp-g395m_cal.jpg</td><td>PREVIEW</td><td>--</td><td>--</td><td>--</td><td>CALJWST</td><td>1.11.4</td><td>2736</td><td>jw02736-o007_s00001_nirspec_f290lp-g395m_cal.jpg</td><td>1038</td><td>100975615</td><td>PUBLIC</td><td>3</td></tr>\n",
       "</table></div>"
      ],
      "text/plain": [
       "<Table length=3>\n",
       "  obsID   obs_collection dataproduct_type ... parent_obsid dataRights calib_level\n",
       "   str9        str4            str8       ...     str9        str6       int64   \n",
       "--------- -------------- ---------------- ... ------------ ---------- -----------\n",
       "100975615           JWST         spectrum ...    100975615     PUBLIC           3\n",
       "100975615           JWST         spectrum ...    100975615     PUBLIC           3\n",
       "100975615           JWST         spectrum ...    100975615     PUBLIC           3"
      ]
     },
     "execution_count": 6,
     "metadata": {},
     "output_type": "execute_result"
    }
   ],
   "source": [
    "products_list[:3]"
   ]
  },
  {
   "cell_type": "code",
   "execution_count": 7,
   "id": "c46297c6-fc4d-4590-b764-0511abefbfe8",
   "metadata": {
    "scrolled": true
   },
   "outputs": [],
   "source": [
    "all_filenames = products_list['obs_id']\n",
    "#all_filenames"
   ]
  },
  {
   "cell_type": "code",
   "execution_count": 8,
   "id": "35de7e32-02e5-48ae-aba6-dc0d7a53c9ff",
   "metadata": {},
   "outputs": [],
   "source": [
    "data_products = Observations.filter_products(products_list, \n",
    "                                            productType = 'INFO', \n",
    "                                            productSubGroupDescription = 'ASN',  # UNCAL, RATE, RATEINTS, CAL, I2D, X1D, S2D, ASN\n",
    "                                            type = 'S', # 'S': all objects;  'D': individual object\n",
    "                                            )  "
   ]
  },
  {
   "cell_type": "code",
   "execution_count": 9,
   "id": "d0e9a337-75d1-41f7-adb8-29864758e0a0",
   "metadata": {},
   "outputs": [
    {
     "data": {
      "text/html": [
       "<div><i>Table length=2</i>\n",
       "<table id=\"table5076867408\" class=\"table-striped table-bordered table-condensed\">\n",
       "<thead><tr><th>obsID</th><th>obs_collection</th><th>dataproduct_type</th><th>obs_id</th><th>description</th><th>type</th><th>dataURI</th><th>productType</th><th>productGroupDescription</th><th>productSubGroupDescription</th><th>productDocumentationURL</th><th>project</th><th>prvversion</th><th>proposal_id</th><th>productFilename</th><th>size</th><th>parent_obsid</th><th>dataRights</th><th>calib_level</th></tr></thead>\n",
       "<thead><tr><th>str9</th><th>str4</th><th>str8</th><th>str40</th><th>str71</th><th>str1</th><th>str70</th><th>str9</th><th>str28</th><th>str8</th><th>str1</th><th>str7</th><th>str6</th><th>str4</th><th>str52</th><th>int64</th><th>str9</th><th>str6</th><th>int64</th></tr></thead>\n",
       "<tr><td>87600657</td><td>JWST</td><td>image</td><td>jw02736007001_02101_00001_nrs1</td><td>source/target (L3) : association generator</td><td>S</td><td>mast:JWST/product/jw02736-o007_20231116t144653_image2_00008_asn.json</td><td>INFO</td><td>--</td><td>ASN</td><td>--</td><td>CALJWST</td><td>1.5.3</td><td>2736</td><td>jw02736-o007_20231116t144653_image2_00008_asn.json</td><td>1417</td><td>87602347</td><td>PUBLIC</td><td>2</td></tr>\n",
       "<tr><td>87600657</td><td>JWST</td><td>image</td><td>jw02736007001_02101_00001_nrs1</td><td>source/target (L3) : association generator</td><td>S</td><td>mast:JWST/product/jw02736-o007_20231116t144653_image2_00008_asn.json</td><td>INFO</td><td>--</td><td>ASN</td><td>--</td><td>CALJWST</td><td>1.5.3</td><td>2736</td><td>jw02736-o007_20231116t144653_image2_00008_asn.json</td><td>1417</td><td>87602348</td><td>PUBLIC</td><td>2</td></tr>\n",
       "</table></div>"
      ],
      "text/plain": [
       "<Table length=2>\n",
       " obsID   obs_collection dataproduct_type ... parent_obsid dataRights calib_level\n",
       "  str9        str4            str8       ...     str9        str6       int64   \n",
       "-------- -------------- ---------------- ... ------------ ---------- -----------\n",
       "87600657           JWST            image ...     87602347     PUBLIC           2\n",
       "87600657           JWST            image ...     87602348     PUBLIC           2"
      ]
     },
     "execution_count": 9,
     "metadata": {},
     "output_type": "execute_result"
    }
   ],
   "source": [
    "data_products[:2]"
   ]
  },
  {
   "cell_type": "raw",
   "id": "1c18dcc2-fa92-40e8-a36f-aee0d33f8dfc",
   "metadata": {},
   "source": [
    "FITS file extensions\n",
    "===\n",
    "UNCAL: uncalibrated counts -- START HERE if you want to reprocess the data\n",
    "RATEINTS: count rate slopes saved in individual integrations\n",
    "RATE: count rates slope in exposures averaged over integrations\n",
    "CAL: calibrated\n",
    "S2D: spectrum 2D (either all objects in multiple extensions -or- individual files for each object)\n",
    "X1D: extraction 1D (flux vs. wavelength; either all objects in multiple extensions -or- individual files for each object)\n",
    "I2D: image 2D drizzle-combined exposures"
   ]
  },
  {
   "cell_type": "code",
   "execution_count": 10,
   "id": "5b477f2f-02db-4601-89ea-90c0b0ba1eb3",
   "metadata": {},
   "outputs": [],
   "source": [
    "data_products = Observations.filter_products(products_list, \n",
    "                                            productType = 'SCIENCE', \n",
    "                                            productSubGroupDescription = 'S2D',  # UNCAL, RATE, RATEINTS, CAL, I2D, X1D, S2D, ASN\n",
    "                                            type = 'S', # 'S': all objects;  'D': individual object\n",
    "                                            )  "
   ]
  },
  {
   "cell_type": "code",
   "execution_count": 16,
   "id": "18233b47-f8d0-4e69-bf70-e936f39ce1e6",
   "metadata": {},
   "outputs": [
    {
     "data": {
      "text/plain": [
       "1164"
      ]
     },
     "execution_count": 16,
     "metadata": {},
     "output_type": "execute_result"
    }
   ],
   "source": [
    "#data_products\n",
    "len(data_products)"
   ]
  },
  {
   "cell_type": "code",
   "execution_count": 12,
   "id": "44a13201-ec66-4f3e-b8ce-09e6e05cfc3d",
   "metadata": {},
   "outputs": [
    {
     "data": {
      "text/html": [
       "&lt;MaskedColumn name=&apos;productFilename&apos; dtype=&apos;str52&apos; length=12&gt;\n",
       "<table>\n",
       "<tr><td>jw02736007001_03103_00001_nrs1_s2d.fits</td></tr>\n",
       "<tr><td>jw02736007001_03103_00001_nrs2_s2d.fits</td></tr>\n",
       "<tr><td>jw02736007001_03103_00002_nrs1_s2d.fits</td></tr>\n",
       "<tr><td>jw02736007001_03103_00002_nrs2_s2d.fits</td></tr>\n",
       "<tr><td>jw02736007001_03103_00003_nrs1_s2d.fits</td></tr>\n",
       "<tr><td>jw02736007001_03103_00003_nrs2_s2d.fits</td></tr>\n",
       "<tr><td>jw02736008001_03103_00001_nrs1_s2d.fits</td></tr>\n",
       "<tr><td>jw02736008001_03103_00001_nrs2_s2d.fits</td></tr>\n",
       "<tr><td>jw02736008001_03103_00002_nrs1_s2d.fits</td></tr>\n",
       "<tr><td>jw02736008001_03103_00002_nrs2_s2d.fits</td></tr>\n",
       "<tr><td>jw02736008001_03103_00003_nrs1_s2d.fits</td></tr>\n",
       "<tr><td>jw02736008001_03103_00003_nrs2_s2d.fits</td></tr>\n",
       "</table>"
      ],
      "text/plain": [
       "<MaskedColumn name='productFilename' dtype='str52' length=12>\n",
       "jw02736007001_03103_00001_nrs1_s2d.fits\n",
       "jw02736007001_03103_00001_nrs2_s2d.fits\n",
       "jw02736007001_03103_00002_nrs1_s2d.fits\n",
       "jw02736007001_03103_00002_nrs2_s2d.fits\n",
       "jw02736007001_03103_00003_nrs1_s2d.fits\n",
       "jw02736007001_03103_00003_nrs2_s2d.fits\n",
       "jw02736008001_03103_00001_nrs1_s2d.fits\n",
       "jw02736008001_03103_00001_nrs2_s2d.fits\n",
       "jw02736008001_03103_00002_nrs1_s2d.fits\n",
       "jw02736008001_03103_00002_nrs2_s2d.fits\n",
       "jw02736008001_03103_00003_nrs1_s2d.fits\n",
       "jw02736008001_03103_00003_nrs2_s2d.fits"
      ]
     },
     "execution_count": 12,
     "metadata": {},
     "output_type": "execute_result"
    }
   ],
   "source": [
    "# Unique filenames\n",
    "chosen_files = unique(data_products, keys='productFilename')\n",
    "chosen_filenames = chosen_files['productFilename']\n",
    "chosen_filenames"
   ]
  },
  {
   "cell_type": "code",
   "execution_count": 13,
   "id": "69dbf640-141d-43bc-81d0-34cac7e33cfb",
   "metadata": {},
   "outputs": [],
   "source": [
    "download_dir = '../data/s2d'"
   ]
  },
  {
   "cell_type": "code",
   "execution_count": 14,
   "id": "962d4dd1-6ef2-4fbc-a072-694aa94b18f8",
   "metadata": {},
   "outputs": [
    {
     "name": "stdout",
     "output_type": "stream",
     "text": [
      "Downloading URL https://mast.stsci.edu/api/v0.1/Download/file?uri=mast:jwst/product/jw02736007001_03103_00001_nrs1_s2d.fits to ../data/s2d/jw02736007001_03103_00001_nrs1_s2d.fits ... [Done]\n",
      "Downloading URL https://mast.stsci.edu/api/v0.1/Download/file?uri=mast:jwst/product/jw02736007001_03103_00001_nrs2_s2d.fits to ../data/s2d/jw02736007001_03103_00001_nrs2_s2d.fits ... [Done]\n",
      "Downloading URL https://mast.stsci.edu/api/v0.1/Download/file?uri=mast:jwst/product/jw02736007001_03103_00002_nrs1_s2d.fits to ../data/s2d/jw02736007001_03103_00002_nrs1_s2d.fits ... [Done]\n",
      "Downloading URL https://mast.stsci.edu/api/v0.1/Download/file?uri=mast:jwst/product/jw02736007001_03103_00002_nrs2_s2d.fits to ../data/s2d/jw02736007001_03103_00002_nrs2_s2d.fits ... [Done]\n",
      "Downloading URL https://mast.stsci.edu/api/v0.1/Download/file?uri=mast:jwst/product/jw02736007001_03103_00003_nrs1_s2d.fits to ../data/s2d/jw02736007001_03103_00003_nrs1_s2d.fits ... [Done]\n",
      "Downloading URL https://mast.stsci.edu/api/v0.1/Download/file?uri=mast:jwst/product/jw02736007001_03103_00003_nrs2_s2d.fits to ../data/s2d/jw02736007001_03103_00003_nrs2_s2d.fits ... [Done]\n",
      "Downloading URL https://mast.stsci.edu/api/v0.1/Download/file?uri=mast:jwst/product/jw02736008001_03103_00001_nrs1_s2d.fits to ../data/s2d/jw02736008001_03103_00001_nrs1_s2d.fits ... [Done]\n",
      "Downloading URL https://mast.stsci.edu/api/v0.1/Download/file?uri=mast:jwst/product/jw02736008001_03103_00001_nrs2_s2d.fits to ../data/s2d/jw02736008001_03103_00001_nrs2_s2d.fits ... [Done]\n",
      "Downloading URL https://mast.stsci.edu/api/v0.1/Download/file?uri=mast:jwst/product/jw02736008001_03103_00002_nrs1_s2d.fits to ../data/s2d/jw02736008001_03103_00002_nrs1_s2d.fits ... [Done]\n",
      "Downloading URL https://mast.stsci.edu/api/v0.1/Download/file?uri=mast:jwst/product/jw02736008001_03103_00002_nrs2_s2d.fits to ../data/s2d/jw02736008001_03103_00002_nrs2_s2d.fits ... [Done]\n",
      "Downloading URL https://mast.stsci.edu/api/v0.1/Download/file?uri=mast:jwst/product/jw02736008001_03103_00003_nrs1_s2d.fits to ../data/s2d/jw02736008001_03103_00003_nrs1_s2d.fits ... [Done]\n",
      "Downloading URL https://mast.stsci.edu/api/v0.1/Download/file?uri=mast:jwst/product/jw02736008001_03103_00003_nrs2_s2d.fits to ../data/s2d/jw02736008001_03103_00003_nrs2_s2d.fits ... [Done]\n"
     ]
    }
   ],
   "source": [
    "download_files = download_jwst_files(chosen_filenames, download_dir)"
   ]
  },
  {
   "cell_type": "code",
   "execution_count": 15,
   "id": "831a9956-5326-4a82-8896-a664f96153f0",
   "metadata": {},
   "outputs": [
    {
     "ename": "TypeError",
     "evalue": "'bool' object is not iterable",
     "output_type": "error",
     "traceback": [
      "\u001b[0;31m---------------------------------------------------------------------------\u001b[0m",
      "\u001b[0;31mTypeError\u001b[0m                                 Traceback (most recent call last)",
      "Cell \u001b[0;32mIn[15], line 3\u001b[0m\n\u001b[1;32m      1\u001b[0m \u001b[38;5;66;03m# Why doesn't this work?\u001b[39;00m\n\u001b[1;32m      2\u001b[0m \u001b[38;5;66;03m#manifest = Observations.download_products(data_products, productType=\"SCIENCE\", download_dir=download_dir, flat=True)\u001b[39;00m\n\u001b[0;32m----> 3\u001b[0m manifest \u001b[38;5;241m=\u001b[39m \u001b[43mObservations\u001b[49m\u001b[38;5;241;43m.\u001b[39;49m\u001b[43mdownload_products\u001b[49m\u001b[43m(\u001b[49m\u001b[43mdata_products\u001b[49m\u001b[43m,\u001b[49m\u001b[43m \u001b[49m\u001b[43mdownload_dir\u001b[49m\u001b[38;5;241;43m=\u001b[39;49m\u001b[43mdownload_dir\u001b[49m\u001b[43m,\u001b[49m\u001b[43m \u001b[49m\u001b[43mflat\u001b[49m\u001b[38;5;241;43m=\u001b[39;49m\u001b[38;5;28;43;01mTrue\u001b[39;49;00m\u001b[43m,\u001b[49m\u001b[43m \u001b[49m\u001b[43mmrp_only\u001b[49m\u001b[38;5;241;43m=\u001b[39;49m\u001b[38;5;28;43;01mFalse\u001b[39;49;00m\u001b[43m)\u001b[49m\n",
      "File \u001b[0;32m~/miniconda3/envs/jwst-1.12.5_python3.11/lib/python3.11/site-packages/astroquery/mast/observations.py:718\u001b[0m, in \u001b[0;36mObservationsClass.download_products\u001b[0;34m(self, products, download_dir, cache, curl_flag, mrp_only, cloud_only, **filters)\u001b[0m\n\u001b[1;32m    715\u001b[0m     products \u001b[38;5;241m=\u001b[39m vstack(product_lists)\n\u001b[1;32m    717\u001b[0m \u001b[38;5;66;03m# apply filters\u001b[39;00m\n\u001b[0;32m--> 718\u001b[0m products \u001b[38;5;241m=\u001b[39m \u001b[38;5;28;43mself\u001b[39;49m\u001b[38;5;241;43m.\u001b[39;49m\u001b[43mfilter_products\u001b[49m\u001b[43m(\u001b[49m\u001b[43mproducts\u001b[49m\u001b[43m,\u001b[49m\u001b[43m \u001b[49m\u001b[43mmrp_only\u001b[49m\u001b[38;5;241;43m=\u001b[39;49m\u001b[43mmrp_only\u001b[49m\u001b[43m,\u001b[49m\u001b[43m \u001b[49m\u001b[38;5;241;43m*\u001b[39;49m\u001b[38;5;241;43m*\u001b[39;49m\u001b[43mfilters\u001b[49m\u001b[43m)\u001b[49m\n\u001b[1;32m    720\u001b[0m \u001b[38;5;28;01mif\u001b[39;00m \u001b[38;5;129;01mnot\u001b[39;00m \u001b[38;5;28mlen\u001b[39m(products):\n\u001b[1;32m    721\u001b[0m     warnings\u001b[38;5;241m.\u001b[39mwarn(\u001b[38;5;124m\"\u001b[39m\u001b[38;5;124mNo products to download.\u001b[39m\u001b[38;5;124m\"\u001b[39m, NoResultsWarning)\n",
      "File \u001b[0;32m~/miniconda3/envs/jwst-1.12.5_python3.11/lib/python3.11/site-packages/astroquery/mast/observations.py:501\u001b[0m, in \u001b[0;36mObservationsClass.filter_products\u001b[0;34m(self, products, mrp_only, extension, **filters)\u001b[0m\n\u001b[1;32m    498\u001b[0m     vals \u001b[38;5;241m=\u001b[39m [vals]\n\u001b[1;32m    500\u001b[0m mask \u001b[38;5;241m=\u001b[39m np\u001b[38;5;241m.\u001b[39mfull(\u001b[38;5;28mlen\u001b[39m(products), \u001b[38;5;28;01mFalse\u001b[39;00m, dtype\u001b[38;5;241m=\u001b[39m\u001b[38;5;28mbool\u001b[39m)\n\u001b[0;32m--> 501\u001b[0m \u001b[43m\u001b[49m\u001b[38;5;28;43;01mfor\u001b[39;49;00m\u001b[43m \u001b[49m\u001b[43melt\u001b[49m\u001b[43m \u001b[49m\u001b[38;5;129;43;01min\u001b[39;49;00m\u001b[43m \u001b[49m\u001b[43mvals\u001b[49m\u001b[43m:\u001b[49m\n\u001b[1;32m    502\u001b[0m \u001b[43m    \u001b[49m\u001b[43mmask\u001b[49m\u001b[43m \u001b[49m\u001b[38;5;241;43m|\u001b[39;49m\u001b[38;5;241;43m=\u001b[39;49m\u001b[43m \u001b[49m\u001b[43m(\u001b[49m\u001b[43mproducts\u001b[49m\u001b[43m[\u001b[49m\u001b[43mcolname\u001b[49m\u001b[43m]\u001b[49m\u001b[43m \u001b[49m\u001b[38;5;241;43m==\u001b[39;49m\u001b[43m \u001b[49m\u001b[43melt\u001b[49m\u001b[43m)\u001b[49m\n\u001b[1;32m    504\u001b[0m filter_mask \u001b[38;5;241m&\u001b[39m\u001b[38;5;241m=\u001b[39m mask\n",
      "\u001b[0;31mTypeError\u001b[0m: 'bool' object is not iterable"
     ]
    }
   ],
   "source": [
    "# Why doesn't this work?\n",
    "#manifest = Observations.download_products(data_products, productType=\"SCIENCE\", download_dir=download_dir, flat=True)\n",
    "manifest = Observations.download_products(data_products, download_dir=download_dir, flat=True, mrp_only=False)"
   ]
  },
  {
   "cell_type": "markdown",
   "id": "d115b75d-3f10-40de-bdbe-302b33728b94",
   "metadata": {},
   "source": [
    "## Download data: spectrum extraction for a single object"
   ]
  },
  {
   "cell_type": "code",
   "execution_count": 19,
   "id": "2aea0c61-0bd5-4921-9a7a-7d9caa7e7ae2",
   "metadata": {},
   "outputs": [
    {
     "name": "stdout",
     "output_type": "stream",
     "text": [
      "1566\n"
     ]
    },
    {
     "data": {
      "text/html": [
       "&lt;MaskedColumn name=&apos;productFilename&apos; dtype=&apos;str52&apos; length=3&gt;\n",
       "<table>\n",
       "<tr><td>jw02736-o007_20231116t144653_image2_00001_asn.json</td></tr>\n",
       "<tr><td>jw02736-o007_20231116t144653_image2_00002_asn.json</td></tr>\n",
       "<tr><td>jw02736-o007_20231116t144653_image2_00003_asn.json</td></tr>\n",
       "</table>"
      ],
      "text/plain": [
       "<MaskedColumn name='productFilename' dtype='str52' length=3>\n",
       "jw02736-o007_20231116t144653_image2_00001_asn.json\n",
       "jw02736-o007_20231116t144653_image2_00002_asn.json\n",
       "jw02736-o007_20231116t144653_image2_00003_asn.json"
      ]
     },
     "execution_count": 19,
     "metadata": {},
     "output_type": "execute_result"
    }
   ],
   "source": [
    "all_files = unique(products_list, keys='productFilename')\n",
    "all_filenames = all_files['productFilename']\n",
    "print(len(all_filenames))\n",
    "all_filenames[:3]"
   ]
  },
  {
   "cell_type": "code",
   "execution_count": 18,
   "id": "b096ff35-539d-4c56-b601-d2a3b16092c3",
   "metadata": {},
   "outputs": [
    {
     "data": {
      "text/plain": [
       "['jw02736-o007_s06355_nirspec_f290lp-g395m_cal.fits',\n",
       " 'jw02736-o007_s06355_nirspec_f290lp-g395m_cal.jpg',\n",
       " 'jw02736-o007_s06355_nirspec_f290lp-g395m_crf.fits',\n",
       " 'jw02736-o007_s06355_nirspec_f290lp-g395m_crf.jpg',\n",
       " 'jw02736-o007_s06355_nirspec_f290lp-g395m_s2d.fits',\n",
       " 'jw02736-o007_s06355_nirspec_f290lp-g395m_s2d.jpg',\n",
       " 'jw02736-o007_s06355_nirspec_f290lp-g395m_x1d.fits']"
      ]
     },
     "execution_count": 18,
     "metadata": {},
     "output_type": "execute_result"
    }
   ],
   "source": [
    "source_id = 6355  # z = 7.655 excellent spectrum w/ bright lines; better than 10612 z = 7.663 in press release\n",
    "source_str = 's%05d' % source_id\n",
    "\n",
    "chosen_files = select_files(all_filenames, search_strings=['o007', source_str, 'g395m']) #, 'x1d', 'fits'])\n",
    "chosen_files"
   ]
  },
  {
   "cell_type": "code",
   "execution_count": 20,
   "id": "2b10228a-69c0-4dd0-b51e-fcb677fe057c",
   "metadata": {},
   "outputs": [
    {
     "name": "stdout",
     "output_type": "stream",
     "text": [
      "Downloading URL https://mast.stsci.edu/api/v0.1/Download/file?uri=mast:jwst/product/jw02736-o007_s06355_nirspec_f290lp-g395m_cal.fits to ../data/s06355/jw02736-o007_s06355_nirspec_f290lp-g395m_cal.fits ... [Done]\n",
      "Downloading URL https://mast.stsci.edu/api/v0.1/Download/file?uri=mast:jwst/product/jw02736-o007_s06355_nirspec_f290lp-g395m_cal.jpg to ../data/s06355/jw02736-o007_s06355_nirspec_f290lp-g395m_cal.jpg ... [Done]\n",
      "Downloading URL https://mast.stsci.edu/api/v0.1/Download/file?uri=mast:jwst/product/jw02736-o007_s06355_nirspec_f290lp-g395m_crf.fits to ../data/s06355/jw02736-o007_s06355_nirspec_f290lp-g395m_crf.fits ... [Done]\n",
      "Downloading URL https://mast.stsci.edu/api/v0.1/Download/file?uri=mast:jwst/product/jw02736-o007_s06355_nirspec_f290lp-g395m_crf.jpg to ../data/s06355/jw02736-o007_s06355_nirspec_f290lp-g395m_crf.jpg ... [Done]\n",
      "Downloading URL https://mast.stsci.edu/api/v0.1/Download/file?uri=mast:jwst/product/jw02736-o007_s06355_nirspec_f290lp-g395m_s2d.fits to ../data/s06355/jw02736-o007_s06355_nirspec_f290lp-g395m_s2d.fits ... [Done]\n",
      "Downloading URL https://mast.stsci.edu/api/v0.1/Download/file?uri=mast:jwst/product/jw02736-o007_s06355_nirspec_f290lp-g395m_s2d.jpg to ../data/s06355/jw02736-o007_s06355_nirspec_f290lp-g395m_s2d.jpg ... [Done]\n",
      "Downloading URL https://mast.stsci.edu/api/v0.1/Download/file?uri=mast:jwst/product/jw02736-o007_s06355_nirspec_f290lp-g395m_x1d.fits to ../data/s06355/jw02736-o007_s06355_nirspec_f290lp-g395m_x1d.fits ... [Done]\n"
     ]
    }
   ],
   "source": [
    "download_dir = '../data'  # Define and create directory to save downloads\n",
    "download_dir = os.path.join(download_dir, source_str)\n",
    "download_files = download_jwst_files(chosen_files, download_dir)"
   ]
  },
  {
   "cell_type": "markdown",
   "id": "5b1591ce-6065-48b2-9389-118cd4b2bc1e",
   "metadata": {},
   "source": [
    "# NIRCam images"
   ]
  },
  {
   "cell_type": "code",
   "execution_count": 22,
   "id": "64673b35-7da3-4c57-895d-4de0cb7cb207",
   "metadata": {},
   "outputs": [],
   "source": [
    "nircam_obs_table = Observations.query_criteria(obs_collection= 'JWST', \n",
    "                                            proposal_id = 2736,  # program number 2736: ERO SMACS0723\n",
    "                                            instrument_name = 'NIRCAM/IMAGE',\n",
    "                                            dataproduct_type = 'IMAGE',\n",
    "                                            filters = 'f200w', \n",
    "                                            #productType = 'SCIENCE', \n",
    "                                            #productSubGroupDescription = 'i2d',  # UNCAL, RATE, RATEINTS, CAL, I2D, X1D, S2D\n",
    "                                            #type = 'D', # 'S': all objects;  'D': individual object\n",
    "                                            calib_level = 3,\n",
    "                                              )\n",
    "\n",
    "nircam_products_list = Observations.get_product_list(nircam_obs_table)  # all output products including images, catalogs, etc."
   ]
  },
  {
   "cell_type": "code",
   "execution_count": 24,
   "id": "94b37531-9401-478f-b3f0-5fd4aca15c6e",
   "metadata": {},
   "outputs": [
    {
     "data": {
      "text/html": [
       "<div><i>Table masked=True length=2</i>\n",
       "<table id=\"table5219687184\" class=\"table-striped table-bordered table-condensed\">\n",
       "<thead><tr><th>obsID</th><th>obs_collection</th><th>dataproduct_type</th><th>obs_id</th><th>description</th><th>type</th><th>dataURI</th><th>productType</th><th>productGroupDescription</th><th>productSubGroupDescription</th><th>productDocumentationURL</th><th>project</th><th>prvversion</th><th>proposal_id</th><th>productFilename</th><th>size</th><th>parent_obsid</th><th>dataRights</th><th>calib_level</th></tr></thead>\n",
       "<thead><tr><th>str8</th><th>str4</th><th>str5</th><th>str36</th><th>str64</th><th>str1</th><th>str68</th><th>str9</th><th>str28</th><th>str11</th><th>str1</th><th>str7</th><th>str6</th><th>str4</th><th>str50</th><th>int64</th><th>str8</th><th>str6</th><th>int64</th></tr></thead>\n",
       "<tr><td>87602476</td><td>JWST</td><td>image</td><td>jw02736-o001_t001_nircam_clear-f200w</td><td>target   (L3) : segmentation map</td><td>D</td><td>mast:JWST/product/jw02736-o001_t001_nircam_clear-f200w_segm.fits</td><td>AUXILIARY</td><td>Minimum Recommended Products</td><td>SEGM</td><td>--</td><td>CALJWST</td><td>1.11.4</td><td>2736</td><td>jw02736-o001_t001_nircam_clear-f200w_segm.fits</td><td>195808320</td><td>87602476</td><td>PUBLIC</td><td>3</td></tr>\n",
       "<tr><td>87602476</td><td>JWST</td><td>image</td><td>jw02736-o001_t001_nircam_clear-f200w</td><td>source/target (L3) : association generator</td><td>D</td><td>mast:JWST/product/jw02736-o001_20231116t144653_image3_00002_asn.json</td><td>INFO</td><td>Minimum Recommended Products</td><td>ASN</td><td>--</td><td>CALJWST</td><td>1.11.4</td><td>2736</td><td>jw02736-o001_20231116t144653_image3_00002_asn.json</td><td>20413</td><td>87602476</td><td>PUBLIC</td><td>3</td></tr>\n",
       "</table></div>"
      ],
      "text/plain": [
       "<Table masked=True length=2>\n",
       " obsID   obs_collection dataproduct_type ... parent_obsid dataRights calib_level\n",
       "  str8        str4            str5       ...     str8        str6       int64   \n",
       "-------- -------------- ---------------- ... ------------ ---------- -----------\n",
       "87602476           JWST            image ...     87602476     PUBLIC           3\n",
       "87602476           JWST            image ...     87602476     PUBLIC           3"
      ]
     },
     "execution_count": 24,
     "metadata": {},
     "output_type": "execute_result"
    }
   ],
   "source": [
    "nircam_products_list[:2]"
   ]
  },
  {
   "cell_type": "code",
   "execution_count": 25,
   "id": "1505557b-aa28-4a38-a8ac-5116a39eca89",
   "metadata": {},
   "outputs": [
    {
     "data": {
      "text/plain": [
       "['jw02736-o001_t001_nircam_clear-f200w_i2d.fits']"
      ]
     },
     "execution_count": 25,
     "metadata": {},
     "output_type": "execute_result"
    }
   ],
   "source": [
    "all_files = unique(nircam_products_list, keys='productFilename')\n",
    "all_filenames = all_files['productFilename']\n",
    "chosen_files = select_files(all_filenames, search_strings=['f200w_i2d', 'fits'])\n",
    "chosen_files"
   ]
  },
  {
   "cell_type": "code",
   "execution_count": 26,
   "id": "f446b52c-f7eb-4f16-9074-3d697f181c62",
   "metadata": {},
   "outputs": [],
   "source": [
    "download_dir = '../data'  # Define and create directory to save downloads"
   ]
  },
  {
   "cell_type": "code",
   "execution_count": null,
   "id": "acacc2c9-14af-4a7e-9ae9-741b185c0c36",
   "metadata": {},
   "outputs": [
    {
     "name": "stdout",
     "output_type": "stream",
     "text": [
      "Downloading URL https://mast.stsci.edu/api/v0.1/Download/file?uri=mast:jwst/product/jw02736-o001_t001_nircam_clear-f200w_i2d.fits to ../data/jw02736-o001_t001_nircam_clear-f200w_i2d.fits ..."
     ]
    }
   ],
   "source": [
    "download_files = download_jwst_files(chosen_files, download_dir)"
   ]
  },
  {
   "cell_type": "code",
   "execution_count": null,
   "id": "f8d1992b-0ef3-4046-a677-2a9eb965c462",
   "metadata": {},
   "outputs": [],
   "source": []
  }
 ],
 "metadata": {
  "kernelspec": {
   "display_name": "Python 3 (ipykernel)",
   "language": "python",
   "name": "python3"
  },
  "language_info": {
   "codemirror_mode": {
    "name": "ipython",
    "version": 3
   },
   "file_extension": ".py",
   "mimetype": "text/x-python",
   "name": "python",
   "nbconvert_exporter": "python",
   "pygments_lexer": "ipython3",
   "version": "3.11.6"
  }
 },
 "nbformat": 4,
 "nbformat_minor": 5
}
