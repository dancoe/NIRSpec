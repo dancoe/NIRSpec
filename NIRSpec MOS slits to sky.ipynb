{
 "cells": [
  {
   "cell_type": "markdown",
   "id": "df8235de",
   "metadata": {},
   "source": [
    "# NIRSpec MOS slits to sky"
   ]
  },
  {
   "cell_type": "markdown",
   "id": "6c1a9589",
   "metadata": {},
   "source": [
    "This notebook demonstrates how to map NIRSpec MSA slits to the sky and back.\n",
    "We also show how to extract the wavelength grid from either the `S2D` or `X1D` pipeline products.\n",
    "\n",
    "We use the [ERO 2736](https://www.stsci.edu/cgi-bin/get-proposal-info?observatory=JWST&id=2736) \n",
    "observations of SMACS0723, source 6355 (z = 7.665).\n",
    "\n",
    "Inputs: \n",
    "* NIRSpec S2D file for this object from `Spec3Pipeline`\n",
    "* NIRSpec MSA metafile\n",
    "* NIRCam image from the [DJA](https://dawn-cph.github.io/dja/index.html)\n",
    "* (optional) NIRCam color image produced using [Trilogy](https://github.com/dancoe/trilogy)\n",
    "    * alternatively, you could show a single filter image in grayscale"
   ]
  },
  {
   "cell_type": "markdown",
   "id": "27aec871-912b-4e01-86c9-59517d6bff61",
   "metadata": {},
   "source": [
    "# Import Libraries <a id='import'></a>"
   ]
  },
  {
   "cell_type": "code",
   "execution_count": 1,
   "id": "2c6bae58-ba78-435d-afef-1d5627839009",
   "metadata": {},
   "outputs": [],
   "source": [
    "import os\n",
    "home = os.path.expanduser(\"~\")\n",
    "from glob import glob\n",
    "import numpy as np\n",
    "from astropy.io import fits"
   ]
  },
  {
   "cell_type": "code",
   "execution_count": 2,
   "id": "f4f49aed",
   "metadata": {},
   "outputs": [],
   "source": [
    "from astropy.table import Table, vstack, unique"
   ]
  },
  {
   "cell_type": "code",
   "execution_count": 3,
   "id": "2815c8cc",
   "metadata": {},
   "outputs": [],
   "source": [
    "from jwst import datamodels"
   ]
  },
  {
   "cell_type": "code",
   "execution_count": 4,
   "id": "deec1a7c-a137-4193-bf8a-806bfbf891b5",
   "metadata": {},
   "outputs": [],
   "source": [
    "# To plot and view results\n",
    "\n",
    "import matplotlib # as mpl\n",
    "import matplotlib.pyplot as plt\n",
    "%matplotlib inline\n",
    "plt.rcParams.update({'font.size': 14})  # 18\n",
    "\n",
    "from matplotlib.patches import Rectangle\n",
    "from matplotlib.collections import PatchCollection\n",
    "import matplotlib.patheffects as pe # https://stackoverflow.com/questions/25426599/matplotlib-how-to-buffer-label-text\n",
    "\n",
    "from astropy.visualization import simple_norm, ImageNormalize, AsinhStretch, ManualInterval, LogStretch, LinearStretch\n",
    "from astropy.stats import sigma_clip, sigma_clipped_stats  # , SigmaClip"
   ]
  },
  {
   "cell_type": "code",
   "execution_count": 5,
   "id": "9003d180",
   "metadata": {},
   "outputs": [],
   "source": [
    "# Color image\n",
    "\n",
    "import PIL\n",
    "from PIL import Image, ImageEnhance\n",
    "PIL.Image.MAX_IMAGE_PIXELS = 933120000  # allow it to load large image"
   ]
  },
  {
   "cell_type": "code",
   "execution_count": 6,
   "id": "54a22e35",
   "metadata": {},
   "outputs": [],
   "source": [
    "import astropy\n",
    "#import astropy.io.fits as pyfits\n",
    "from astropy.io import fits\n",
    "import astropy.wcs as wcs\n",
    "from astropy.coordinates import SkyCoord\n",
    "import astropy.units as u\n",
    "from astropy.table import Table, vstack, unique"
   ]
  },
  {
   "cell_type": "markdown",
   "id": "02c1a4c3",
   "metadata": {},
   "source": [
    "# Helper Functions <a id='helper'></a>"
   ]
  },
  {
   "cell_type": "code",
   "execution_count": 7,
   "id": "c205d4d0",
   "metadata": {},
   "outputs": [],
   "source": [
    "def between(lo, x, hi):\n",
    "    return (lo <= x) * (x <= hi)\n",
    "\n",
    "def roundint(x):\n",
    "    return int(np.round(x))\n",
    "\n",
    "def slices_extent(x, y, dx, dy=0):\n",
    "    dy = dy or dx\n",
    "    xlo = roundint(x-dx)\n",
    "    xhi = roundint(x+dx+1)\n",
    "    ylo = roundint(y-dy)\n",
    "    yhi = roundint(y+dy+1)\n",
    "    xslice = slice(xlo, xhi)\n",
    "    yslice = slice(ylo, yhi)\n",
    "    slices = yslice, xslice\n",
    "    extent = xlo, xhi, ylo, yhi\n",
    "    return slices, extent"
   ]
  },
  {
   "cell_type": "code",
   "execution_count": 8,
   "id": "af0ae860",
   "metadata": {},
   "outputs": [],
   "source": [
    "# Helper functions to select subset of files from list\n",
    "def allin(elements, list_or_string):\n",
    "    if type(elements) == str:\n",
    "        elements = elements.split()\n",
    "    for element in elements:\n",
    "        if element not in list_or_string:\n",
    "            return False\n",
    "    return True\n",
    "\n",
    "def anyin(elements, list_or_string):\n",
    "    if type(elements) == str:\n",
    "        elements = elements.split()\n",
    "    for element in elements:\n",
    "        if element in list_or_string:\n",
    "            return True\n",
    "    return False\n",
    "\n",
    "# Select subset of files containing all search strings\n",
    "def select_files(all_files, search_strings=[]):\n",
    "    chosen_files = [file for file in all_files if allin(search_strings, file)]\n",
    "    if len(chosen_files) == 1:\n",
    "        chosen_files = chosen_files[0]\n",
    "    return chosen_files    "
   ]
  },
  {
   "cell_type": "markdown",
   "id": "358f59ba",
   "metadata": {},
   "source": [
    "# Select source"
   ]
  },
  {
   "cell_type": "code",
   "execution_count": 9,
   "id": "de037996",
   "metadata": {},
   "outputs": [],
   "source": [
    "source_id = 6355  # z = 7.665"
   ]
  },
  {
   "cell_type": "markdown",
   "id": "3bbb3984-92f7-4843-80e1-b968aea03d4a",
   "metadata": {},
   "source": [
    "# Wavelength grid"
   ]
  },
  {
   "cell_type": "markdown",
   "id": "1ab7736e",
   "metadata": {},
   "source": [
    "### S2D model WCS transform –> RA, Dec, wavelength\n",
    "\n",
    "https://jwst-pipeline.readthedocs.io/en/latest/_modules/jwst/assign_wcs/nirspec.html"
   ]
  },
  {
   "cell_type": "code",
   "execution_count": 10,
   "id": "89e7ed00",
   "metadata": {},
   "outputs": [
    {
     "data": {
      "text/plain": [
       "'../WCS/spec3/jw02736-o007_s06355_nirspec_f290lp-g395m_s2d.fits'"
      ]
     },
     "execution_count": 10,
     "metadata": {},
     "output_type": "execute_result"
    }
   ],
   "source": [
    "spec3_output_dir = '../WCS/spec3'\n",
    "\n",
    "s2d_files = glob(os.path.join(spec3_output_dir, '*_s2d.fits'))\n",
    "s2d_file  = select_files(s2d_files, ['s%05d' % source_id])\n",
    "s2d_file"
   ]
  },
  {
   "cell_type": "code",
   "execution_count": 11,
   "id": "8861385b",
   "metadata": {},
   "outputs": [],
   "source": [
    "s2d_model = datamodels.open(s2d_file)\n",
    "#s2d_model.info(max_rows=99999)  # show all contents\n",
    "#s2d_data = s2d_model.data + 0"
   ]
  },
  {
   "cell_type": "code",
   "execution_count": 12,
   "id": "57182abd",
   "metadata": {},
   "outputs": [],
   "source": [
    "if 'slits' in list(s2d_model):  # s2d has all the objects; extract the one with source_id\n",
    "    source_ids = [slit.source_id for slit in s2d_model.slits]\n",
    "    i_slit = source_ids.index(source_id)\n",
    "    slit_model = s2d_model.slits[i_slit]\n",
    "else:  # s2d only has one object\n",
    "    slit_model = s2d_model\n",
    "    i_slit = 0\n",
    "\n",
    "s2d_data = slit_model.data + 0  # load and make copy\n",
    "s2d_data = np.where(slit_model.err, s2d_data, np.nan)  # Replace zeros with nan where there is no data"
   ]
  },
  {
   "cell_type": "code",
   "execution_count": 13,
   "id": "b04c5e42",
   "metadata": {},
   "outputs": [],
   "source": [
    "slit_wcs = s2d_model.meta.wcs\n",
    "y, x = np.mgrid[:s2d_data.shape[0], :s2d_data.shape[1]] # grid of pixel x,y indices \n",
    "det2sky = slit_wcs.get_transform('detector', 'world') # coordinate transform from detector pixels to sky \n",
    "ra, dec, s2d_waves = det2sky(x, y) # RA, Dec, wavelength (microns) for each pixel \n",
    "s2d_wave = s2d_waves[0, :] # only need a single row of values since this is the rectified spectrum "
   ]
  },
  {
   "cell_type": "code",
   "execution_count": 14,
   "id": "cd5bc90b",
   "metadata": {},
   "outputs": [
    {
     "data": {
      "text/plain": [
       "array([2.84863722, 2.85043148, 2.85222575, ..., 5.28289045, 5.28467829,\n",
       "       5.28646621])"
      ]
     },
     "execution_count": 14,
     "metadata": {},
     "output_type": "execute_result"
    }
   ],
   "source": [
    "s2d_wave"
   ]
  },
  {
   "cell_type": "markdown",
   "id": "b9c62f2e",
   "metadata": {},
   "source": [
    "### can also read wavelength grid from x1d file"
   ]
  },
  {
   "cell_type": "code",
   "execution_count": 15,
   "id": "9ce457f5",
   "metadata": {},
   "outputs": [
    {
     "name": "stdout",
     "output_type": "stream",
     "text": [
      "../WCS/spec3/jw02736-o007_s06355_nirspec_f290lp-g395m_x1d.fits\n"
     ]
    }
   ],
   "source": [
    "# Load 1D extraction\n",
    "x1d_file = s2d_file.replace('s2d', 'x1d')\n",
    "print(x1d_file)\n",
    "x1d_model = datamodels.open(x1d_file)\n",
    "#x1d_model.info(max_rows=99999)  # show all contents"
   ]
  },
  {
   "cell_type": "code",
   "execution_count": 16,
   "id": "d25c202d",
   "metadata": {},
   "outputs": [],
   "source": [
    "x1d_wave = x1d_model.spec[i_slit].spec_table.WAVELENGTH"
   ]
  },
  {
   "cell_type": "code",
   "execution_count": 17,
   "id": "f6b54ae2",
   "metadata": {},
   "outputs": [
    {
     "data": {
      "text/plain": [
       "array([2.84863722, 2.85043148, 2.85222575, ..., 5.28289045, 5.28467829,\n",
       "       5.28646621])"
      ]
     },
     "execution_count": 17,
     "metadata": {},
     "output_type": "execute_result"
    }
   ],
   "source": [
    "x1d_wave"
   ]
  },
  {
   "cell_type": "markdown",
   "id": "fee4c1b9",
   "metadata": {},
   "source": [
    "### They're identical"
   ]
  },
  {
   "cell_type": "code",
   "execution_count": 18,
   "id": "132e64c6",
   "metadata": {},
   "outputs": [
    {
     "data": {
      "text/plain": [
       "array([-4.4408921e-16, -4.4408921e-16,  4.4408921e-16, ...,\n",
       "        0.0000000e+00,  0.0000000e+00,  0.0000000e+00])"
      ]
     },
     "execution_count": 18,
     "metadata": {},
     "output_type": "execute_result"
    }
   ],
   "source": [
    "s2d_wave - x1d_wave"
   ]
  },
  {
   "cell_type": "code",
   "execution_count": 19,
   "id": "e78a2557",
   "metadata": {},
   "outputs": [
    {
     "data": {
      "text/plain": [
       "8.881784197001252e-16"
      ]
     },
     "execution_count": 19,
     "metadata": {},
     "output_type": "execute_result"
    }
   ],
   "source": [
    "np.max(np.abs(s2d_wave - x1d_wave))"
   ]
  },
  {
   "cell_type": "markdown",
   "id": "1cdcfed8",
   "metadata": {},
   "source": [
    "# Metafile"
   ]
  },
  {
   "cell_type": "code",
   "execution_count": 20,
   "id": "851c7610",
   "metadata": {},
   "outputs": [
    {
     "data": {
      "text/plain": [
       "'jw02736007001_01_msa.fits'"
      ]
     },
     "execution_count": 20,
     "metadata": {},
     "output_type": "execute_result"
    }
   ],
   "source": [
    "msa_metafile = fits.getval(s2d_file, 'MSAMETFL')\n",
    "#msa_metafile = download_jwst_files([msa_metafile], './')[0]\n",
    "msa_metafile"
   ]
  },
  {
   "cell_type": "code",
   "execution_count": 21,
   "id": "cf33a7c5",
   "metadata": {},
   "outputs": [
    {
     "name": "stdout",
     "output_type": "stream",
     "text": [
      "Filename: jw02736007001_01_msa.fits\n",
      "No.    Name      Ver    Type      Cards   Dimensions   Format\n",
      "  0  PRIMARY       1 PrimaryHDU      16   ()      \n",
      "  1  SHUTTER_IMAGE    1 ImageHDU         8   (342, 730)   int16   \n",
      "  2  SHUTTER_INFO    1 BinTableHDU     33   1318R x 12C   [I, I, I, I, I, J, 1A, 6A, E, E, I, 1A]   \n",
      "  3  SOURCE_INFO    1 BinTableHDU     25   119R x 8C   [J, J, 20A, 31A, D, D, 30A, D]   \n"
     ]
    }
   ],
   "source": [
    "msa_hdu_list = fits.open(msa_metafile)\n",
    "msa_hdu_list.info()"
   ]
  },
  {
   "cell_type": "code",
   "execution_count": 22,
   "id": "0a2ba3ef",
   "metadata": {},
   "outputs": [
    {
     "data": {
      "text/plain": [
       "(730, 342)"
      ]
     },
     "execution_count": 22,
     "metadata": {},
     "output_type": "execute_result"
    }
   ],
   "source": [
    "msa_hdu_list['SHUTTER_IMAGE'].data.shape"
   ]
  },
  {
   "cell_type": "code",
   "execution_count": 23,
   "id": "160e66df",
   "metadata": {},
   "outputs": [],
   "source": [
    "shutter_table = Table(msa_hdu_list['SHUTTER_INFO'].data)\n",
    "#shutter_table"
   ]
  },
  {
   "cell_type": "code",
   "execution_count": 24,
   "id": "25869884",
   "metadata": {},
   "outputs": [
    {
     "data": {
      "text/plain": [
       "{1, 76}"
      ]
     },
     "execution_count": 24,
     "metadata": {},
     "output_type": "execute_result"
    }
   ],
   "source": [
    "set(shutter_table['msa_metadata_id'])  # Two MSA configs"
   ]
  },
  {
   "cell_type": "code",
   "execution_count": 25,
   "id": "86c89816",
   "metadata": {},
   "outputs": [],
   "source": [
    "source_ids = set(shutter_table['source_id'])\n",
    "source_ids = np.sort(list(source_ids))#.tolist()"
   ]
  },
  {
   "cell_type": "code",
   "execution_count": 26,
   "id": "ce8cfe06",
   "metadata": {},
   "outputs": [
    {
     "data": {
      "text/html": [
       "<div><i>Table length=1</i>\n",
       "<table id=\"table5652920720\" class=\"table-striped table-bordered table-condensed\">\n",
       "<thead><tr><th>program</th><th>source_id</th><th>source_name</th><th>alias</th><th>ra</th><th>dec</th><th>preimage_id</th><th>stellarity</th></tr></thead>\n",
       "<thead><tr><th>int32</th><th>int32</th><th>str20</th><th>str31</th><th>float64</th><th>float64</th><th>str30</th><th>float64</th></tr></thead>\n",
       "<tr><td>2736</td><td>6355</td><td>2736_6355</td><td>6355</td><td>110.84459416965377</td><td>-73.4350589621277</td><td>None</td><td>0.1</td></tr>\n",
       "</table></div>"
      ],
      "text/plain": [
       "<Table length=1>\n",
       "program source_id source_name alias         ra                dec        preimage_id stellarity\n",
       " int32    int32      str20    str31      float64            float64         str30     float64  \n",
       "------- --------- ----------- ----- ------------------ ----------------- ----------- ----------\n",
       "   2736      6355   2736_6355  6355 110.84459416965377 -73.4350589621277        None        0.1"
      ]
     },
     "execution_count": 26,
     "metadata": {},
     "output_type": "execute_result"
    }
   ],
   "source": [
    "source_table = Table(msa_hdu_list['SOURCE_INFO'].data)\n",
    "select_source_table = source_table[source_table['source_id'] == source_id]\n",
    "select_source_table"
   ]
  },
  {
   "cell_type": "code",
   "execution_count": 27,
   "id": "03a1d802",
   "metadata": {},
   "outputs": [
    {
     "data": {
      "text/plain": [
       "(110.84459416965377, -73.4350589621277)"
      ]
     },
     "execution_count": 27,
     "metadata": {},
     "output_type": "execute_result"
    }
   ],
   "source": [
    "#source_ra, source_dec = 110.8446, -73.43506\n",
    "source_ra  = select_source_table['ra'][0]\n",
    "source_dec = select_source_table['dec'][0]\n",
    "source_ra, source_dec"
   ]
  },
  {
   "cell_type": "code",
   "execution_count": 28,
   "id": "c2a4bcbb",
   "metadata": {},
   "outputs": [
    {
     "data": {
      "text/html": [
       "<div><i>Table length=5</i>\n",
       "<table id=\"table5658967184\" class=\"table-striped table-bordered table-condensed\">\n",
       "<thead><tr><th>slitlet_id</th><th>msa_metadata_id</th><th>shutter_quadrant</th><th>shutter_row</th><th>shutter_column</th><th>source_id</th><th>background</th><th>shutter_state</th><th>estimated_source_in_shutter_x</th><th>estimated_source_in_shutter_y</th><th>dither_point_index</th><th>primary_source</th></tr></thead>\n",
       "<thead><tr><th>int16</th><th>int16</th><th>int16</th><th>int16</th><th>int16</th><th>int32</th><th>str1</th><th>str6</th><th>float32</th><th>float32</th><th>int16</th><th>str1</th></tr></thead>\n",
       "<tr><td>72</td><td>1</td><td>3</td><td>138</td><td>83</td><td>6355</td><td>Y</td><td>OPEN</td><td>nan</td><td>nan</td><td>1</td><td>N</td></tr>\n",
       "<tr><td>72</td><td>1</td><td>3</td><td>138</td><td>84</td><td>6355</td><td>N</td><td>OPEN</td><td>0.46437824</td><td>0.86562544</td><td>1</td><td>Y</td></tr>\n",
       "<tr><td>72</td><td>1</td><td>3</td><td>138</td><td>85</td><td>6355</td><td>Y</td><td>OPEN</td><td>nan</td><td>nan</td><td>1</td><td>N</td></tr>\n",
       "<tr><td>72</td><td>1</td><td>3</td><td>138</td><td>86</td><td>6355</td><td>Y</td><td>OPEN</td><td>nan</td><td>nan</td><td>1</td><td>N</td></tr>\n",
       "<tr><td>72</td><td>1</td><td>3</td><td>138</td><td>87</td><td>6355</td><td>Y</td><td>OPEN</td><td>nan</td><td>nan</td><td>1</td><td>N</td></tr>\n",
       "</table></div>"
      ],
      "text/plain": [
       "<Table length=5>\n",
       "slitlet_id msa_metadata_id shutter_quadrant shutter_row ... estimated_source_in_shutter_y dither_point_index primary_source\n",
       "  int16         int16           int16          int16    ...            float32                  int16             str1     \n",
       "---------- --------------- ---------------- ----------- ... ----------------------------- ------------------ --------------\n",
       "        72               1                3         138 ...                           nan                  1              N\n",
       "        72               1                3         138 ...                    0.86562544                  1              Y\n",
       "        72               1                3         138 ...                           nan                  1              N\n",
       "        72               1                3         138 ...                           nan                  1              N\n",
       "        72               1                3         138 ...                           nan                  1              N"
      ]
     },
     "execution_count": 28,
     "metadata": {},
     "output_type": "execute_result"
    }
   ],
   "source": [
    "shutter_table_dither1 = shutter_table[shutter_table['dither_point_index'] == 1]\n",
    "shutter_table_dither1 = shutter_table_dither1[shutter_table_dither1['msa_metadata_id'] == 1]\n",
    "source_select = [(id == source_id) for id in shutter_table_dither1['source_id']]\n",
    "source_shutter_table = shutter_table_dither1[source_select]\n",
    "source_shutter_table"
   ]
  },
  {
   "cell_type": "code",
   "execution_count": 29,
   "id": "7fb42a3b",
   "metadata": {},
   "outputs": [
    {
     "data": {
      "text/plain": [
       "1"
      ]
     },
     "execution_count": 29,
     "metadata": {},
     "output_type": "execute_result"
    }
   ],
   "source": [
    "i_primary = list(source_shutter_table['primary_source']).index('Y')\n",
    "i_primary"
   ]
  },
  {
   "cell_type": "markdown",
   "id": "6937d282",
   "metadata": {},
   "source": [
    "# Color Image\n",
    "\n",
    "Created with [Trilogy](https://github.com/dancoe/trilogy)\n",
    "using [NIRCam images in the DAWN JWST Archive (DJA)](https://dawn-cph.github.io/dja/imaging/v7/)"
   ]
  },
  {
   "cell_type": "code",
   "execution_count": 30,
   "id": "aa0fa43d",
   "metadata": {},
   "outputs": [],
   "source": [
    "color_image_file = '/Users/dcoe/SMACS0723/dja/v7/color/smacs0723_color_sw.png'  # Trilogy color image\n",
    "im = Image.open(color_image_file)\n",
    "im = im.transpose(method=Image.FLIP_TOP_BOTTOM)\n",
    "color_image = np.asarray(im)\n",
    "# Takes a few seconds to load a large image"
   ]
  },
  {
   "cell_type": "code",
   "execution_count": 31,
   "id": "238dc1af",
   "metadata": {},
   "outputs": [
    {
     "data": {
      "text/plain": [
       "'/Users/dcoe/SMACS0723/dja/v7/images/20mas/smacs0723-grizli-v7.0-f200w-clear_drc_sci.fits'"
      ]
     },
     "execution_count": 31,
     "metadata": {},
     "output_type": "execute_result"
    }
   ],
   "source": [
    "fits_image_file = glob('/Users/dcoe/SMACS0723/dja/v7/images/20mas/*.fits')[0]  # DJA image reduction\n",
    "fits_image_file  # for RA, Dec -> x, y"
   ]
  },
  {
   "cell_type": "code",
   "execution_count": 32,
   "id": "ce012d3c",
   "metadata": {
    "scrolled": false
   },
   "outputs": [
    {
     "data": {
      "text/plain": [
       "WCS Keywords\n",
       "\n",
       "Number of WCS axes: 2\n",
       "CTYPE : 'RA---TAN' 'DEC--TAN' \n",
       "CRVAL : 110.83403 -73.45429 \n",
       "CRPIX : 9182.5 13030.5 \n",
       "CD1_1 CD1_2  : -5.5555555555555e-06 0.0 \n",
       "CD2_1 CD2_2  : 0.0 5.5555555555555e-06 \n",
       "NAXIS : 24000  24000"
      ]
     },
     "execution_count": 32,
     "metadata": {},
     "output_type": "execute_result"
    }
   ],
   "source": [
    "color_image_hdulist = fits.open(fits_image_file)\n",
    "idata = 0\n",
    "image_wcs = wcs.WCS(color_image_hdulist[idata].header, color_image_hdulist)\n",
    "image_wcs"
   ]
  },
  {
   "cell_type": "markdown",
   "id": "21e32eb3",
   "metadata": {},
   "source": [
    "# Define slit sizes"
   ]
  },
  {
   "cell_type": "code",
   "execution_count": 33,
   "id": "4411e99a",
   "metadata": {},
   "outputs": [
    {
     "data": {
      "text/plain": [
       "(0.27, 0.53)"
      ]
     },
     "execution_count": 33,
     "metadata": {},
     "output_type": "execute_result"
    }
   ],
   "source": [
    "open_slit_x_size = 0.20  # open slit width  in arcseconds (dispersion direction)\n",
    "open_slit_y_size = 0.46  # open slit height in arcseconds (cross-dispersion direction)\n",
    "\n",
    "slit_bar_width   = 0.07\n",
    "\n",
    "full_slit_x_size = open_slit_x_size + slit_bar_width\n",
    "full_slit_y_size = open_slit_y_size + slit_bar_width\n",
    "full_slit_x_size, full_slit_y_size"
   ]
  },
  {
   "cell_type": "markdown",
   "id": "d6c83e28",
   "metadata": {},
   "source": [
    "https://jira.stsci.edu/browse/JP-1341"
   ]
  },
  {
   "cell_type": "code",
   "execution_count": 34,
   "id": "fedc708b",
   "metadata": {},
   "outputs": [
    {
     "data": {
      "text/plain": [
       "(1.35, 1.1521739130434783)"
      ]
     },
     "execution_count": 34,
     "metadata": {},
     "output_type": "execute_result"
    }
   ],
   "source": [
    "#x_scale, y_scale = 1.38, 1.16  # should read more precise values from MSA reference file?\n",
    "#x_scale, y_scale = 1.35, 1.15  # better?\n",
    "#x_scale, y_scale = 1.34, 1.14  # trying it\n",
    "\n",
    "x_scale_open_to_full = full_slit_x_size / open_slit_x_size\n",
    "y_scale_open_to_full = full_slit_y_size / open_slit_y_size\n",
    "x_scale_open_to_full, y_scale_open_to_full"
   ]
  },
  {
   "cell_type": "markdown",
   "id": "099da94a",
   "metadata": {},
   "source": [
    "# Mapping Slits to the Sky"
   ]
  },
  {
   "cell_type": "code",
   "execution_count": 35,
   "id": "38fd49a8",
   "metadata": {},
   "outputs": [],
   "source": [
    "slit2sky = slit_wcs.get_transform('slit_frame', 'world')"
   ]
  },
  {
   "cell_type": "code",
   "execution_count": 36,
   "id": "dde6c667",
   "metadata": {},
   "outputs": [],
   "source": [
    "# Slit corners in coordinates that range from (0,0) to (1,1)\n",
    "open_slit_x_corners = 0, 0, 1, 1 \n",
    "open_slit_y_corners = 0, 1, 1, 0\n",
    "\n",
    "# Convert to origin at (0.5,0.5)\n",
    "open_slit_x_corners = np.array(open_slit_x_corners) - 0.5\n",
    "open_slit_y_corners = np.array(open_slit_y_corners) - 0.5\n",
    "\n",
    "# Convert to full slit (not just open area)\n",
    "full_slit_x_corners = x_scale_open_to_full * open_slit_x_corners\n",
    "full_slit_y_corners = y_scale_open_to_full * open_slit_y_corners"
   ]
  },
  {
   "cell_type": "code",
   "execution_count": 37,
   "id": "80401b95",
   "metadata": {},
   "outputs": [],
   "source": [
    "#slitlet_ra, slitlet_dec, zero = slit2sky(x_corners, y_corners, 0)"
   ]
  },
  {
   "cell_type": "code",
   "execution_count": 38,
   "id": "350c13af",
   "metadata": {},
   "outputs": [
    {
     "data": {
      "text/plain": [
       "(0.46437824, 0.86562544)"
      ]
     },
     "execution_count": 38,
     "metadata": {},
     "output_type": "execute_result"
    }
   ],
   "source": [
    "# MSA metafile estimate of source position within shutter slitlet\n",
    "# Coordinates range from (0,0) to (1,1)\n",
    "estimated_source_in_shutter_x = source_shutter_table['estimated_source_in_shutter_x'][i_primary]\n",
    "estimated_source_in_shutter_y = source_shutter_table['estimated_source_in_shutter_y'][i_primary]\n",
    "estimated_source_in_shutter_x, estimated_source_in_shutter_y"
   ]
  },
  {
   "cell_type": "code",
   "execution_count": 39,
   "id": "24bbca4d",
   "metadata": {},
   "outputs": [
    {
     "data": {
      "text/plain": [
       "(array(8639.80466798), array(16485.56199579))"
      ]
     },
     "execution_count": 39,
     "metadata": {},
     "output_type": "execute_result"
    }
   ],
   "source": [
    "# Shift coordinate centroid to (0,0)\n",
    "estimated_source_in_shutter_x -= 0.5\n",
    "estimated_source_in_shutter_y -= 0.5\n",
    "\n",
    "# Coordinates are actually for full slit (not just open area)\n",
    "estimated_source_in_shutter_x *= x_scale_open_to_full\n",
    "estimated_source_in_shutter_y *= y_scale_open_to_full\n",
    "\n",
    "# Transform to sky (RA,Dec) using S2D WCS transformation\n",
    "estimated_source_ra, estimated_source_dec, zero = slit2sky(\n",
    "    estimated_source_in_shutter_x, estimated_source_in_shutter_y, 0)\n",
    "\n",
    "# Transform to image pixels (x,y) using image WCS\n",
    "estimated_source_coordinates = SkyCoord(ra=estimated_source_ra*u.deg, dec=estimated_source_dec*u.deg)\n",
    "estimated_source_x, estimated_source_y = image_wcs.world_to_pixel(estimated_source_coordinates)\n",
    "\n",
    "estimated_source_x, estimated_source_y"
   ]
  },
  {
   "cell_type": "code",
   "execution_count": 40,
   "id": "63af6280",
   "metadata": {},
   "outputs": [
    {
     "data": {
      "text/plain": [
       "(0.44040891860095144, -5.477046126175992)"
      ]
     },
     "execution_count": 40,
     "metadata": {},
     "output_type": "execute_result"
    }
   ],
   "source": [
    "# Calculate offset between S2D WCS transformation and actual coordinates in input catalog\n",
    "# The input catalog coordinates (RA,Dec) are more accurate than the pipeline (RA,Dec)\n",
    "source_coordinates = SkyCoord(ra=source_ra*u.deg, dec=source_dec*u.deg)\n",
    "source_xy = source_x, source_y = image_wcs.world_to_pixel(source_coordinates)\n",
    "\n",
    "# We'll correct for this offset below\n",
    "dx_obs = estimated_source_x - source_x\n",
    "dy_obs = estimated_source_y - source_y\n",
    "\n",
    "dx_obs, dy_obs"
   ]
  },
  {
   "cell_type": "code",
   "execution_count": 41,
   "id": "b81c5d1a",
   "metadata": {},
   "outputs": [
    {
     "data": {
      "text/plain": [
       "array([-1.15217391,  0.        ,  1.15217391,  2.30434783,  3.45652174])"
      ]
     },
     "execution_count": 41,
     "metadata": {},
     "output_type": "execute_result"
    }
   ],
   "source": [
    "# Indices to iterate along slit with multiple shutters\n",
    "# (e.g., dy_columns = -1,0,1 for 3-shutter slitlet)\n",
    "dx_rows    = source_shutter_table['shutter_row']    - source_shutter_table['shutter_row'][i_primary]\n",
    "dy_columns = source_shutter_table['shutter_column'] - source_shutter_table['shutter_column'][i_primary]\n",
    "\n",
    "# Scale to full slit (not just open area)\n",
    "dx_rows    = np.array(dx_rows)    * x_scale_open_to_full\n",
    "dy_columns = np.array(dy_columns) * y_scale_open_to_full\n",
    "# Note the cross-dispersion direction is defined as columns in the MSA metafile\n",
    "# even though we normally show them as rows in the MSA\n",
    "dy_columns  "
   ]
  },
  {
   "cell_type": "code",
   "execution_count": 42,
   "id": "81a9e809",
   "metadata": {},
   "outputs": [
    {
     "data": {
      "text/plain": [
       "(8626.327030078093, 16475.20981900441)"
      ]
     },
     "execution_count": 42,
     "metadata": {},
     "output_type": "execute_result"
    }
   ],
   "source": [
    "# Convert full slit corner coordinates to sky using S2D WCS transformation slit2sky\n",
    "xx = []\n",
    "yy = []\n",
    "\n",
    "for i in range(len(dy_columns)):\n",
    "    slitlet_ra, slitlet_dec, zero = slit2sky(full_slit_x_corners + dx_rows[i], full_slit_y_corners + dy_columns[i], 0)\n",
    "    slit_coordinates = SkyCoord(ra=slitlet_ra*u.deg, dec=slitlet_dec*u.deg)\n",
    "    xy = x, y = image_wcs.world_to_pixel(slit_coordinates)\n",
    "    xx.append(x)\n",
    "    yy.append(y)\n",
    "\n",
    "# Define the image stamp region: a 3\"x3\" square around the center of the slits\n",
    "dx = 75  # half-width in pixels (0.02\" * 75 pixels = 1.5\", so the image will be 3\"x3\")\n",
    "slices, extent = slices_extent(np.mean(xx), np.mean(yy), dx)\n",
    "xlo, xhi, ylo, yhi = extent\n",
    "np.mean(xx), np.mean(yy)"
   ]
  },
  {
   "cell_type": "code",
   "execution_count": 43,
   "id": "13e9b13f",
   "metadata": {},
   "outputs": [],
   "source": [
    "slit_color = (0.5,0.85,1)\n",
    "slit_color = 'r'\n",
    "source_color = (0,0.8,0)"
   ]
  },
  {
   "cell_type": "code",
   "execution_count": 44,
   "id": "c68a40ea",
   "metadata": {
    "scrolled": false
   },
   "outputs": [
    {
     "data": {
      "image/png": "[encoded data removed]",
      "text/plain": [
       "<Figure size 950x600 with 1 Axes>"
      ]
     },
     "metadata": {},
     "output_type": "display_data"
    }
   ],
   "source": [
    "fig = plt.figure(figsize=(9.5, 6))\n",
    "ax = fig.add_subplot(1, 1, 1) #, projection=imwcs) # , sharex=True, sharey=True)\n",
    "ax.imshow(color_image[slices], extent=extent, origin='lower')\n",
    "\n",
    "plt.plot(source_x, source_y, 'o', mec=source_color, mfc='None')\n",
    "\n",
    "for i in range(len(source_shutter_table)):\n",
    "    slitlet_ra, slitlet_dec, zero = slit2sky(open_slit_x_corners + dx_rows[i], open_slit_y_corners + dy_columns[i], 0)\n",
    "    slit_coordinates = SkyCoord(ra=slitlet_ra*u.deg, dec=slitlet_dec*u.deg)\n",
    "    xy = x, y = image_wcs.world_to_pixel(slit_coordinates)\n",
    "    x -= dx_obs\n",
    "    y -= dy_obs\n",
    "    xy = np.array([x, y]).T\n",
    "    patch = matplotlib.patches.Polygon(xy, fc='None', ec=slit_color, alpha=1, zorder=100)\n",
    "    ax.add_patch(patch)\n",
    "\n",
    "ax.axis('off')  # hide the axis coordinates, ticks, and labels\n",
    "plt.show()"
   ]
  },
  {
   "cell_type": "markdown",
   "id": "d85ba9d0",
   "metadata": {},
   "source": [
    "# Mapping Sky back to Slits"
   ]
  },
  {
   "cell_type": "code",
   "execution_count": 45,
   "id": "38827957",
   "metadata": {},
   "outputs": [],
   "source": [
    "d_slit = 1  # number of shutters to extend in either direction\n",
    "y_slit_lo = 0 - d_slit\n",
    "y_slit_hi = 1 + d_slit"
   ]
  },
  {
   "cell_type": "code",
   "execution_count": 46,
   "id": "e60ccb27",
   "metadata": {},
   "outputs": [],
   "source": [
    "# Create a high-resolution coordinate grid in the slit plane\n",
    "y_slit, x_slit = np.mgrid[y_slit_lo:y_slit_hi:1001j,0:1:1001j] - 0.5\n",
    "x_slit *= x_scale_open_to_full\n",
    "y_slit *= y_scale_open_to_full\n",
    "\n",
    "# Transform these to the image plane\n",
    "ra_slit, dec_slit, zero = slit2sky(x_slit, y_slit, 0)\n",
    "coords_slit = SkyCoord(ra=ra_slit*u.deg, dec=dec_slit*u.deg)\n",
    "x_image, y_image = image_wcs.world_to_pixel(coords_slit)\n",
    "\n",
    "# Extract the image values (colors) at each coordinate\n",
    "slit_stamp = color_image[np.round(y_image-dy_obs).astype(int), np.round(x_image-dx_obs).astype(int)]"
   ]
  },
  {
   "cell_type": "code",
   "execution_count": 47,
   "id": "5cb91e54",
   "metadata": {},
   "outputs": [
    {
     "data": {
      "text/plain": [
       "(-0.675, 0.675, -1.7282608695652173, 1.7282608695652173)"
      ]
     },
     "execution_count": 47,
     "metadata": {},
     "output_type": "execute_result"
    }
   ],
   "source": [
    "xlo, xhi, ylo, yhi = slit_extent = x_slit[0,0], x_slit[0,-1], y_slit[0,0], y_slit[-1,0]\n",
    "slit_extent"
   ]
  },
  {
   "cell_type": "code",
   "execution_count": 48,
   "id": "fc059d82",
   "metadata": {
    "scrolled": false
   },
   "outputs": [
    {
     "data": {
      "image/png": "[encoded data removed]",
      "text/plain": [
       "<Figure size 950x600 with 1 Axes>"
      ]
     },
     "metadata": {},
     "output_type": "display_data"
    }
   ],
   "source": [
    "fig = plt.figure(figsize=(9.5, 6))\n",
    "ax = fig.add_subplot(1, 1, 1) #, projection=imwcs) # , sharex=True, sharey=True)\n",
    "ax.imshow(slit_stamp, origin='lower', aspect=open_slit_y_size/open_slit_x_size, extent=slit_extent)\n",
    "\n",
    "for dy in -1,0,1:\n",
    "    xy_corners = np.array([open_slit_x_corners, open_slit_y_corners+dy*y_scale_open_to_full]).T\n",
    "    patch = matplotlib.patches.Polygon(xy_corners, fc='None', ec=slit_color, alpha=1, zorder=100)\n",
    "    ax.add_patch(patch)\n",
    "    \n",
    "plt.plot(estimated_source_in_shutter_x, estimated_source_in_shutter_y, 'o', mec=source_color, mfc='None')\n",
    "\n",
    "plt.axis('off');  # hide the axis coordinates, ticks, and labels"
   ]
  },
  {
   "cell_type": "code",
   "execution_count": null,
   "id": "5b806c57",
   "metadata": {},
   "outputs": [],
   "source": []
  }
 ],
 "metadata": {
  "kernelspec": {
   "display_name": "Python 3 (ipykernel)",
   "language": "python",
   "name": "python3"
  },
  "language_info": {
   "codemirror_mode": {
    "name": "ipython",
    "version": 3
   },
   "file_extension": ".py",
   "mimetype": "text/x-python",
   "name": "python",
   "nbconvert_exporter": "python",
   "pygments_lexer": "ipython3",
   "version": "3.11.7"
  }
 },
 "nbformat": 4,
 "nbformat_minor": 5
}
