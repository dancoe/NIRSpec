{
 "cells": [
  {
   "cell_type": "markdown",
   "id": "27aec871-912b-4e01-86c9-59517d6bff61",
   "metadata": {},
   "source": [
    "# Import Libraries <a id='import'></a>"
   ]
  },
  {
   "cell_type": "code",
   "execution_count": 1,
   "id": "2c6bae58-ba78-435d-afef-1d5627839009",
   "metadata": {},
   "outputs": [],
   "source": [
    "import os\n",
    "home = os.path.expanduser(\"~\")\n",
    "from glob import glob\n",
    "import numpy as np\n",
    "from astropy.io import fits"
   ]
  },
  {
   "cell_type": "code",
   "execution_count": 2,
   "id": "b2184263-6de2-4773-88e0-3bdc81c2ca2a",
   "metadata": {},
   "outputs": [
    {
     "name": "stdout",
     "output_type": "stream",
     "text": [
      "/Users/dcoe/crds_cache\n"
     ]
    }
   ],
   "source": [
    "# Define CRDS paths *before* importing jwst pipeline\n",
    "# otherwise you'll get FileNotFoundError: [Errno 2] : No such file or directory: '$HOME/crds_cache/config/jwst/server_config'\n",
    "\n",
    "#os.environ[\"CRDS_PATH\"] = \"$HOME/crds_cache\"\n",
    "#os.environ[\"CRDS_PATH\"] = '/grp/crds/cache/' at STScI\n",
    "os.environ[\"CRDS_PATH\"] = os.path.join(home, \"crds_cache\")\n",
    "os.makedirs(os.environ['CRDS_PATH'], exist_ok=True)\n",
    "print(os.environ['CRDS_PATH'])\n",
    "\n",
    "os.environ[\"CRDS_SERVER_URL\"] = \"https://jwst-crds.stsci.edu\"\n",
    "\n",
    "import crds"
   ]
  },
  {
   "cell_type": "code",
   "execution_count": 3,
   "id": "1aa91add",
   "metadata": {},
   "outputs": [
    {
     "name": "stdout",
     "output_type": "stream",
     "text": [
      "JWST Calibration Pipeline Version = 1.13.4\n"
     ]
    }
   ],
   "source": [
    "# Import JWST pipeline \n",
    "\n",
    "import jwst\n",
    "from jwst import datamodels\n",
    "from jwst.pipeline import Detector1Pipeline   # calwebb_detector1\n",
    "from jwst.pipeline import Spec2Pipeline       # calwebb_spec2\n",
    "from jwst.pipeline import Spec3Pipeline       # calwebb_spec3\n",
    "from jwst.extract_1d import Extract1dStep     # Extract1D Individual Step\n",
    "from jwst.associations import asn_from_list   # create association file\n",
    "import json\n",
    "\n",
    "print(\"JWST Calibration Pipeline Version = {}\".format(jwst.__version__)) \n",
    "# Note if you're using a development version, it might not report the correct version number here"
   ]
  },
  {
   "cell_type": "code",
   "execution_count": 4,
   "id": "cc3f1294-e55e-4dda-99a0-ec5b206cbe03",
   "metadata": {},
   "outputs": [
    {
     "name": "stdout",
     "output_type": "stream",
     "text": [
      "Current Operational CRDS Context = jwst_1225.pmap\n"
     ]
    }
   ],
   "source": [
    "try:\n",
    "    print(\"Current Operational CRDS Context = {}\".format(crds.get_default_context()))\n",
    "except:\n",
    "    print('CRDS server not found (are you offline?)')"
   ]
  },
  {
   "cell_type": "code",
   "execution_count": 5,
   "id": "0cb15805-311b-4b6f-8069-8ee7a5dde178",
   "metadata": {},
   "outputs": [
    {
     "name": "stdout",
     "output_type": "stream",
     "text": [
      "Number of processors:  10\n"
     ]
    }
   ],
   "source": [
    "# To run faster on multiple cores in parallel\n",
    "import multiprocessing as mp \n",
    "print(\"Number of processors: \", mp.cpu_count())"
   ]
  },
  {
   "cell_type": "code",
   "execution_count": 6,
   "id": "bee1534a-cb3f-409d-af53-54a28a3eb07c",
   "metadata": {},
   "outputs": [
    {
     "name": "stdout",
     "output_type": "stream",
     "text": [
      "astroquery version 0.4.6\n"
     ]
    }
   ],
   "source": [
    "# To retrieve data from MAST\n",
    "import astroquery\n",
    "print('astroquery version', astroquery.__version__)\n",
    "from astroquery.mast import Observations, Mast\n",
    "\n",
    "from astropy.table import Table, vstack, unique"
   ]
  },
  {
   "cell_type": "code",
   "execution_count": 7,
   "id": "deec1a7c-a137-4193-bf8a-806bfbf891b5",
   "metadata": {},
   "outputs": [],
   "source": [
    "# To plot and view results\n",
    "\n",
    "import matplotlib # as mpl\n",
    "import matplotlib.pyplot as plt\n",
    "%matplotlib inline\n",
    "plt.rcParams.update({'font.size': 14})  # 18\n",
    "\n",
    "from matplotlib.patches import Rectangle\n",
    "from matplotlib.collections import PatchCollection\n",
    "import matplotlib.patheffects as pe # https://stackoverflow.com/questions/25426599/matplotlib-how-to-buffer-label-text\n",
    "\n",
    "from astropy.visualization import simple_norm, ImageNormalize, AsinhStretch, ManualInterval, LogStretch, LinearStretch\n",
    "from astropy.stats import sigma_clip, sigma_clipped_stats  # , SigmaClip"
   ]
  },
  {
   "cell_type": "markdown",
   "id": "8655b09d",
   "metadata": {},
   "source": [
    "# Helper Functions <a id='helper'></a>"
   ]
  },
  {
   "cell_type": "code",
   "execution_count": 8,
   "id": "1c816d78",
   "metadata": {},
   "outputs": [],
   "source": [
    "from IPython.display import JSON  # nicer interactive output of JSON dictionaries\n",
    "\n",
    "def print_dict(d, indent=0): # another way to view dictionary contents\n",
    "    for key in d.keys():\n",
    "        val = d[key]\n",
    "        try:\n",
    "            keys = val.keys()\n",
    "            print(' ' * indent, key)\n",
    "            print_dict(val, indent+4)\n",
    "        except:\n",
    "            if type(val) == type([]):\n",
    "                for i, item in enumerate(val):\n",
    "                    print(' ' * indent, '[%d]' % i)\n",
    "                    print_dict(item, indent+4)\n",
    "            else:\n",
    "                print(' ' * indent, key, ':', d[key])"
   ]
  },
  {
   "cell_type": "code",
   "execution_count": 9,
   "id": "a86e2c13",
   "metadata": {},
   "outputs": [],
   "source": [
    "def between(lo, x, hi):\n",
    "    return (lo <= x) * (x <= hi)"
   ]
  },
  {
   "cell_type": "code",
   "execution_count": 10,
   "id": "19d256b7",
   "metadata": {},
   "outputs": [],
   "source": [
    "# Helper functions to select subset of files from list\n",
    "def allin(elements, list_or_string):\n",
    "    if type(elements) == str:\n",
    "        elements = elements.split()\n",
    "    for element in elements:\n",
    "        if element not in list_or_string:\n",
    "            return False\n",
    "    return True\n",
    "\n",
    "def anyin(elements, list_or_string):\n",
    "    if type(elements) == str:\n",
    "        elements = elements.split()\n",
    "    for element in elements:\n",
    "        if element in list_or_string:\n",
    "            return True\n",
    "    return False\n",
    "\n",
    "# Select subset of files containing all search strings\n",
    "def select_files(all_files, search_strings=[]):\n",
    "    chosen_files = [file for file in all_files if allin(search_strings, file)]\n",
    "    if len(chosen_files) == 1:\n",
    "        chosen_files = chosen_files[0]\n",
    "    return chosen_files    "
   ]
  },
  {
   "cell_type": "markdown",
   "id": "3bbb3984-92f7-4843-80e1-b968aea03d4a",
   "metadata": {},
   "source": [
    "# Wavelength grid"
   ]
  },
  {
   "cell_type": "markdown",
   "id": "0aa0b6d2",
   "metadata": {},
   "source": [
    "### S2D model WCS transform –> RA, Dec, wavelength\n",
    "\n",
    "https://jwst-pipeline.readthedocs.io/en/latest/_modules/jwst/assign_wcs/nirspec.html"
   ]
  },
  {
   "cell_type": "code",
   "execution_count": 11,
   "id": "9d0aeaae",
   "metadata": {},
   "outputs": [
    {
     "data": {
      "text/plain": [
       "'spec3/jw02736-o007_s06355_nirspec_f290lp-g395m_s2d.fits'"
      ]
     },
     "execution_count": 11,
     "metadata": {},
     "output_type": "execute_result"
    }
   ],
   "source": [
    "spec3_output_dir = 'spec3'\n",
    "source_id = 6355\n",
    "\n",
    "s2d_files = glob(os.path.join(spec3_output_dir, '*_s2d.fits'))\n",
    "s2d_file  = select_files(s2d_files, ['s%05d' % source_id])\n",
    "s2d_file"
   ]
  },
  {
   "cell_type": "code",
   "execution_count": 12,
   "id": "0fb432eb",
   "metadata": {},
   "outputs": [],
   "source": [
    "s2d_model = datamodels.open(s2d_file)\n",
    "#s2d_model.info(max_rows=99999)  # show all contents\n",
    "#s2d_data = s2d_model.data + 0"
   ]
  },
  {
   "cell_type": "code",
   "execution_count": 13,
   "id": "7b90ada8",
   "metadata": {},
   "outputs": [],
   "source": [
    "if 'slits' in list(s2d_model):  # s2d has all the objects; extract the one with source_id\n",
    "    source_ids = [slit.source_id for slit in s2d_model.slits]\n",
    "    i_slit = source_ids.index(source_id)\n",
    "    slit_model = s2d_model.slits[i_slit]\n",
    "else:  # s2d only has one object\n",
    "    slit_model = s2d_model\n",
    "    i_slit = 0\n",
    "\n",
    "s2d_data = slit_model.data + 0  # load and make copy\n",
    "s2d_data = np.where(slit_model.err, s2d_data, np.nan)  # Replace zeros with nan where there is no data"
   ]
  },
  {
   "cell_type": "code",
   "execution_count": 14,
   "id": "2f67d0d5",
   "metadata": {},
   "outputs": [],
   "source": [
    "slit_wcs = s2d_model.meta.wcs\n",
    "y, x = np.mgrid[:s2d_data.shape[0], :s2d_data.shape[1]] # grid of pixel x,y indices \n",
    "det2sky = slit_wcs.get_transform('detector', 'world') # coordinate transform from detector pixels to sky \n",
    "ra, dec, s2d_waves = det2sky(x, y) # RA, Dec, wavelength (microns) for each pixel \n",
    "s2d_wave = s2d_waves[0, :] # only need a single row of values since this is the rectified spectrum "
   ]
  },
  {
   "cell_type": "code",
   "execution_count": 15,
   "id": "ce04f9bd",
   "metadata": {},
   "outputs": [
    {
     "data": {
      "text/plain": [
       "array([2.84863722, 2.85043148, 2.85222575, ..., 5.28289045, 5.28467829,\n",
       "       5.28646621])"
      ]
     },
     "execution_count": 15,
     "metadata": {},
     "output_type": "execute_result"
    }
   ],
   "source": [
    "s2d_wave"
   ]
  },
  {
   "cell_type": "markdown",
   "id": "5edcc9ad",
   "metadata": {},
   "source": [
    "### can also read wavelength grid from x1d file"
   ]
  },
  {
   "cell_type": "code",
   "execution_count": 16,
   "id": "9f58f4d5",
   "metadata": {},
   "outputs": [
    {
     "name": "stdout",
     "output_type": "stream",
     "text": [
      "spec3/jw02736-o007_s06355_nirspec_f290lp-g395m_x1d.fits\n"
     ]
    }
   ],
   "source": [
    "# Load 1D extraction\n",
    "x1d_file = s2d_file.replace('s2d', 'x1d')\n",
    "print(x1d_file)\n",
    "x1d_model = datamodels.open(x1d_file)\n",
    "#x1d_model.info(max_rows=99999)  # show all contents"
   ]
  },
  {
   "cell_type": "code",
   "execution_count": 17,
   "id": "4b45a29d",
   "metadata": {},
   "outputs": [],
   "source": [
    "x1d_wave = x1d_model.spec[i_slit].spec_table.WAVELENGTH"
   ]
  },
  {
   "cell_type": "code",
   "execution_count": 18,
   "id": "a8ce06bd",
   "metadata": {},
   "outputs": [
    {
     "data": {
      "text/plain": [
       "array([2.84863722, 2.85043148, 2.85222575, ..., 5.28289045, 5.28467829,\n",
       "       5.28646621])"
      ]
     },
     "execution_count": 18,
     "metadata": {},
     "output_type": "execute_result"
    }
   ],
   "source": [
    "x1d_wave"
   ]
  },
  {
   "cell_type": "markdown",
   "id": "d0b4e63b",
   "metadata": {},
   "source": [
    "### They're identical"
   ]
  },
  {
   "cell_type": "code",
   "execution_count": 19,
   "id": "19124458",
   "metadata": {},
   "outputs": [
    {
     "data": {
      "text/plain": [
       "array([-4.4408921e-16, -4.4408921e-16,  4.4408921e-16, ...,\n",
       "        0.0000000e+00,  0.0000000e+00,  0.0000000e+00])"
      ]
     },
     "execution_count": 19,
     "metadata": {},
     "output_type": "execute_result"
    }
   ],
   "source": [
    "s2d_wave - x1d_wave"
   ]
  },
  {
   "cell_type": "code",
   "execution_count": 20,
   "id": "10663e72",
   "metadata": {},
   "outputs": [
    {
     "data": {
      "text/plain": [
       "8.881784197001252e-16"
      ]
     },
     "execution_count": 20,
     "metadata": {},
     "output_type": "execute_result"
    }
   ],
   "source": [
    "np.max(np.abs(s2d_wave - x1d_wave))"
   ]
  },
  {
   "cell_type": "markdown",
   "id": "881674ca",
   "metadata": {},
   "source": [
    "## Slit Frame"
   ]
  },
  {
   "cell_type": "code",
   "execution_count": 21,
   "id": "b0f30580",
   "metadata": {},
   "outputs": [],
   "source": [
    "slit2sky = slit_wcs.get_transform('slit_frame', 'world')"
   ]
  },
  {
   "cell_type": "code",
   "execution_count": 22,
   "id": "6b433d35",
   "metadata": {},
   "outputs": [
    {
     "data": {
      "text/plain": [
       "(110.8449167959692, -73.43509123541304, 1000000.0)"
      ]
     },
     "execution_count": 22,
     "metadata": {},
     "output_type": "execute_result"
    }
   ],
   "source": [
    "slit2sky(1, 1, 1)"
   ]
  },
  {
   "cell_type": "markdown",
   "id": "8dae3ec9",
   "metadata": {},
   "source": [
    "slit size:  \n",
    "0.20\" dispersion  \n",
    "0.46\" cross-dispersion"
   ]
  },
  {
   "cell_type": "markdown",
   "id": "bc0fd277",
   "metadata": {},
   "source": [
    "5 slitlets long... Might have expected 5 * 0.46\" = 2.3\" = 23 pixels (0.1\" / pix)"
   ]
  },
  {
   "cell_type": "code",
   "execution_count": 23,
   "id": "1fc0ed91",
   "metadata": {},
   "outputs": [
    {
     "data": {
      "text/plain": [
       "38"
      ]
     },
     "execution_count": 23,
     "metadata": {},
     "output_type": "execute_result"
    }
   ],
   "source": [
    "slit_model.ysize"
   ]
  },
  {
   "cell_type": "code",
   "execution_count": 24,
   "id": "1491d91a",
   "metadata": {},
   "outputs": [
    {
     "data": {
      "text/plain": [
       "41"
      ]
     },
     "execution_count": 24,
     "metadata": {},
     "output_type": "execute_result"
    }
   ],
   "source": [
    "s2d_data.shape[0]"
   ]
  },
  {
   "cell_type": "markdown",
   "id": "d5246edf",
   "metadata": {},
   "source": [
    "Cross-dispersion..."
   ]
  },
  {
   "cell_type": "code",
   "execution_count": 25,
   "id": "e12fafa4",
   "metadata": {},
   "outputs": [
    {
     "data": {
      "text/plain": [
       "(3.3043478260869565, 7.6)"
      ]
     },
     "execution_count": 25,
     "metadata": {},
     "output_type": "execute_result"
    }
   ],
   "source": [
    "single_slit_ysize = slit_model.ysize / 5.\n",
    "slit_xsize = single_slit_ysize * 0.20 / 0.46\n",
    "slit_xsize, single_slit_ysize"
   ]
  },
  {
   "cell_type": "code",
   "execution_count": 26,
   "id": "5625353d",
   "metadata": {},
   "outputs": [],
   "source": [
    "slit_xsize = 3"
   ]
  },
  {
   "cell_type": "markdown",
   "id": "28b25303",
   "metadata": {},
   "source": [
    "Create grid"
   ]
  },
  {
   "cell_type": "code",
   "execution_count": 27,
   "id": "61e66c1f",
   "metadata": {},
   "outputs": [],
   "source": [
    "slit_y, slit_x = np.mgrid[:slit_model.ysize, :slit_xsize] # grid of pixel x,y indices "
   ]
  },
  {
   "cell_type": "code",
   "execution_count": 28,
   "id": "a95ed206",
   "metadata": {},
   "outputs": [],
   "source": [
    "ra, dec, zero = slit2sky(slit_x, slit_y, 0) # RA, Dec for each pixel "
   ]
  },
  {
   "cell_type": "code",
   "execution_count": 29,
   "id": "bc092c4d",
   "metadata": {},
   "outputs": [
    {
     "data": {
      "text/plain": [
       "(110.858334775699, 110.84378194167009)"
      ]
     },
     "execution_count": 29,
     "metadata": {},
     "output_type": "execute_result"
    },
    {
     "data": {
      "image/png": "[encoded data removed]",
      "text/plain": [
       "<Figure size 900x600 with 1 Axes>"
      ]
     },
     "metadata": {},
     "output_type": "display_data"
    }
   ],
   "source": [
    "fig, ax = plt.subplots(1, 1, figsize=(9,6))\n",
    "plt.plot(ra, dec, 'bo')\n",
    "plt.xlim(plt.xlim()[::-1])"
   ]
  },
  {
   "cell_type": "code",
   "execution_count": null,
   "id": "7b6557d3",
   "metadata": {},
   "outputs": [],
   "source": []
  }
 ],
 "metadata": {
  "kernelspec": {
   "display_name": "Python 3 (ipykernel)",
   "language": "python",
   "name": "python3"
  },
  "language_info": {
   "codemirror_mode": {
    "name": "ipython",
    "version": 3
   },
   "file_extension": ".py",
   "mimetype": "text/x-python",
   "name": "python",
   "nbconvert_exporter": "python",
   "pygments_lexer": "ipython3",
   "version": "3.11.7"
  }
 },
 "nbformat": 4,
 "nbformat_minor": 5
}
