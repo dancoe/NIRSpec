{
 "cells": [
  {
   "cell_type": "markdown",
   "id": "27aec871-912b-4e01-86c9-59517d6bff61",
   "metadata": {},
   "source": [
    "# Import Libraries <a id='import'></a>"
   ]
  },
  {
   "cell_type": "code",
   "execution_count": 1,
   "id": "2c6bae58-ba78-435d-afef-1d5627839009",
   "metadata": {},
   "outputs": [],
   "source": [
    "import os\n",
    "home = os.path.expanduser(\"~\")\n",
    "from glob import glob\n",
    "import numpy as np\n",
    "from astropy.io import fits"
   ]
  },
  {
   "cell_type": "code",
   "execution_count": 2,
   "id": "b2184263-6de2-4773-88e0-3bdc81c2ca2a",
   "metadata": {},
   "outputs": [
    {
     "name": "stdout",
     "output_type": "stream",
     "text": [
      "/Users/dcoe/crds_cache\n"
     ]
    }
   ],
   "source": [
    "# Define CRDS paths *before* importing jwst pipeline\n",
    "# otherwise you'll get FileNotFoundError: [Errno 2] : No such file or directory: '$HOME/crds_cache/config/jwst/server_config'\n",
    "\n",
    "#os.environ[\"CRDS_PATH\"] = \"$HOME/crds_cache\"\n",
    "#os.environ[\"CRDS_PATH\"] = '/grp/crds/cache/' at STScI\n",
    "os.environ[\"CRDS_PATH\"] = os.path.join(home, \"crds_cache\")\n",
    "os.makedirs(os.environ['CRDS_PATH'], exist_ok=True)\n",
    "print(os.environ['CRDS_PATH'])\n",
    "\n",
    "os.environ[\"CRDS_SERVER_URL\"] = \"https://jwst-crds.stsci.edu\"\n",
    "\n",
    "import crds"
   ]
  },
  {
   "cell_type": "code",
   "execution_count": 3,
   "id": "1aa91add",
   "metadata": {},
   "outputs": [
    {
     "name": "stdout",
     "output_type": "stream",
     "text": [
      "JWST Calibration Pipeline Version = 1.13.4\n"
     ]
    }
   ],
   "source": [
    "# Import JWST pipeline \n",
    "\n",
    "import jwst\n",
    "from jwst import datamodels\n",
    "from jwst.pipeline import Detector1Pipeline   # calwebb_detector1\n",
    "from jwst.pipeline import Spec2Pipeline       # calwebb_spec2\n",
    "from jwst.pipeline import Spec3Pipeline       # calwebb_spec3\n",
    "from jwst.extract_1d import Extract1dStep     # Extract1D Individual Step\n",
    "from jwst.associations import asn_from_list   # create association file\n",
    "import json\n",
    "\n",
    "print(\"JWST Calibration Pipeline Version = {}\".format(jwst.__version__)) \n",
    "# Note if you're using a development version, it might not report the correct version number here"
   ]
  },
  {
   "cell_type": "code",
   "execution_count": 4,
   "id": "cc3f1294-e55e-4dda-99a0-ec5b206cbe03",
   "metadata": {},
   "outputs": [
    {
     "name": "stdout",
     "output_type": "stream",
     "text": [
      "Current Operational CRDS Context = jwst_1225.pmap\n"
     ]
    }
   ],
   "source": [
    "try:\n",
    "    print(\"Current Operational CRDS Context = {}\".format(crds.get_default_context()))\n",
    "except:\n",
    "    print('CRDS server not found (are you offline?)')"
   ]
  },
  {
   "cell_type": "code",
   "execution_count": 5,
   "id": "0cb15805-311b-4b6f-8069-8ee7a5dde178",
   "metadata": {},
   "outputs": [
    {
     "name": "stdout",
     "output_type": "stream",
     "text": [
      "Number of processors:  10\n"
     ]
    }
   ],
   "source": [
    "# To run faster on multiple cores in parallel\n",
    "import multiprocessing as mp \n",
    "print(\"Number of processors: \", mp.cpu_count())"
   ]
  },
  {
   "cell_type": "code",
   "execution_count": 6,
   "id": "bee1534a-cb3f-409d-af53-54a28a3eb07c",
   "metadata": {},
   "outputs": [
    {
     "name": "stdout",
     "output_type": "stream",
     "text": [
      "astroquery version 0.4.6\n"
     ]
    }
   ],
   "source": [
    "# To retrieve data from MAST\n",
    "import astroquery\n",
    "print('astroquery version', astroquery.__version__)\n",
    "from astroquery.mast import Observations, Mast\n",
    "\n",
    "from astropy.table import Table, vstack, unique"
   ]
  },
  {
   "cell_type": "code",
   "execution_count": 7,
   "id": "deec1a7c-a137-4193-bf8a-806bfbf891b5",
   "metadata": {},
   "outputs": [],
   "source": [
    "# To plot and view results\n",
    "\n",
    "import matplotlib # as mpl\n",
    "import matplotlib.pyplot as plt\n",
    "%matplotlib inline\n",
    "plt.rcParams.update({'font.size': 14})  # 18\n",
    "\n",
    "from matplotlib.patches import Rectangle\n",
    "from matplotlib.collections import PatchCollection\n",
    "import matplotlib.patheffects as pe # https://stackoverflow.com/questions/25426599/matplotlib-how-to-buffer-label-text\n",
    "\n",
    "from astropy.visualization import simple_norm, ImageNormalize, AsinhStretch, ManualInterval, LogStretch, LinearStretch\n",
    "from astropy.stats import sigma_clip, sigma_clipped_stats  # , SigmaClip"
   ]
  },
  {
   "cell_type": "code",
   "execution_count": 8,
   "id": "9003d180",
   "metadata": {},
   "outputs": [],
   "source": [
    "# Color image\n",
    "\n",
    "import PIL\n",
    "from PIL import Image, ImageEnhance\n",
    "PIL.Image.MAX_IMAGE_PIXELS = 933120000  # allow it to load large image"
   ]
  },
  {
   "cell_type": "code",
   "execution_count": 9,
   "id": "54a22e35",
   "metadata": {},
   "outputs": [],
   "source": [
    "import astropy\n",
    "#import astropy.io.fits as pyfits\n",
    "from astropy.io import fits\n",
    "import astropy.wcs as wcs\n",
    "from astropy.coordinates import SkyCoord\n",
    "import astropy.units as u\n",
    "from astropy.table import Table, vstack, unique"
   ]
  },
  {
   "cell_type": "markdown",
   "id": "02c1a4c3",
   "metadata": {},
   "source": [
    "# Helper Functions <a id='helper'></a>"
   ]
  },
  {
   "cell_type": "code",
   "execution_count": 10,
   "id": "03e82cb4",
   "metadata": {},
   "outputs": [],
   "source": [
    "# Helper function to download JWST files from MAST\n",
    "def download_jwst_files(filenames, download_dir, mast_dir='mast:jwst/product'):\n",
    "    # Download data\n",
    "    #manifest = Observations.download_products(chosen_obsIDs, download_dir=DOWNLOAD_DIR)  # , flat=True\n",
    "\n",
    "    downloaded_files = []\n",
    "    os.makedirs(download_dir, exist_ok=True)\n",
    "    for filename in filenames:\n",
    "        filename   = os.path.basename(filename)\n",
    "        mast_path  = os.path.join(mast_dir,     filename)\n",
    "        local_path = os.path.join(download_dir, filename)\n",
    "        if os.path.exists(local_path):\n",
    "            print(local_path, 'EXISTS')\n",
    "        else:\n",
    "            # Can let this command check if local file exists\n",
    "            # However, it will delete it if it's there and the wrong size (e.g., reprocessed)\n",
    "            Observations.download_file(mast_path,   local_path=local_path)\n",
    "        downloaded_files.append(local_path)\n",
    "\n",
    "    return downloaded_files"
   ]
  },
  {
   "cell_type": "code",
   "execution_count": 11,
   "id": "1c816d78",
   "metadata": {},
   "outputs": [],
   "source": [
    "from IPython.display import JSON  # nicer interactive output of JSON dictionaries\n",
    "\n",
    "def print_dict(d, indent=0): # another way to view dictionary contents\n",
    "    for key in d.keys():\n",
    "        val = d[key]\n",
    "        try:\n",
    "            keys = val.keys()\n",
    "            print(' ' * indent, key)\n",
    "            print_dict(val, indent+4)\n",
    "        except:\n",
    "            if type(val) == type([]):\n",
    "                for i, item in enumerate(val):\n",
    "                    print(' ' * indent, '[%d]' % i)\n",
    "                    print_dict(item, indent+4)\n",
    "            else:\n",
    "                print(' ' * indent, key, ':', d[key])"
   ]
  },
  {
   "cell_type": "code",
   "execution_count": 12,
   "id": "a86e2c13",
   "metadata": {},
   "outputs": [],
   "source": [
    "def between(lo, x, hi):\n",
    "    return (lo <= x) * (x <= hi)"
   ]
  },
  {
   "cell_type": "code",
   "execution_count": 13,
   "id": "c205d4d0",
   "metadata": {},
   "outputs": [],
   "source": [
    "def roundint(x):\n",
    "    return int(np.round(x))\n",
    "\n",
    "def slices_extent(x, y, dx, dy=0):\n",
    "    dy = dy or dx\n",
    "    xlo = roundint(x-dx)\n",
    "    xhi = roundint(x+dx+1)\n",
    "    ylo = roundint(y-dy)\n",
    "    yhi = roundint(y+dy+1)\n",
    "    xslice = slice(xlo, xhi)\n",
    "    yslice = slice(ylo, yhi)\n",
    "    slices = yslice, xslice\n",
    "    extent = xlo, xhi, ylo, yhi\n",
    "    return slices, extent"
   ]
  },
  {
   "cell_type": "code",
   "execution_count": 14,
   "id": "af0ae860",
   "metadata": {},
   "outputs": [],
   "source": [
    "# Helper functions to select subset of files from list\n",
    "def allin(elements, list_or_string):\n",
    "    if type(elements) == str:\n",
    "        elements = elements.split()\n",
    "    for element in elements:\n",
    "        if element not in list_or_string:\n",
    "            return False\n",
    "    return True\n",
    "\n",
    "def anyin(elements, list_or_string):\n",
    "    if type(elements) == str:\n",
    "        elements = elements.split()\n",
    "    for element in elements:\n",
    "        if element in list_or_string:\n",
    "            return True\n",
    "    return False\n",
    "\n",
    "# Select subset of files containing all search strings\n",
    "def select_files(all_files, search_strings=[]):\n",
    "    chosen_files = [file for file in all_files if allin(search_strings, file)]\n",
    "    if len(chosen_files) == 1:\n",
    "        chosen_files = chosen_files[0]\n",
    "    return chosen_files    "
   ]
  },
  {
   "cell_type": "markdown",
   "id": "358f59ba",
   "metadata": {},
   "source": [
    "# Select source"
   ]
  },
  {
   "cell_type": "code",
   "execution_count": 15,
   "id": "de037996",
   "metadata": {},
   "outputs": [],
   "source": [
    "source_id = 6355"
   ]
  },
  {
   "cell_type": "markdown",
   "id": "3bbb3984-92f7-4843-80e1-b968aea03d4a",
   "metadata": {},
   "source": [
    "# Wavelength grid"
   ]
  },
  {
   "cell_type": "markdown",
   "id": "1ab7736e",
   "metadata": {},
   "source": [
    "### S2D model WCS transform –> RA, Dec, wavelength\n",
    "\n",
    "https://jwst-pipeline.readthedocs.io/en/latest/_modules/jwst/assign_wcs/nirspec.html"
   ]
  },
  {
   "cell_type": "code",
   "execution_count": 16,
   "id": "89e7ed00",
   "metadata": {},
   "outputs": [
    {
     "data": {
      "text/plain": [
       "'spec3/jw02736-o007_s06355_nirspec_f290lp-g395m_s2d.fits'"
      ]
     },
     "execution_count": 16,
     "metadata": {},
     "output_type": "execute_result"
    }
   ],
   "source": [
    "spec3_output_dir = 'spec3'\n",
    "\n",
    "s2d_files = glob(os.path.join(spec3_output_dir, '*_s2d.fits'))\n",
    "s2d_file  = select_files(s2d_files, ['s%05d' % source_id])\n",
    "s2d_file"
   ]
  },
  {
   "cell_type": "code",
   "execution_count": 17,
   "id": "8861385b",
   "metadata": {},
   "outputs": [],
   "source": [
    "s2d_model = datamodels.open(s2d_file)\n",
    "#s2d_model.info(max_rows=99999)  # show all contents\n",
    "#s2d_data = s2d_model.data + 0"
   ]
  },
  {
   "cell_type": "code",
   "execution_count": 18,
   "id": "57182abd",
   "metadata": {},
   "outputs": [],
   "source": [
    "if 'slits' in list(s2d_model):  # s2d has all the objects; extract the one with source_id\n",
    "    source_ids = [slit.source_id for slit in s2d_model.slits]\n",
    "    i_slit = source_ids.index(source_id)\n",
    "    slit_model = s2d_model.slits[i_slit]\n",
    "else:  # s2d only has one object\n",
    "    slit_model = s2d_model\n",
    "    i_slit = 0\n",
    "\n",
    "s2d_data = slit_model.data + 0  # load and make copy\n",
    "s2d_data = np.where(slit_model.err, s2d_data, np.nan)  # Replace zeros with nan where there is no data"
   ]
  },
  {
   "cell_type": "code",
   "execution_count": 19,
   "id": "b04c5e42",
   "metadata": {},
   "outputs": [],
   "source": [
    "slit_wcs = s2d_model.meta.wcs\n",
    "y, x = np.mgrid[:s2d_data.shape[0], :s2d_data.shape[1]] # grid of pixel x,y indices \n",
    "det2sky = slit_wcs.get_transform('detector', 'world') # coordinate transform from detector pixels to sky \n",
    "ra, dec, s2d_waves = det2sky(x, y) # RA, Dec, wavelength (microns) for each pixel \n",
    "s2d_wave = s2d_waves[0, :] # only need a single row of values since this is the rectified spectrum "
   ]
  },
  {
   "cell_type": "code",
   "execution_count": 20,
   "id": "cd5bc90b",
   "metadata": {},
   "outputs": [
    {
     "data": {
      "text/plain": [
       "array([2.84863722, 2.85043148, 2.85222575, ..., 5.28289045, 5.28467829,\n",
       "       5.28646621])"
      ]
     },
     "execution_count": 20,
     "metadata": {},
     "output_type": "execute_result"
    }
   ],
   "source": [
    "s2d_wave"
   ]
  },
  {
   "cell_type": "markdown",
   "id": "b9c62f2e",
   "metadata": {},
   "source": [
    "### can also read wavelength grid from x1d file"
   ]
  },
  {
   "cell_type": "code",
   "execution_count": 21,
   "id": "9ce457f5",
   "metadata": {},
   "outputs": [
    {
     "name": "stdout",
     "output_type": "stream",
     "text": [
      "spec3/jw02736-o007_s06355_nirspec_f290lp-g395m_x1d.fits\n"
     ]
    }
   ],
   "source": [
    "# Load 1D extraction\n",
    "x1d_file = s2d_file.replace('s2d', 'x1d')\n",
    "print(x1d_file)\n",
    "x1d_model = datamodels.open(x1d_file)\n",
    "#x1d_model.info(max_rows=99999)  # show all contents"
   ]
  },
  {
   "cell_type": "code",
   "execution_count": 22,
   "id": "d25c202d",
   "metadata": {},
   "outputs": [],
   "source": [
    "x1d_wave = x1d_model.spec[i_slit].spec_table.WAVELENGTH"
   ]
  },
  {
   "cell_type": "code",
   "execution_count": 23,
   "id": "f6b54ae2",
   "metadata": {},
   "outputs": [
    {
     "data": {
      "text/plain": [
       "array([2.84863722, 2.85043148, 2.85222575, ..., 5.28289045, 5.28467829,\n",
       "       5.28646621])"
      ]
     },
     "execution_count": 23,
     "metadata": {},
     "output_type": "execute_result"
    }
   ],
   "source": [
    "x1d_wave"
   ]
  },
  {
   "cell_type": "markdown",
   "id": "fee4c1b9",
   "metadata": {},
   "source": [
    "### They're identical"
   ]
  },
  {
   "cell_type": "code",
   "execution_count": 24,
   "id": "132e64c6",
   "metadata": {},
   "outputs": [
    {
     "data": {
      "text/plain": [
       "array([-4.4408921e-16, -4.4408921e-16,  4.4408921e-16, ...,\n",
       "        0.0000000e+00,  0.0000000e+00,  0.0000000e+00])"
      ]
     },
     "execution_count": 24,
     "metadata": {},
     "output_type": "execute_result"
    }
   ],
   "source": [
    "s2d_wave - x1d_wave"
   ]
  },
  {
   "cell_type": "code",
   "execution_count": 25,
   "id": "e78a2557",
   "metadata": {},
   "outputs": [
    {
     "data": {
      "text/plain": [
       "8.881784197001252e-16"
      ]
     },
     "execution_count": 25,
     "metadata": {},
     "output_type": "execute_result"
    }
   ],
   "source": [
    "np.max(np.abs(s2d_wave - x1d_wave))"
   ]
  },
  {
   "cell_type": "markdown",
   "id": "1cdcfed8",
   "metadata": {},
   "source": [
    "# Metafile"
   ]
  },
  {
   "cell_type": "code",
   "execution_count": 26,
   "id": "851c7610",
   "metadata": {},
   "outputs": [
    {
     "data": {
      "text/plain": [
       "'jw02736007001_01_msa.fits'"
      ]
     },
     "execution_count": 26,
     "metadata": {},
     "output_type": "execute_result"
    }
   ],
   "source": [
    "msa_metafile = fits.getval(s2d_file, 'MSAMETFL')\n",
    "msa_metafile"
   ]
  },
  {
   "cell_type": "code",
   "execution_count": 27,
   "id": "338d352c",
   "metadata": {},
   "outputs": [
    {
     "name": "stdout",
     "output_type": "stream",
     "text": [
      "./jw02736007001_01_msa.fits EXISTS\n"
     ]
    }
   ],
   "source": [
    "msa_metafile = download_jwst_files([msa_metafile], './')[0]"
   ]
  },
  {
   "cell_type": "code",
   "execution_count": 28,
   "id": "cf33a7c5",
   "metadata": {},
   "outputs": [
    {
     "name": "stdout",
     "output_type": "stream",
     "text": [
      "Filename: ./jw02736007001_01_msa.fits\n",
      "No.    Name      Ver    Type      Cards   Dimensions   Format\n",
      "  0  PRIMARY       1 PrimaryHDU      16   ()      \n",
      "  1  SHUTTER_IMAGE    1 ImageHDU         8   (342, 730)   int16   \n",
      "  2  SHUTTER_INFO    1 BinTableHDU     33   1318R x 12C   [I, I, I, I, I, J, 1A, 6A, E, E, I, 1A]   \n",
      "  3  SOURCE_INFO    1 BinTableHDU     25   119R x 8C   [J, J, 20A, 31A, D, D, 30A, D]   \n"
     ]
    }
   ],
   "source": [
    "msa_hdu_list = fits.open(msa_metafile)\n",
    "msa_hdu_list.info()"
   ]
  },
  {
   "cell_type": "code",
   "execution_count": 29,
   "id": "0a2ba3ef",
   "metadata": {},
   "outputs": [
    {
     "data": {
      "text/plain": [
       "(730, 342)"
      ]
     },
     "execution_count": 29,
     "metadata": {},
     "output_type": "execute_result"
    }
   ],
   "source": [
    "msa_hdu_list['SHUTTER_IMAGE'].data.shape"
   ]
  },
  {
   "cell_type": "code",
   "execution_count": 30,
   "id": "160e66df",
   "metadata": {},
   "outputs": [],
   "source": [
    "shutter_table = Table(msa_hdu_list['SHUTTER_INFO'].data)\n",
    "#shutter_table"
   ]
  },
  {
   "cell_type": "code",
   "execution_count": 31,
   "id": "25869884",
   "metadata": {},
   "outputs": [
    {
     "data": {
      "text/plain": [
       "{1, 76}"
      ]
     },
     "execution_count": 31,
     "metadata": {},
     "output_type": "execute_result"
    }
   ],
   "source": [
    "set(shutter_table['msa_metadata_id'])  # Two MSA configs"
   ]
  },
  {
   "cell_type": "code",
   "execution_count": 32,
   "id": "86c89816",
   "metadata": {},
   "outputs": [],
   "source": [
    "source_ids = set(shutter_table['source_id'])\n",
    "source_ids = np.sort(list(source_ids))#.tolist()"
   ]
  },
  {
   "cell_type": "code",
   "execution_count": 33,
   "id": "ce8cfe06",
   "metadata": {},
   "outputs": [
    {
     "data": {
      "text/html": [
       "<div><i>Table length=1</i>\n",
       "<table id=\"table6015140112\" class=\"table-striped table-bordered table-condensed\">\n",
       "<thead><tr><th>program</th><th>source_id</th><th>source_name</th><th>alias</th><th>ra</th><th>dec</th><th>preimage_id</th><th>stellarity</th></tr></thead>\n",
       "<thead><tr><th>int32</th><th>int32</th><th>str20</th><th>str31</th><th>float64</th><th>float64</th><th>str30</th><th>float64</th></tr></thead>\n",
       "<tr><td>2736</td><td>6355</td><td>2736_6355</td><td>6355</td><td>110.84459416965377</td><td>-73.4350589621277</td><td>None</td><td>0.1</td></tr>\n",
       "</table></div>"
      ],
      "text/plain": [
       "<Table length=1>\n",
       "program source_id source_name alias         ra                dec        preimage_id stellarity\n",
       " int32    int32      str20    str31      float64            float64         str30     float64  \n",
       "------- --------- ----------- ----- ------------------ ----------------- ----------- ----------\n",
       "   2736      6355   2736_6355  6355 110.84459416965377 -73.4350589621277        None        0.1"
      ]
     },
     "execution_count": 33,
     "metadata": {},
     "output_type": "execute_result"
    }
   ],
   "source": [
    "source_table = Table(msa_hdu_list['SOURCE_INFO'].data)\n",
    "select_source_table = source_table[source_table['source_id'] == source_id]\n",
    "select_source_table"
   ]
  },
  {
   "cell_type": "code",
   "execution_count": 34,
   "id": "03a1d802",
   "metadata": {},
   "outputs": [
    {
     "data": {
      "text/plain": [
       "(110.84459416965377, -73.4350589621277)"
      ]
     },
     "execution_count": 34,
     "metadata": {},
     "output_type": "execute_result"
    }
   ],
   "source": [
    "#source_ra, source_dec = 110.8446, -73.43506\n",
    "source_ra  = select_source_table['ra'][0]\n",
    "source_dec = select_source_table['dec'][0]\n",
    "source_ra, source_dec"
   ]
  },
  {
   "cell_type": "code",
   "execution_count": 35,
   "id": "c2a4bcbb",
   "metadata": {},
   "outputs": [
    {
     "data": {
      "text/html": [
       "<div><i>Table length=5</i>\n",
       "<table id=\"table6022355216\" class=\"table-striped table-bordered table-condensed\">\n",
       "<thead><tr><th>slitlet_id</th><th>msa_metadata_id</th><th>shutter_quadrant</th><th>shutter_row</th><th>shutter_column</th><th>source_id</th><th>background</th><th>shutter_state</th><th>estimated_source_in_shutter_x</th><th>estimated_source_in_shutter_y</th><th>dither_point_index</th><th>primary_source</th></tr></thead>\n",
       "<thead><tr><th>int16</th><th>int16</th><th>int16</th><th>int16</th><th>int16</th><th>int32</th><th>str1</th><th>str6</th><th>float32</th><th>float32</th><th>int16</th><th>str1</th></tr></thead>\n",
       "<tr><td>72</td><td>1</td><td>3</td><td>138</td><td>83</td><td>6355</td><td>Y</td><td>OPEN</td><td>nan</td><td>nan</td><td>1</td><td>N</td></tr>\n",
       "<tr><td>72</td><td>1</td><td>3</td><td>138</td><td>84</td><td>6355</td><td>N</td><td>OPEN</td><td>0.46437824</td><td>0.86562544</td><td>1</td><td>Y</td></tr>\n",
       "<tr><td>72</td><td>1</td><td>3</td><td>138</td><td>85</td><td>6355</td><td>Y</td><td>OPEN</td><td>nan</td><td>nan</td><td>1</td><td>N</td></tr>\n",
       "<tr><td>72</td><td>1</td><td>3</td><td>138</td><td>86</td><td>6355</td><td>Y</td><td>OPEN</td><td>nan</td><td>nan</td><td>1</td><td>N</td></tr>\n",
       "<tr><td>72</td><td>1</td><td>3</td><td>138</td><td>87</td><td>6355</td><td>Y</td><td>OPEN</td><td>nan</td><td>nan</td><td>1</td><td>N</td></tr>\n",
       "</table></div>"
      ],
      "text/plain": [
       "<Table length=5>\n",
       "slitlet_id msa_metadata_id shutter_quadrant ... dither_point_index primary_source\n",
       "  int16         int16           int16       ...       int16             str1     \n",
       "---------- --------------- ---------------- ... ------------------ --------------\n",
       "        72               1                3 ...                  1              N\n",
       "        72               1                3 ...                  1              Y\n",
       "        72               1                3 ...                  1              N\n",
       "        72               1                3 ...                  1              N\n",
       "        72               1                3 ...                  1              N"
      ]
     },
     "execution_count": 35,
     "metadata": {},
     "output_type": "execute_result"
    }
   ],
   "source": [
    "shutter_table_dither1 = shutter_table[shutter_table['dither_point_index'] == 1]\n",
    "shutter_table_dither1 = shutter_table_dither1[shutter_table_dither1['msa_metadata_id'] == 1]\n",
    "source_select = [(id == source_id) for id in shutter_table_dither1['source_id']]\n",
    "source_shutter_table = shutter_table_dither1[source_select]\n",
    "source_shutter_table"
   ]
  },
  {
   "cell_type": "code",
   "execution_count": 36,
   "id": "7fb42a3b",
   "metadata": {},
   "outputs": [
    {
     "data": {
      "text/plain": [
       "1"
      ]
     },
     "execution_count": 36,
     "metadata": {},
     "output_type": "execute_result"
    }
   ],
   "source": [
    "i_primary = list(source_shutter_table['primary_source']).index('Y')\n",
    "i_primary"
   ]
  },
  {
   "cell_type": "markdown",
   "id": "6937d282",
   "metadata": {},
   "source": [
    "# Color Image\n",
    "\n",
    "Created with [Trilogy](https://github.com/dancoe/trilogy)\n",
    "using [NIRCam images in the DAWN JWST Archive (DJA)](https://dawn-cph.github.io/dja/imaging/v7/)"
   ]
  },
  {
   "cell_type": "code",
   "execution_count": 37,
   "id": "aa0fa43d",
   "metadata": {},
   "outputs": [],
   "source": [
    "color_image_file = '/Users/dcoe/SMACS0723/dja/v7/color/smacs0723_color_sw.png'\n",
    "im = Image.open(color_image_file)\n",
    "im = im.transpose(method=Image.FLIP_TOP_BOTTOM)\n",
    "color_image = np.asarray(im)"
   ]
  },
  {
   "cell_type": "code",
   "execution_count": 38,
   "id": "238dc1af",
   "metadata": {},
   "outputs": [
    {
     "data": {
      "text/plain": [
       "'/Users/dcoe/SMACS0723/dja/v7/images/20mas/smacs0723-grizli-v7.0-f200w-clear_drc_sci.fits'"
      ]
     },
     "execution_count": 38,
     "metadata": {},
     "output_type": "execute_result"
    }
   ],
   "source": [
    "fits_image_file = glob('/Users/dcoe/SMACS0723/dja/v7/images/20mas/*.fits')[0]\n",
    "fits_image_file  # for RA, Dec -> x, y"
   ]
  },
  {
   "cell_type": "code",
   "execution_count": 39,
   "id": "ce012d3c",
   "metadata": {
    "scrolled": true
   },
   "outputs": [
    {
     "data": {
      "text/plain": [
       "WCS Keywords\n",
       "\n",
       "Number of WCS axes: 2\n",
       "CTYPE : 'RA---TAN' 'DEC--TAN' \n",
       "CRVAL : 110.83403 -73.45429 \n",
       "CRPIX : 9182.5 13030.5 \n",
       "CD1_1 CD1_2  : -5.5555555555555e-06 0.0 \n",
       "CD2_1 CD2_2  : 0.0 5.5555555555555e-06 \n",
       "NAXIS : 24000  24000"
      ]
     },
     "execution_count": 39,
     "metadata": {},
     "output_type": "execute_result"
    }
   ],
   "source": [
    "hdu = fits.open(fits_image_file)\n",
    "idata = 0\n",
    "image_wcs = wcs.WCS(hdu[idata].header, hdu)\n",
    "image_wcs"
   ]
  },
  {
   "cell_type": "markdown",
   "id": "099da94a",
   "metadata": {},
   "source": [
    "# Mapping Slits to the Sky"
   ]
  },
  {
   "cell_type": "code",
   "execution_count": 40,
   "id": "38fd49a8",
   "metadata": {},
   "outputs": [],
   "source": [
    "slit2sky = slit_wcs.get_transform('slit_frame', 'world')"
   ]
  },
  {
   "cell_type": "code",
   "execution_count": 41,
   "id": "2fb33506",
   "metadata": {},
   "outputs": [],
   "source": [
    "x_corners = 0, 0, 1, 1 \n",
    "y_corners = 0, 1, 1, 0"
   ]
  },
  {
   "cell_type": "markdown",
   "id": "ee80922c",
   "metadata": {},
   "source": [
    "https://jira.stsci.edu/browse/JP-1341"
   ]
  },
  {
   "cell_type": "code",
   "execution_count": 42,
   "id": "90a049f1",
   "metadata": {},
   "outputs": [],
   "source": [
    "x_scale, y_scale = 1.38, 1.16  # should read more precise values from MSA reference file?"
   ]
  },
  {
   "cell_type": "code",
   "execution_count": 43,
   "id": "1812c1ce",
   "metadata": {},
   "outputs": [],
   "source": [
    "x_corners = np.array(x_corners) - 0.5\n",
    "y_corners = np.array(y_corners) - 0.5\n",
    "\n",
    "x_corners *= x_scale\n",
    "y_corners *= y_scale"
   ]
  },
  {
   "cell_type": "code",
   "execution_count": 44,
   "id": "dad46245",
   "metadata": {},
   "outputs": [],
   "source": [
    "slitlet_ra, slitlet_dec, zero = slit2sky(x_corners, y_corners, 0)"
   ]
  },
  {
   "cell_type": "code",
   "execution_count": 45,
   "id": "5c2890a0",
   "metadata": {},
   "outputs": [
    {
     "data": {
      "text/plain": [
       "(0.46437824, 0.86562544)"
      ]
     },
     "execution_count": 45,
     "metadata": {},
     "output_type": "execute_result"
    }
   ],
   "source": [
    "estimated_source_in_shutter_x = source_shutter_table['estimated_source_in_shutter_x'][i_primary]\n",
    "estimated_source_in_shutter_y = source_shutter_table['estimated_source_in_shutter_y'][i_primary]\n",
    "estimated_source_in_shutter_x, estimated_source_in_shutter_y"
   ]
  },
  {
   "cell_type": "code",
   "execution_count": 46,
   "id": "6469b7b3",
   "metadata": {},
   "outputs": [],
   "source": [
    "estimated_source_in_shutter_x -= 0.5\n",
    "estimated_source_in_shutter_y -= 0.5\n",
    "\n",
    "estimated_source_in_shutter_x *= x_scale\n",
    "estimated_source_in_shutter_y *= y_scale"
   ]
  },
  {
   "cell_type": "code",
   "execution_count": 47,
   "id": "d03f5443",
   "metadata": {},
   "outputs": [],
   "source": [
    "estimated_source_ra, estimated_source_dec, zero = slit2sky(estimated_source_in_shutter_x, estimated_source_in_shutter_y, 0)"
   ]
  },
  {
   "cell_type": "code",
   "execution_count": 48,
   "id": "855b4abe",
   "metadata": {},
   "outputs": [],
   "source": [
    "estimated_source_coordinates = SkyCoord(ra=estimated_source_ra*u.deg, dec=estimated_source_dec*u.deg)\n",
    "estimated_source_x, estimated_source_y = image_wcs.world_to_pixel(estimated_source_coordinates)"
   ]
  },
  {
   "cell_type": "code",
   "execution_count": 49,
   "id": "96bec244",
   "metadata": {},
   "outputs": [
    {
     "data": {
      "text/plain": [
       "(array(8639.75976359), array(16485.51167486))"
      ]
     },
     "execution_count": 49,
     "metadata": {},
     "output_type": "execute_result"
    }
   ],
   "source": [
    "estimated_source_x, estimated_source_y"
   ]
  },
  {
   "cell_type": "code",
   "execution_count": 50,
   "id": "6c23b88a",
   "metadata": {},
   "outputs": [],
   "source": [
    "dx_rows    = source_shutter_table['shutter_row']    - source_shutter_table['shutter_row'][i_primary]\n",
    "dy_columns = source_shutter_table['shutter_column'] - source_shutter_table['shutter_column'][i_primary]"
   ]
  },
  {
   "cell_type": "code",
   "execution_count": 51,
   "id": "ce8b66cb",
   "metadata": {},
   "outputs": [],
   "source": [
    "dx_rows    = np.array(dx_rows)    * x_scale\n",
    "dy_columns = np.array(dy_columns) * y_scale"
   ]
  },
  {
   "cell_type": "code",
   "execution_count": 52,
   "id": "c0eddf26",
   "metadata": {},
   "outputs": [
    {
     "data": {
      "text/plain": [
       "(8626.18595467079, 16475.09497540909)"
      ]
     },
     "execution_count": 52,
     "metadata": {},
     "output_type": "execute_result"
    }
   ],
   "source": [
    "xx = []\n",
    "yy = []\n",
    "\n",
    "for i in range(len(dx_rows)):\n",
    "    slitlet_ra, slitlet_dec, zero = slit2sky(x_corners + dx_rows[i], y_corners + dy_columns[i], 0)\n",
    "    slit_coordinates = SkyCoord(ra=slitlet_ra*u.deg, dec=slitlet_dec*u.deg)\n",
    "    xy = x, y = image_wcs.world_to_pixel(slit_coordinates)\n",
    "    xx.append(x)\n",
    "    yy.append(y)\n",
    "    \n",
    "dx = 75  # pixels 0.02\" -> dx = 1\" so image stamp will be 2\" on each side\n",
    "slices, extent = slices_extent(np.mean(xx), np.mean(yy), dx)\n",
    "xlo, xhi, ylo, yhi = extent\n",
    "np.mean(xx), np.mean(yy)"
   ]
  },
  {
   "cell_type": "code",
   "execution_count": 53,
   "id": "84c5a0dd",
   "metadata": {},
   "outputs": [
    {
     "data": {
      "image/png": "[encoded data removed]",
      "text/plain": [
       "<Figure size 950x600 with 1 Axes>"
      ]
     },
     "metadata": {},
     "output_type": "display_data"
    }
   ],
   "source": [
    "fig = plt.figure(figsize=(9.5, 6))\n",
    "ax = fig.add_subplot(1, 1, 1) #, projection=imwcs) # , sharex=True, sharey=True)\n",
    "ax.imshow(color_image[slices], extent=extent, origin='lower')\n",
    "\n",
    "source_coordinates = SkyCoord(ra=source_ra*u.deg, dec=source_dec*u.deg)\n",
    "source_xy = source_x, source_y = image_wcs.world_to_pixel(source_coordinates)\n",
    "plt.plot(source_x, source_y, 'o', mec=(0,0.8,0), mfc='None')\n",
    "\n",
    "dx_obs = estimated_source_x - source_x\n",
    "dy_obs = estimated_source_y - source_y\n",
    "\n",
    "for i in range(len(source_shutter_table)):\n",
    "    # Planned\n",
    "    xy = np.array([xx[i] - dx_obs, yy[i] - dy_obs]).T\n",
    "    patch = matplotlib.patches.Polygon(xy, fc='None', ec='r', alpha=1, zorder=100)\n",
    "    ax.add_patch(patch)\n",
    "\n",
    "    # Observed\n",
    "    xy = np.array([xx[i], yy[i]]).T\n",
    "    patch = matplotlib.patches.Polygon(xy, fc='None', ec='w', alpha=1, zorder=100)\n",
    "    ax.add_patch(patch)\n",
    "\n",
    "plt.plot(estimated_source_x, estimated_source_y, 'o', mec='y', mfc='None')\n",
    "\n",
    "plt.text(xlo+10, yhi-10, 'Planned',  color='r', va='top', fontsize=18)\n",
    "plt.text(xlo+10, yhi-20, 'Observed', color='w', va='top', fontsize=18)\n",
    "\n",
    "ax.axis('off')\n",
    "plt.show()"
   ]
  },
  {
   "cell_type": "code",
   "execution_count": null,
   "id": "eb43f224",
   "metadata": {},
   "outputs": [],
   "source": []
  }
 ],
 "metadata": {
  "kernelspec": {
   "display_name": "Python 3 (ipykernel)",
   "language": "python",
   "name": "python3"
  },
  "language_info": {
   "codemirror_mode": {
    "name": "ipython",
    "version": 3
   },
   "file_extension": ".py",
   "mimetype": "text/x-python",
   "name": "python",
   "nbconvert_exporter": "python",
   "pygments_lexer": "ipython3",
   "version": "3.11.7"
  }
 },
 "nbformat": 4,
 "nbformat_minor": 5
}
